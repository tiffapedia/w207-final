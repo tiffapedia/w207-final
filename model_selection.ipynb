{
 "cells": [
  {
   "cell_type": "code",
   "execution_count": 1,
   "metadata": {
    "collapsed": true
   },
   "outputs": [],
   "source": [
    "# general libraries\n",
    "import pandas as pd\n",
    "import numpy as np\n",
    "\n",
    "# plot libraries\n",
    "%matplotlib inline\n",
    "import matplotlib.pyplot as plt\n",
    "import seaborn as sns\n",
    "\n",
    "# preprocessing data (aka feature engineering)\n",
    "from sklearn.preprocessing import normalize\n",
    "\n",
    "# model selection\n",
    "from sklearn.model_selection import train_test_split\n",
    "from sklearn.model_selection import RandomizedSearchCV\n",
    "\n",
    "# model definition\n",
    "from sklearn import svm as SVM\n",
    "from sklearn.naive_bayes import GaussianNB\n",
    "from sklearn.linear_model import LogisticRegression\n",
    "from sklearn.neighbors import KNeighborsClassifier\n",
    "from sklearn.neural_network import MLPClassifier\n",
    "from sklearn.tree import DecisionTreeClassifier\n",
    "\n",
    "# ensemble\n",
    "from sklearn.ensemble import RandomForestClassifier\n",
    "from sklearn.ensemble import RandomForestRegressor\n",
    "\n",
    "# model metrics\n",
    "from sklearn.metrics import accuracy_score"
   ]
  },
  {
   "cell_type": "code",
   "execution_count": 2,
   "metadata": {
    "collapsed": true
   },
   "outputs": [],
   "source": [
    "train = pd.read_csv('./data/train.csv', header=0, sep=',', quotechar='\"', index_col='Id')\n",
    "test = pd.read_csv('./data/test.csv', header=0, sep=',', quotechar='\"', index_col='Id')\n",
    "\n",
    "# define the data\n",
    "train_data = train.drop('Cover_Type', axis=1)\n",
    "test_data = test\n",
    "\n",
    "# define the labels\n",
    "train_labels = train['Cover_Type']"
   ]
  },
  {
   "cell_type": "code",
   "execution_count": 35,
   "metadata": {},
   "outputs": [
    {
     "name": "stdout",
     "output_type": "stream",
     "text": [
      "train_data.shape: (9676, 54)\n",
      "train_labels.shape: (9676,)\n",
      "7    1728\n",
      "6    1728\n",
      "5    1728\n",
      "4    1728\n",
      "3    1728\n",
      "2    1728\n",
      "1    1728\n",
      "Name: Cover_Type, dtype: int64\n",
      "dev_data.shape: (2420, 54)\n",
      "dev_labels.shape:(2420,)\n",
      "7    432\n",
      "5    432\n",
      "3    432\n",
      "1    432\n",
      "6    432\n",
      "4    432\n",
      "2    432\n",
      "Name: Cover_Type, dtype: int64\n"
     ]
    }
   ],
   "source": [
    "# define the validation set from train data\n",
    "s_train_data, s_dev_data, s_train_labels, s_dev_labels = train_test_split(train_data, train_labels, stratify=train_labels, test_size=0.2, random_state=7)\n",
    "\n",
    "# verify the split is stratified among the different classes\n",
    "print('train_data.shape: {}'.format(s_train_data.shape))\n",
    "print('train_labels.shape: {}'.format(s_train_labels.shape))\n",
    "print(train_labels.value_counts())\n",
    "print('dev_data.shape: {}'.format(s_dev_data.shape))\n",
    "print('dev_labels.shape:{}'.format(s_dev_labels.shape))\n",
    "print(dev_labels.value_counts())"
   ]
  },
  {
   "cell_type": "markdown",
   "metadata": {},
   "source": [
    "| Name                               | Measurement     | Description                                               |\n",
    "| ----------------------------------:| ---------------:| ---------------------------------------------------------:|\n",
    "| Elevation                          | meters          | Height above sea level                                    |\n",
    "| Aspect                             | degrees azimuth | Compass direction that a slope faces<br/>0: North, 90: East, 180: South, 270: West<br/>Potential influence on temperature and soil | \n",
    "| Slope                              | degrees         | Degree of incline of a surface<br/>In other words, maximum rate of change of elevation<br/>Has gradient and aspect as components                                                     | \n",
    "| Horizontal_Distance_To_Hydrology   | meters          | Horizontal Distance to the nearest surface water features | \n",
    "| Vertical_Distance_To_Hydrology     | meters          | Vertical Distance to the nearest surface water features   | \n",
    "| Horizontal_Distance_To_Roadways    | meters          | Horizontal distance to the nearest roadway                | \n",
    "| Horizontal_Distance_To_Fire_Points | meters          | Horizontal distance to the nearest wildfire ignition points | \n",
    "| Hillshade_9am                      | 0 (dark) to 255 (light) | Hillshade index at 9 AM, summer solstice | \n",
    "| Hillshade_Noon                     | 0 (dark) to 255 (light) | Hillshade index at 12 PM, summer solstice | \n",
    "| Hillshade_3pm                      | 0 (dark) to 255 (light) | Hillshade index at 3 PM, summer solstice | \n",
    "| Wilderness_Area (4 binary columns) | 0 (absent) or 1 (present) | Wilderness area designation<br/>1: Rawah, 2: Neota, 3: Comanche, 4: Cache la Poudre | \n",
    "| Soil_Type (40 binary columns)      | 0 (absent) or 1 (present) | Soil type designation |"
   ]
  },
  {
   "cell_type": "markdown",
   "metadata": {},
   "source": [
    "# Feature Engineering\n",
    "\n",
    "https://jakevdp.github.io/PythonDataScienceHandbook/05.04-feature-engineering.html\n",
    "\n",
    "Use pipeline to perform the following feature engineering:\n",
    "\n",
    "1. imputation of missing data -> hillsdale\n",
    "2. normalization: rescaling values to range 0 and 1\n",
    "\n",
    "No need to do: \n",
    "\n",
    "1. We do not need to apply one-hot encoding to Wilderness_Areas and Soil_Type because they are already aptly converted to their respective categorical features.\n",
    "2. standardization: shift distribution to have mean zero and sd of one"
   ]
  },
  {
   "cell_type": "code",
   "execution_count": 39,
   "metadata": {
    "collapsed": true
   },
   "outputs": [],
   "source": [
    "train_feat_data = train_data.copy()"
   ]
  },
  {
   "cell_type": "markdown",
   "metadata": {},
   "source": [
    "## Hillsdale\n",
    "\n",
    "1. binary scale\n",
    "2. normalize the data"
   ]
  },
  {
   "cell_type": "code",
   "execution_count": 25,
   "metadata": {
    "scrolled": false
   },
   "outputs": [
    {
     "data": {
      "image/png": "[encoded data removed]",
      "text/plain": [
       "<matplotlib.figure.Figure at 0x1253a34a8>"
      ]
     },
     "metadata": {},
     "output_type": "display_data"
    }
   ],
   "source": [
    "plt.hist(train_data['Hillshade_9am']);"
   ]
  },
  {
   "cell_type": "code",
   "execution_count": 26,
   "metadata": {
    "scrolled": true
   },
   "outputs": [
    {
     "data": {
      "image/png": "[encoded data removed]",
      "text/plain": [
       "<matplotlib.figure.Figure at 0x120843ac8>"
      ]
     },
     "metadata": {},
     "output_type": "display_data"
    }
   ],
   "source": [
    "plt.hist(train_data['Hillshade_Noon']);"
   ]
  },
  {
   "cell_type": "code",
   "execution_count": 27,
   "metadata": {},
   "outputs": [
    {
     "data": {
      "image/png": "[encoded data removed]",
      "text/plain": [
       "<matplotlib.figure.Figure at 0x1208432b0>"
      ]
     },
     "metadata": {},
     "output_type": "display_data"
    }
   ],
   "source": [
    "plt.hist(train_data['Hillshade_3pm']);"
   ]
  },
  {
   "cell_type": "code",
   "execution_count": 22,
   "metadata": {
    "scrolled": true
   },
   "outputs": [
    {
     "data": {
      "image/png": "[encoded data removed]",
      "text/plain": [
       "<matplotlib.figure.Figure at 0x12539b550>"
      ]
     },
     "metadata": {},
     "output_type": "display_data"
    }
   ],
   "source": [
    "normalize_hillshade = normalize(train_data[['Hillshade_9am', 'Hillshade_Noon', 'Hillshade_3pm']], axis=0)\n",
    "plt.hist(normalize_hillshade);"
   ]
  },
  {
   "cell_type": "code",
   "execution_count": 40,
   "metadata": {},
   "outputs": [],
   "source": [
    "train_feat_data['Hillshade_9am'] = normalize_hillshade[:, 0]\n",
    "train_feat_data['Hillshade_Noon'] = normalize_hillshade[:, 1]\n",
    "train_feat_data['Hillshade_3pm'] = normalize_hillshade[:, 2]"
   ]
  },
  {
   "cell_type": "code",
   "execution_count": 41,
   "metadata": {},
   "outputs": [
    {
     "name": "stdout",
     "output_type": "stream",
     "text": [
      "train_data.shape: (9676, 54)\n",
      "train_labels.shape: (9676,)\n",
      "6    1383\n",
      "3    1383\n",
      "7    1382\n",
      "5    1382\n",
      "4    1382\n",
      "2    1382\n",
      "1    1382\n",
      "Name: Cover_Type, dtype: int64\n",
      "dev_data.shape: (2420, 54)\n",
      "dev_labels.shape:(2420,)\n",
      "7    346\n",
      "5    346\n",
      "1    346\n",
      "4    346\n",
      "2    346\n",
      "3    345\n",
      "6    345\n",
      "Name: Cover_Type, dtype: int64\n"
     ]
    }
   ],
   "source": [
    "# define the validation set from featured engineering train data\n",
    "f_train_data, f_dev_data, f_train_labels, f_dev_labels = train_test_split(train_feat_data, train_labels, stratify=train_labels, test_size=0.2, random_state=7)\n",
    "\n",
    "# verify the split is stratified among the different classes\n",
    "print('train_data.shape: {}'.format(f_train_data.shape))\n",
    "print('train_labels.shape: {}'.format(f_train_labels.shape))\n",
    "print(f_train_labels.value_counts())\n",
    "print('dev_data.shape: {}'.format(f_dev_data.shape))\n",
    "print('dev_labels.shape:{}'.format(f_dev_labels.shape))\n",
    "print(f_dev_labels.value_counts())"
   ]
  },
  {
   "cell_type": "markdown",
   "metadata": {},
   "source": [
    "# Models\n",
    "\n",
    "http://scikit-learn.org/stable/modules/multiclass.html"
   ]
  },
  {
   "cell_type": "code",
   "execution_count": 83,
   "metadata": {},
   "outputs": [
    {
     "name": "stdout",
     "output_type": "stream",
     "text": [
      "goal better than 0.14285714285714285\n"
     ]
    },
    {
     "data": {
      "text/html": [
       "<div>\n",
       "<style>\n",
       "    .dataframe thead tr:only-child th {\n",
       "        text-align: right;\n",
       "    }\n",
       "\n",
       "    .dataframe thead th {\n",
       "        text-align: left;\n",
       "    }\n",
       "\n",
       "    .dataframe tbody tr th {\n",
       "        vertical-align: top;\n",
       "    }\n",
       "</style>\n",
       "<table border=\"1\" class=\"dataframe\">\n",
       "  <thead>\n",
       "    <tr style=\"text-align: right;\">\n",
       "      <th></th>\n",
       "      <th>Base Case</th>\n",
       "      <th>Base Case + FE</th>\n",
       "    </tr>\n",
       "  </thead>\n",
       "  <tbody>\n",
       "    <tr>\n",
       "      <th>Logistic Regression</th>\n",
       "      <td>0.658264</td>\n",
       "      <td>0.616529</td>\n",
       "    </tr>\n",
       "    <tr>\n",
       "      <th>Naive Bayes</th>\n",
       "      <td>0.591322</td>\n",
       "      <td>0.591322</td>\n",
       "    </tr>\n",
       "    <tr>\n",
       "      <th>KNN</th>\n",
       "      <td>0.789669</td>\n",
       "      <td>0.789669</td>\n",
       "    </tr>\n",
       "    <tr>\n",
       "      <th>SVM</th>\n",
       "      <td>0.148347</td>\n",
       "      <td>0.148347</td>\n",
       "    </tr>\n",
       "    <tr>\n",
       "      <th>Decision Trees</th>\n",
       "      <td>0.780992</td>\n",
       "      <td>0.779752</td>\n",
       "    </tr>\n",
       "    <tr>\n",
       "      <th>Neural Networks</th>\n",
       "      <td>0.415289</td>\n",
       "      <td>0.482231</td>\n",
       "    </tr>\n",
       "  </tbody>\n",
       "</table>\n",
       "</div>"
      ],
      "text/plain": [
       "                     Base Case  Base Case + FE\n",
       "Logistic Regression   0.658264        0.616529\n",
       "Naive Bayes           0.591322        0.591322\n",
       "KNN                   0.789669        0.789669\n",
       "SVM                   0.148347        0.148347\n",
       "Decision Trees        0.780992        0.779752\n",
       "Neural Networks       0.415289        0.482231"
      ]
     },
     "execution_count": 83,
     "metadata": {},
     "output_type": "execute_result"
    }
   ],
   "source": [
    "print('goal better than {}'.format(1/7))\n",
    "pd.DataFrame({'Base Case': output_bc, 'Base Case + FE': output_bcfe}, \n",
    "             columns=['Base Case', 'Base Case + FE'],\n",
    "             index=['Logistic Regression', 'Naive Bayes', 'KNN', 'SVM', 'Decision Trees', 'Neural Networks'])"
   ]
  },
  {
   "cell_type": "markdown",
   "metadata": {},
   "source": [
    "* Base case: KNN, Decision Trees\n",
    "* Base case + FE:\n",
    "  * improve: NN\n",
    "  * worsen: LR, Decision Trees"
   ]
  },
  {
   "cell_type": "markdown",
   "metadata": {},
   "source": [
    "## Base case"
   ]
  },
  {
   "cell_type": "code",
   "execution_count": 54,
   "metadata": {
    "collapsed": true
   },
   "outputs": [],
   "source": [
    "output_bc = []"
   ]
  },
  {
   "cell_type": "markdown",
   "metadata": {},
   "source": [
    "### Logistic Regression"
   ]
  },
  {
   "cell_type": "code",
   "execution_count": 55,
   "metadata": {},
   "outputs": [
    {
     "data": {
      "text/plain": [
       "LogisticRegression(C=1.0, class_weight=None, dual=False, fit_intercept=True,\n",
       "          intercept_scaling=1, max_iter=100, multi_class='ovr', n_jobs=1,\n",
       "          penalty='l2', random_state=None, solver='liblinear', tol=0.0001,\n",
       "          verbose=0, warm_start=False)"
      ]
     },
     "execution_count": 55,
     "metadata": {},
     "output_type": "execute_result"
    }
   ],
   "source": [
    "lr = LogisticRegression()\n",
    "lr.fit(s_train_data, s_train_labels)"
   ]
  },
  {
   "cell_type": "code",
   "execution_count": 56,
   "metadata": {},
   "outputs": [
    {
     "data": {
      "text/plain": [
       "0.6582644628099174"
      ]
     },
     "execution_count": 56,
     "metadata": {},
     "output_type": "execute_result"
    }
   ],
   "source": [
    "accuracies = []\n",
    "for i in range(1, 10):\n",
    "    pred_dev_labels = lr.predict(s_dev_data)\n",
    "    accuracies.append(accuracy_score(s_dev_labels, pred_dev_labels))\n",
    "mean_accuracies = sum(accuracies)/len(accuracies)\n",
    "output_bc.append(mean_accuracies)\n",
    "mean_accuracies"
   ]
  },
  {
   "cell_type": "markdown",
   "metadata": {},
   "source": [
    "### Naive Bayes"
   ]
  },
  {
   "cell_type": "code",
   "execution_count": 57,
   "metadata": {},
   "outputs": [
    {
     "data": {
      "text/plain": [
       "GaussianNB(priors=None)"
      ]
     },
     "execution_count": 57,
     "metadata": {},
     "output_type": "execute_result"
    }
   ],
   "source": [
    "nb = GaussianNB()\n",
    "nb.fit(s_train_data, s_train_labels)"
   ]
  },
  {
   "cell_type": "code",
   "execution_count": 58,
   "metadata": {},
   "outputs": [
    {
     "data": {
      "text/plain": [
       "0.5913223140495868"
      ]
     },
     "execution_count": 58,
     "metadata": {},
     "output_type": "execute_result"
    }
   ],
   "source": [
    "accuracies = []\n",
    "for i in range(1, 10):\n",
    "    pred_dev_labels = nb.predict(s_dev_data)\n",
    "    accuracies.append(accuracy_score(s_dev_labels, pred_dev_labels))\n",
    "mean_accuracies = sum(accuracies)/len(accuracies)\n",
    "output_bc.append(mean_accuracies)\n",
    "mean_accuracies"
   ]
  },
  {
   "cell_type": "markdown",
   "metadata": {},
   "source": [
    "### K-Nearest Neighbors"
   ]
  },
  {
   "cell_type": "code",
   "execution_count": 59,
   "metadata": {},
   "outputs": [
    {
     "data": {
      "text/plain": [
       "KNeighborsClassifier(algorithm='auto', leaf_size=30, metric='minkowski',\n",
       "           metric_params=None, n_jobs=1, n_neighbors=5, p=2,\n",
       "           weights='uniform')"
      ]
     },
     "execution_count": 59,
     "metadata": {},
     "output_type": "execute_result"
    }
   ],
   "source": [
    "knn = KNeighborsClassifier()\n",
    "knn.fit(s_train_data, s_train_labels)"
   ]
  },
  {
   "cell_type": "code",
   "execution_count": 60,
   "metadata": {},
   "outputs": [
    {
     "data": {
      "text/plain": [
       "0.7896694214876032"
      ]
     },
     "execution_count": 60,
     "metadata": {},
     "output_type": "execute_result"
    }
   ],
   "source": [
    "accuracies = []\n",
    "for i in range(1, 10):\n",
    "    pred_dev_labels = knn.predict(s_dev_data)\n",
    "    accuracies.append(accuracy_score(s_dev_labels, pred_dev_labels))\n",
    "mean_accuracies = sum(accuracies)/len(accuracies)\n",
    "output_bc.append(mean_accuracies)\n",
    "mean_accuracies"
   ]
  },
  {
   "cell_type": "markdown",
   "metadata": {},
   "source": [
    "### Support Vector Machine"
   ]
  },
  {
   "cell_type": "code",
   "execution_count": 61,
   "metadata": {
    "scrolled": true
   },
   "outputs": [
    {
     "data": {
      "text/plain": [
       "SVC(C=1.0, cache_size=200, class_weight=None, coef0=0.0,\n",
       "  decision_function_shape=None, degree=3, gamma='auto', kernel='rbf',\n",
       "  max_iter=-1, probability=False, random_state=None, shrinking=True,\n",
       "  tol=0.001, verbose=False)"
      ]
     },
     "execution_count": 61,
     "metadata": {},
     "output_type": "execute_result"
    }
   ],
   "source": [
    "svm = SVM.SVC() \n",
    "svm.fit(s_train_data, s_train_labels)"
   ]
  },
  {
   "cell_type": "code",
   "execution_count": 62,
   "metadata": {},
   "outputs": [
    {
     "data": {
      "text/plain": [
       "0.14834710743801652"
      ]
     },
     "execution_count": 62,
     "metadata": {},
     "output_type": "execute_result"
    }
   ],
   "source": [
    "accuracies = []\n",
    "for i in range(1, 10):\n",
    "    pred_dev_labels = svm.predict(s_dev_data)\n",
    "    accuracies.append(accuracy_score(s_dev_labels, pred_dev_labels))\n",
    "mean_accuracies = sum(accuracies)/len(accuracies)\n",
    "output_bc.append(mean_accuracies)\n",
    "mean_accuracies"
   ]
  },
  {
   "cell_type": "markdown",
   "metadata": {},
   "source": [
    "### Decision Trees"
   ]
  },
  {
   "cell_type": "code",
   "execution_count": 63,
   "metadata": {},
   "outputs": [
    {
     "data": {
      "text/plain": [
       "DecisionTreeClassifier(class_weight=None, criterion='gini', max_depth=None,\n",
       "            max_features=None, max_leaf_nodes=None,\n",
       "            min_impurity_split=1e-07, min_samples_leaf=1,\n",
       "            min_samples_split=2, min_weight_fraction_leaf=0.0,\n",
       "            presort=False, random_state=None, splitter='best')"
      ]
     },
     "execution_count": 63,
     "metadata": {},
     "output_type": "execute_result"
    }
   ],
   "source": [
    "dt = DecisionTreeClassifier()\n",
    "dt.fit(s_train_data, s_train_labels)"
   ]
  },
  {
   "cell_type": "code",
   "execution_count": 64,
   "metadata": {},
   "outputs": [
    {
     "data": {
      "text/plain": [
       "0.78099173553719"
      ]
     },
     "execution_count": 64,
     "metadata": {},
     "output_type": "execute_result"
    }
   ],
   "source": [
    "accuracies = []\n",
    "for i in range(1, 10):\n",
    "    pred_dev_labels = dt.predict(s_dev_data)\n",
    "    accuracies.append(accuracy_score(s_dev_labels, pred_dev_labels))\n",
    "mean_accuracies = sum(accuracies)/len(accuracies)\n",
    "output_bc.append(mean_accuracies)\n",
    "mean_accuracies"
   ]
  },
  {
   "cell_type": "markdown",
   "metadata": {},
   "source": [
    "### Neural Networks"
   ]
  },
  {
   "cell_type": "code",
   "execution_count": 65,
   "metadata": {},
   "outputs": [
    {
     "data": {
      "text/plain": [
       "MLPClassifier(activation='relu', alpha=0.0001, batch_size='auto', beta_1=0.9,\n",
       "       beta_2=0.999, early_stopping=False, epsilon=1e-08,\n",
       "       hidden_layer_sizes=(100,), learning_rate='constant',\n",
       "       learning_rate_init=0.001, max_iter=200, momentum=0.9,\n",
       "       nesterovs_momentum=True, power_t=0.5, random_state=None,\n",
       "       shuffle=True, solver='adam', tol=0.0001, validation_fraction=0.1,\n",
       "       verbose=False, warm_start=False)"
      ]
     },
     "execution_count": 65,
     "metadata": {},
     "output_type": "execute_result"
    }
   ],
   "source": [
    "mlp = MLPClassifier()\n",
    "mlp.fit(s_train_data, s_train_labels)"
   ]
  },
  {
   "cell_type": "code",
   "execution_count": 66,
   "metadata": {
    "scrolled": true
   },
   "outputs": [
    {
     "data": {
      "text/plain": [
       "0.41528925619834706"
      ]
     },
     "execution_count": 66,
     "metadata": {},
     "output_type": "execute_result"
    }
   ],
   "source": [
    "accuracies = []\n",
    "for i in range(1, 10):\n",
    "    pred_dev_labels = mlp.predict(s_dev_data)\n",
    "    accuracies.append(accuracy_score(s_dev_labels, pred_dev_labels))\n",
    "mean_accuracies = sum(accuracies)/len(accuracies)\n",
    "output_bc.append(mean_accuracies)\n",
    "mean_accuracies"
   ]
  },
  {
   "cell_type": "markdown",
   "metadata": {},
   "source": [
    "## Base case + feature engineering "
   ]
  },
  {
   "cell_type": "code",
   "execution_count": 68,
   "metadata": {
    "collapsed": true
   },
   "outputs": [],
   "source": [
    "output_bcfe = []"
   ]
  },
  {
   "cell_type": "markdown",
   "metadata": {},
   "source": [
    "### Logistic Regression"
   ]
  },
  {
   "cell_type": "code",
   "execution_count": 69,
   "metadata": {},
   "outputs": [
    {
     "data": {
      "text/plain": [
       "LogisticRegression(C=1.0, class_weight=None, dual=False, fit_intercept=True,\n",
       "          intercept_scaling=1, max_iter=100, multi_class='ovr', n_jobs=1,\n",
       "          penalty='l2', random_state=None, solver='liblinear', tol=0.0001,\n",
       "          verbose=0, warm_start=False)"
      ]
     },
     "execution_count": 69,
     "metadata": {},
     "output_type": "execute_result"
    }
   ],
   "source": [
    "lr = LogisticRegression()\n",
    "lr.fit(f_train_data, f_train_labels)"
   ]
  },
  {
   "cell_type": "code",
   "execution_count": 70,
   "metadata": {},
   "outputs": [
    {
     "data": {
      "text/plain": [
       "0.6165289256198347"
      ]
     },
     "execution_count": 70,
     "metadata": {},
     "output_type": "execute_result"
    }
   ],
   "source": [
    "accuracies = []\n",
    "for i in range(1, 10):\n",
    "    pred_dev_labels = lr.predict(f_dev_data)\n",
    "    accuracies.append(accuracy_score(f_dev_labels, pred_dev_labels))\n",
    "mean_accuracies = sum(accuracies)/len(accuracies)\n",
    "output_bcfe.append(mean_accuracies)\n",
    "mean_accuracies"
   ]
  },
  {
   "cell_type": "markdown",
   "metadata": {},
   "source": [
    "### Naive Bayes"
   ]
  },
  {
   "cell_type": "code",
   "execution_count": 71,
   "metadata": {},
   "outputs": [
    {
     "data": {
      "text/plain": [
       "GaussianNB(priors=None)"
      ]
     },
     "execution_count": 71,
     "metadata": {},
     "output_type": "execute_result"
    }
   ],
   "source": [
    "nb = GaussianNB()\n",
    "nb.fit(s_train_data, s_train_labels)"
   ]
  },
  {
   "cell_type": "code",
   "execution_count": 72,
   "metadata": {},
   "outputs": [
    {
     "data": {
      "text/plain": [
       "0.5913223140495868"
      ]
     },
     "execution_count": 72,
     "metadata": {},
     "output_type": "execute_result"
    }
   ],
   "source": [
    "accuracies = []\n",
    "for i in range(1, 10):\n",
    "    pred_dev_labels = nb.predict(s_dev_data)\n",
    "    accuracies.append(accuracy_score(s_dev_labels, pred_dev_labels))\n",
    "mean_accuracies = sum(accuracies)/len(accuracies)\n",
    "output_bcfe.append(mean_accuracies)\n",
    "mean_accuracies"
   ]
  },
  {
   "cell_type": "markdown",
   "metadata": {},
   "source": [
    "### K-Nearest Neighbors"
   ]
  },
  {
   "cell_type": "code",
   "execution_count": 73,
   "metadata": {},
   "outputs": [
    {
     "data": {
      "text/plain": [
       "KNeighborsClassifier(algorithm='auto', leaf_size=30, metric='minkowski',\n",
       "           metric_params=None, n_jobs=1, n_neighbors=5, p=2,\n",
       "           weights='uniform')"
      ]
     },
     "execution_count": 73,
     "metadata": {},
     "output_type": "execute_result"
    }
   ],
   "source": [
    "knn = KNeighborsClassifier()\n",
    "knn.fit(s_train_data, s_train_labels)"
   ]
  },
  {
   "cell_type": "code",
   "execution_count": 74,
   "metadata": {},
   "outputs": [
    {
     "data": {
      "text/plain": [
       "0.7896694214876032"
      ]
     },
     "execution_count": 74,
     "metadata": {},
     "output_type": "execute_result"
    }
   ],
   "source": [
    "accuracies = []\n",
    "for i in range(1, 10):\n",
    "    pred_dev_labels = knn.predict(s_dev_data)\n",
    "    accuracies.append(accuracy_score(s_dev_labels, pred_dev_labels))\n",
    "mean_accuracies = sum(accuracies)/len(accuracies)\n",
    "output_bcfe.append(mean_accuracies)\n",
    "mean_accuracies"
   ]
  },
  {
   "cell_type": "markdown",
   "metadata": {},
   "source": [
    "### Support Vector Machine"
   ]
  },
  {
   "cell_type": "code",
   "execution_count": 75,
   "metadata": {},
   "outputs": [
    {
     "data": {
      "text/plain": [
       "SVC(C=1.0, cache_size=200, class_weight=None, coef0=0.0,\n",
       "  decision_function_shape=None, degree=3, gamma='auto', kernel='rbf',\n",
       "  max_iter=-1, probability=False, random_state=None, shrinking=True,\n",
       "  tol=0.001, verbose=False)"
      ]
     },
     "execution_count": 75,
     "metadata": {},
     "output_type": "execute_result"
    }
   ],
   "source": [
    "svm = SVM.SVC() \n",
    "svm.fit(s_train_data, s_train_labels)"
   ]
  },
  {
   "cell_type": "code",
   "execution_count": 76,
   "metadata": {},
   "outputs": [
    {
     "data": {
      "text/plain": [
       "0.14834710743801652"
      ]
     },
     "execution_count": 76,
     "metadata": {},
     "output_type": "execute_result"
    }
   ],
   "source": [
    "accuracies = []\n",
    "for i in range(1, 10):\n",
    "    pred_dev_labels = svm.predict(s_dev_data)\n",
    "    accuracies.append(accuracy_score(s_dev_labels, pred_dev_labels))\n",
    "mean_accuracies = sum(accuracies)/len(accuracies)\n",
    "output_bcfe.append(mean_accuracies)\n",
    "mean_accuracies"
   ]
  },
  {
   "cell_type": "markdown",
   "metadata": {},
   "source": [
    "### Decision Trees"
   ]
  },
  {
   "cell_type": "code",
   "execution_count": 77,
   "metadata": {},
   "outputs": [
    {
     "data": {
      "text/plain": [
       "DecisionTreeClassifier(class_weight=None, criterion='gini', max_depth=None,\n",
       "            max_features=None, max_leaf_nodes=None,\n",
       "            min_impurity_split=1e-07, min_samples_leaf=1,\n",
       "            min_samples_split=2, min_weight_fraction_leaf=0.0,\n",
       "            presort=False, random_state=None, splitter='best')"
      ]
     },
     "execution_count": 77,
     "metadata": {},
     "output_type": "execute_result"
    }
   ],
   "source": [
    "dt = DecisionTreeClassifier()\n",
    "dt.fit(s_train_data, s_train_labels)"
   ]
  },
  {
   "cell_type": "code",
   "execution_count": 78,
   "metadata": {},
   "outputs": [
    {
     "data": {
      "text/plain": [
       "0.7797520661157025"
      ]
     },
     "execution_count": 78,
     "metadata": {},
     "output_type": "execute_result"
    }
   ],
   "source": [
    "accuracies = []\n",
    "for i in range(1, 10):\n",
    "    pred_dev_labels = dt.predict(s_dev_data)\n",
    "    accuracies.append(accuracy_score(s_dev_labels, pred_dev_labels))\n",
    "mean_accuracies = sum(accuracies)/len(accuracies)\n",
    "output_bcfe.append(mean_accuracies)\n",
    "mean_accuracies"
   ]
  },
  {
   "cell_type": "markdown",
   "metadata": {},
   "source": [
    "### Neural Networks"
   ]
  },
  {
   "cell_type": "code",
   "execution_count": 79,
   "metadata": {},
   "outputs": [
    {
     "data": {
      "text/plain": [
       "MLPClassifier(activation='relu', alpha=0.0001, batch_size='auto', beta_1=0.9,\n",
       "       beta_2=0.999, early_stopping=False, epsilon=1e-08,\n",
       "       hidden_layer_sizes=(100,), learning_rate='constant',\n",
       "       learning_rate_init=0.001, max_iter=200, momentum=0.9,\n",
       "       nesterovs_momentum=True, power_t=0.5, random_state=None,\n",
       "       shuffle=True, solver='adam', tol=0.0001, validation_fraction=0.1,\n",
       "       verbose=False, warm_start=False)"
      ]
     },
     "execution_count": 79,
     "metadata": {},
     "output_type": "execute_result"
    }
   ],
   "source": [
    "mlp = MLPClassifier()\n",
    "mlp.fit(s_train_data, s_train_labels)"
   ]
  },
  {
   "cell_type": "code",
   "execution_count": 80,
   "metadata": {},
   "outputs": [
    {
     "data": {
      "text/plain": [
       "0.48223140495867767"
      ]
     },
     "execution_count": 80,
     "metadata": {},
     "output_type": "execute_result"
    }
   ],
   "source": [
    "accuracies = []\n",
    "for i in range(1, 10):\n",
    "    pred_dev_labels = mlp.predict(s_dev_data)\n",
    "    accuracies.append(accuracy_score(s_dev_labels, pred_dev_labels))\n",
    "mean_accuracies = sum(accuracies)/len(accuracies)\n",
    "output_bcfe.append(mean_accuracies)\n",
    "mean_accuracies"
   ]
  },
  {
   "cell_type": "markdown",
   "metadata": {},
   "source": [
    "# Ensemble\n",
    "\n",
    "5. Random Forest Classifier: 0.85"
   ]
  },
  {
   "cell_type": "markdown",
   "metadata": {},
   "source": [
    "## Random Forest Classifier"
   ]
  },
  {
   "cell_type": "code",
   "execution_count": 18,
   "metadata": {
    "collapsed": true
   },
   "outputs": [],
   "source": [
    "# random forest classifier\n",
    "rfc = RandomForestClassifier(n_estimators=100, bootstrap=True, oob_score=True)\n",
    "rfc.fit(s_train_data, s_train_labels)"
   ]
  },
  {
   "cell_type": "code",
   "execution_count": 19,
   "metadata": {},
   "outputs": [
    {
     "data": {
      "text/plain": [
       "Elevation                             0.223938\n",
       "Horizontal_Distance_To_Roadways       0.090755\n",
       "Horizontal_Distance_To_Fire_Points    0.070323\n",
       "Horizontal_Distance_To_Hydrology      0.061129\n",
       "Vertical_Distance_To_Hydrology        0.054250\n",
       "Hillshade_9am                         0.052386\n",
       "Aspect                                0.050171\n",
       "Hillshade_3pm                         0.048305\n",
       "Hillshade_Noon                        0.045834\n",
       "Wilderness_Area4                      0.040295\n",
       "Slope                                 0.037330\n",
       "Soil_Type10                           0.022140\n",
       "Soil_Type38                           0.021733\n",
       "Soil_Type39                           0.020034\n",
       "Soil_Type3                            0.019868\n",
       "Wilderness_Area3                      0.018959\n",
       "Wilderness_Area1                      0.017509\n",
       "Soil_Type4                            0.012765\n",
       "Soil_Type40                           0.010758\n",
       "Soil_Type30                           0.007383\n",
       "Soil_Type17                           0.006751\n",
       "Soil_Type2                            0.006389\n",
       "Soil_Type13                           0.005843\n",
       "Soil_Type29                           0.005568\n",
       "Soil_Type22                           0.004947\n",
       "Soil_Type32                           0.004901\n",
       "Soil_Type23                           0.004645\n",
       "Soil_Type12                           0.004539\n",
       "Wilderness_Area2                      0.003832\n",
       "Soil_Type33                           0.003577\n",
       "Soil_Type11                           0.003218\n",
       "Soil_Type6                            0.003005\n",
       "Soil_Type35                           0.002661\n",
       "Soil_Type24                           0.002431\n",
       "Soil_Type31                           0.002259\n",
       "Soil_Type1                            0.001676\n",
       "Soil_Type20                           0.001525\n",
       "Soil_Type5                            0.001058\n",
       "Soil_Type16                           0.001043\n",
       "Soil_Type14                           0.000823\n",
       "Soil_Type18                           0.000814\n",
       "Soil_Type37                           0.000611\n",
       "Soil_Type26                           0.000541\n",
       "Soil_Type19                           0.000458\n",
       "Soil_Type34                           0.000289\n",
       "Soil_Type27                           0.000219\n",
       "Soil_Type28                           0.000170\n",
       "Soil_Type36                           0.000110\n",
       "Soil_Type21                           0.000106\n",
       "Soil_Type9                            0.000106\n",
       "Soil_Type25                           0.000014\n",
       "Soil_Type8                            0.000007\n",
       "Soil_Type15                           0.000000\n",
       "Soil_Type7                            0.000000\n",
       "dtype: float64"
      ]
     },
     "execution_count": 19,
     "metadata": {},
     "output_type": "execute_result"
    }
   ],
   "source": [
    "# listing important features\n",
    "feature_imp = pd.Series(rfc.feature_importances_, index=s_train_data.columns).sort_values(ascending=False)\n",
    "feature_imp"
   ]
  },
  {
   "cell_type": "code",
   "execution_count": 20,
   "metadata": {
    "scrolled": false
   },
   "outputs": [
    {
     "data": {
      "image/png": "[encoded data removed]",
      "text/plain": [
       "<matplotlib.figure.Figure at 0x11c1235c0>"
      ]
     },
     "metadata": {},
     "output_type": "display_data"
    }
   ],
   "source": [
    "# plot important features\n",
    "fig, ax = plt.subplots(figsize=(10,10))\n",
    "ax = sns.barplot(x=feature_imp, y=feature_imp.index, ax=ax)\n",
    "plt.xlabel('Feature Importance Score')\n",
    "plt.ylabel('Features')\n",
    "plt.title('Visualizing Important Features')\n",
    "plt.show()"
   ]
  },
  {
   "cell_type": "code",
   "execution_count": 21,
   "metadata": {},
   "outputs": [
    {
     "data": {
      "text/plain": [
       "0.8581349206349207"
      ]
     },
     "execution_count": 21,
     "metadata": {},
     "output_type": "execute_result"
    }
   ],
   "source": [
    "accuracies = []\n",
    "for i in range(1, 10):\n",
    "    pred_dev_labels = rfc.predict(s_dev_data)\n",
    "    accuracies.append(accuracy_score(s_dev_labels, pred_dev_labels))\n",
    "sum(accuracies)/len(accuracies)"
   ]
  },
  {
   "cell_type": "code",
   "execution_count": null,
   "metadata": {
    "collapsed": true
   },
   "outputs": [],
   "source": [
    "accuracies = []\n",
    "for i in range(1, 10):\n",
    "    pred_dev_labels = rfc.predict(f_dev_data)\n",
    "    accuracies.append(accuracy_score(f_dev_labels, pred_dev_labels))\n",
    "sum(accuracies)/len(accuracies)"
   ]
  }
 ],
 "metadata": {
  "kernelspec": {
   "display_name": "Python 3",
   "language": "python",
   "name": "python3"
  },
  "language_info": {
   "codemirror_mode": {
    "name": "ipython",
    "version": 3
   },
   "file_extension": ".py",
   "mimetype": "text/x-python",
   "name": "python",
   "nbconvert_exporter": "python",
   "pygments_lexer": "ipython3",
   "version": "3.6.3"
  }
 },
 "nbformat": 4,
 "nbformat_minor": 2
}
