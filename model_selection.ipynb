{
 "cells": [
  {
   "cell_type": "code",
   "execution_count": 73,
   "metadata": {},
   "outputs": [],
   "source": [
    "import pandas as pd\n",
    "import matplotlib.pyplot as plt\n",
    "import seaborn as sns\n",
    "import numpy as np\n",
    "%matplotlib inline\n",
    "\n",
    "# model selection\n",
    "from sklearn.model_selection import train_test_split\n",
    "from sklearn.model_selection import RandomizedSearchCV\n",
    "\n",
    "# model definition\n",
    "from sklearn import svm as SVM\n",
    "from sklearn.naive_bayes import GaussianNB\n",
    "from sklearn.linear_model import LogisticRegression\n",
    "from sklearn.neighbors import KNeighborsClassifier\n",
    "from sklearn.neural_network import MLPClassifier\n",
    "from sklearn.tree import DecisionTreeClassifier\n",
    "\n",
    "# ensemble\n",
    "from sklearn.ensemble import RandomForestClassifier\n",
    "from sklearn.ensemble import RandomForestRegressor\n",
    "\n",
    "# model metrics\n",
    "from sklearn.metrics import accuracy_score"
   ]
  },
  {
   "cell_type": "code",
   "execution_count": 4,
   "metadata": {},
   "outputs": [],
   "source": [
    "train = pd.read_csv('./data/train.csv', header=0, sep=',', quotechar='\"', index_col='Id')\n",
    "test = pd.read_csv('./data/test.csv', header=0, sep=',', quotechar='\"', index_col='Id')\n",
    "\n",
    "# define the data\n",
    "train_data = train.drop('Cover_Type', axis=1)\n",
    "test_data = test\n",
    "\n",
    "# define the labels\n",
    "train_labels = train['Cover_Type']"
   ]
  },
  {
   "cell_type": "code",
   "execution_count": 47,
   "metadata": {},
   "outputs": [
    {
     "name": "stdout",
     "output_type": "stream",
     "text": [
      "train_data.shape: (12096, 54)\n",
      "train_labels.shape: (12096,)\n",
      "7    1728\n",
      "6    1728\n",
      "5    1728\n",
      "4    1728\n",
      "3    1728\n",
      "2    1728\n",
      "1    1728\n",
      "Name: Cover_Type, dtype: int64\n",
      "dev_data.shape: (3024, 54)\n",
      "dev_labels.shape:(3024,)\n",
      "7    432\n",
      "5    432\n",
      "3    432\n",
      "1    432\n",
      "6    432\n",
      "4    432\n",
      "2    432\n",
      "Name: Cover_Type, dtype: int64\n"
     ]
    }
   ],
   "source": [
    "# define the validation set from train data\n",
    "train_data, dev_data, train_labels, dev_labels = train_test_split(train_data, train_labels, stratify=train_labels, test_size=0.2, random_state=7)\n",
    "\n",
    "# verify the split is stratified among the different classes\n",
    "print('train_data.shape: {}'.format(train_data.shape))\n",
    "print('train_labels.shape: {}'.format(train_labels.shape))\n",
    "print(train_labels.value_counts())\n",
    "print('dev_data.shape: {}'.format(dev_data.shape))\n",
    "print('dev_labels.shape:{}'.format(dev_labels.shape))\n",
    "print(dev_labels.value_counts())"
   ]
  },
  {
   "cell_type": "markdown",
   "metadata": {},
   "source": [
    "# Models\n",
    "\n",
    "http://scikit-learn.org/stable/modules/multiclass.html\n",
    "\n",
    "Models:\n",
    "\n",
    "1. Logistic Regression: 0.66\n",
    "2. Naive Bayes: 0.60\n",
    "3. K-Nearest Neighbors: 0.80\n",
    "4. Support Vector Machine: 0.15\n",
    "5. Decision Trees: 0.78\n",
    "6. Neural Networks: 0.59\n",
    "\n",
    "With just the base case, KNN and Decision Trees perform the best."
   ]
  },
  {
   "cell_type": "markdown",
   "metadata": {},
   "source": [
    "## Logistic Regression"
   ]
  },
  {
   "cell_type": "code",
   "execution_count": 66,
   "metadata": {},
   "outputs": [
    {
     "data": {
      "text/plain": [
       "LogisticRegression(C=1.0, class_weight=None, dual=False, fit_intercept=True,\n",
       "          intercept_scaling=1, max_iter=100, multi_class='ovr', n_jobs=1,\n",
       "          penalty='l2', random_state=None, solver='liblinear', tol=0.0001,\n",
       "          verbose=0, warm_start=False)"
      ]
     },
     "execution_count": 66,
     "metadata": {},
     "output_type": "execute_result"
    }
   ],
   "source": [
    "lr = LogisticRegression()\n",
    "lr.fit(train_data, train_labels)"
   ]
  },
  {
   "cell_type": "code",
   "execution_count": 69,
   "metadata": {},
   "outputs": [
    {
     "data": {
      "text/plain": [
       "0.6646825396825397"
      ]
     },
     "execution_count": 69,
     "metadata": {},
     "output_type": "execute_result"
    }
   ],
   "source": [
    "accuracies = []\n",
    "for i in range(1, 10):\n",
    "    pred_dev_labels = lr.predict(dev_data)\n",
    "    accuracies.append(accuracy_score(dev_labels, pred_dev_labels))\n",
    "sum(accuracies)/len(accuracies)"
   ]
  },
  {
   "cell_type": "markdown",
   "metadata": {},
   "source": [
    "## Naive Bayes"
   ]
  },
  {
   "cell_type": "code",
   "execution_count": 63,
   "metadata": {},
   "outputs": [
    {
     "data": {
      "text/plain": [
       "GaussianNB(priors=None)"
      ]
     },
     "execution_count": 63,
     "metadata": {},
     "output_type": "execute_result"
    }
   ],
   "source": [
    "nb = GaussianNB()\n",
    "nb.fit(train_data, train_labels)"
   ]
  },
  {
   "cell_type": "code",
   "execution_count": 64,
   "metadata": {},
   "outputs": [
    {
     "data": {
      "text/plain": [
       "0.5952380952380952"
      ]
     },
     "execution_count": 64,
     "metadata": {},
     "output_type": "execute_result"
    }
   ],
   "source": [
    "accuracies = []\n",
    "for i in range(1, 10):\n",
    "    pred_dev_labels = nb.predict(dev_data)\n",
    "    accuracies.append(accuracy_score(dev_labels, pred_dev_labels))\n",
    "sum(accuracies)/len(accuracies)"
   ]
  },
  {
   "cell_type": "markdown",
   "metadata": {},
   "source": [
    "## K-Nearest Neighbors"
   ]
  },
  {
   "cell_type": "code",
   "execution_count": 56,
   "metadata": {},
   "outputs": [
    {
     "data": {
      "text/plain": [
       "KNeighborsClassifier(algorithm='auto', leaf_size=30, metric='minkowski',\n",
       "           metric_params=None, n_jobs=1, n_neighbors=5, p=2,\n",
       "           weights='uniform')"
      ]
     },
     "execution_count": 56,
     "metadata": {},
     "output_type": "execute_result"
    }
   ],
   "source": [
    "knn = KNeighborsClassifier()\n",
    "knn.fit(train_data, train_labels)"
   ]
  },
  {
   "cell_type": "code",
   "execution_count": 57,
   "metadata": {},
   "outputs": [
    {
     "data": {
      "text/plain": [
       "0.798941798941799"
      ]
     },
     "execution_count": 57,
     "metadata": {},
     "output_type": "execute_result"
    }
   ],
   "source": [
    "accuracies = []\n",
    "for i in range(1, 10):\n",
    "    pred_dev_labels = knn.predict(dev_data)\n",
    "    accuracies.append(accuracy_score(dev_labels, pred_dev_labels))\n",
    "sum(accuracies)/len(accuracies)"
   ]
  },
  {
   "cell_type": "markdown",
   "metadata": {},
   "source": [
    "## Support Vector Machine"
   ]
  },
  {
   "cell_type": "code",
   "execution_count": 67,
   "metadata": {
    "scrolled": true
   },
   "outputs": [
    {
     "data": {
      "text/plain": [
       "SVC(C=1.0, cache_size=200, class_weight=None, coef0=0.0,\n",
       "  decision_function_shape=None, degree=3, gamma='auto', kernel='rbf',\n",
       "  max_iter=-1, probability=False, random_state=None, shrinking=True,\n",
       "  tol=0.001, verbose=False)"
      ]
     },
     "execution_count": 67,
     "metadata": {},
     "output_type": "execute_result"
    }
   ],
   "source": [
    "svm = SVM.SVC() \n",
    "svm.fit(train_data, train_labels)"
   ]
  },
  {
   "cell_type": "code",
   "execution_count": 68,
   "metadata": {},
   "outputs": [
    {
     "data": {
      "text/plain": [
       "0.1498015873015873"
      ]
     },
     "execution_count": 68,
     "metadata": {},
     "output_type": "execute_result"
    }
   ],
   "source": [
    "accuracies = []\n",
    "for i in range(1, 10):\n",
    "    pred_dev_labels = svm.predict(dev_data)\n",
    "    accuracies.append(accuracy_score(dev_labels, pred_dev_labels))\n",
    "sum(accuracies)/len(accuracies)"
   ]
  },
  {
   "cell_type": "markdown",
   "metadata": {},
   "source": [
    "## Decision Trees"
   ]
  },
  {
   "cell_type": "code",
   "execution_count": 71,
   "metadata": {},
   "outputs": [
    {
     "data": {
      "text/plain": [
       "DecisionTreeClassifier(class_weight=None, criterion='gini', max_depth=None,\n",
       "            max_features=None, max_leaf_nodes=None,\n",
       "            min_impurity_split=1e-07, min_samples_leaf=1,\n",
       "            min_samples_split=2, min_weight_fraction_leaf=0.0,\n",
       "            presort=False, random_state=None, splitter='best')"
      ]
     },
     "execution_count": 71,
     "metadata": {},
     "output_type": "execute_result"
    }
   ],
   "source": [
    "dt = DecisionTreeClassifier()\n",
    "dt.fit(train_data, train_labels)"
   ]
  },
  {
   "cell_type": "code",
   "execution_count": 72,
   "metadata": {},
   "outputs": [
    {
     "data": {
      "text/plain": [
       "0.7810846560846559"
      ]
     },
     "execution_count": 72,
     "metadata": {},
     "output_type": "execute_result"
    }
   ],
   "source": [
    "accuracies = []\n",
    "for i in range(1, 10):\n",
    "    pred_dev_labels = dt.predict(dev_data)\n",
    "    accuracies.append(accuracy_score(dev_labels, pred_dev_labels))\n",
    "sum(accuracies)/len(accuracies)"
   ]
  },
  {
   "cell_type": "markdown",
   "metadata": {},
   "source": [
    "## Neural Networks"
   ]
  },
  {
   "cell_type": "code",
   "execution_count": 75,
   "metadata": {},
   "outputs": [
    {
     "data": {
      "text/plain": [
       "MLPClassifier(activation='relu', alpha=0.0001, batch_size='auto', beta_1=0.9,\n",
       "       beta_2=0.999, early_stopping=False, epsilon=1e-08,\n",
       "       hidden_layer_sizes=(100,), learning_rate='constant',\n",
       "       learning_rate_init=0.001, max_iter=200, momentum=0.9,\n",
       "       nesterovs_momentum=True, power_t=0.5, random_state=None,\n",
       "       shuffle=True, solver='adam', tol=0.0001, validation_fraction=0.1,\n",
       "       verbose=False, warm_start=False)"
      ]
     },
     "execution_count": 75,
     "metadata": {},
     "output_type": "execute_result"
    }
   ],
   "source": [
    "mlp = MLPClassifier()\n",
    "mlp.fit(train_data, train_labels)"
   ]
  },
  {
   "cell_type": "code",
   "execution_count": 76,
   "metadata": {},
   "outputs": [
    {
     "data": {
      "text/plain": [
       "0.5925925925925926"
      ]
     },
     "execution_count": 76,
     "metadata": {},
     "output_type": "execute_result"
    }
   ],
   "source": [
    "accuracies = []\n",
    "for i in range(1, 10):\n",
    "    pred_dev_labels = mlp.predict(dev_data)\n",
    "    accuracies.append(accuracy_score(dev_labels, pred_dev_labels))\n",
    "sum(accuracies)/len(accuracies)"
   ]
  },
  {
   "cell_type": "markdown",
   "metadata": {},
   "source": [
    "# Ensemble\n",
    "\n",
    "Ensemble:\n",
    "\n",
    "5. Random Forest Classifier"
   ]
  },
  {
   "cell_type": "markdown",
   "metadata": {},
   "source": [
    "## Random Forest Classifier\n",
    "\n",
    "https://www.datacamp.com/community/tutorials/random-forests-classifier-python\n"
   ]
  },
  {
   "cell_type": "code",
   "execution_count": 48,
   "metadata": {},
   "outputs": [],
   "source": [
    "# random forest classifier\n",
    "rfc = RandomForestClassifier(n_estimators=100, bootstrap=True, oob_score=True)"
   ]
  },
  {
   "cell_type": "code",
   "execution_count": 49,
   "metadata": {},
   "outputs": [
    {
     "data": {
      "text/plain": [
       "Elevation                             0.226441\n",
       "Horizontal_Distance_To_Roadways       0.089994\n",
       "Horizontal_Distance_To_Fire_Points    0.071048\n",
       "Horizontal_Distance_To_Hydrology      0.061701\n",
       "Vertical_Distance_To_Hydrology        0.055303\n",
       "Hillshade_9am                         0.051507\n",
       "Aspect                                0.050496\n",
       "Hillshade_3pm                         0.047407\n",
       "Wilderness_Area4                      0.046279\n",
       "Hillshade_Noon                        0.045680\n",
       "Slope                                 0.036811\n",
       "Soil_Type10                           0.024399\n",
       "Soil_Type3                            0.018595\n",
       "Wilderness_Area3                      0.017774\n",
       "Wilderness_Area1                      0.017736\n",
       "Soil_Type39                           0.016007\n",
       "Soil_Type38                           0.015802\n",
       "Soil_Type4                            0.012870\n",
       "Soil_Type40                           0.010156\n",
       "Soil_Type30                           0.008694\n",
       "Soil_Type2                            0.006546\n",
       "Soil_Type22                           0.006032\n",
       "Soil_Type29                           0.005773\n",
       "Soil_Type17                           0.005550\n",
       "Soil_Type13                           0.005481\n",
       "Soil_Type23                           0.005196\n",
       "Soil_Type12                           0.005127\n",
       "Soil_Type32                           0.005056\n",
       "Wilderness_Area2                      0.003858\n",
       "Soil_Type33                           0.003808\n",
       "Soil_Type6                            0.003260\n",
       "Soil_Type11                           0.003080\n",
       "Soil_Type24                           0.002480\n",
       "Soil_Type31                           0.002391\n",
       "Soil_Type35                           0.002200\n",
       "Soil_Type1                            0.001910\n",
       "Soil_Type20                           0.001434\n",
       "Soil_Type5                            0.001252\n",
       "Soil_Type16                           0.001049\n",
       "Soil_Type18                           0.000731\n",
       "Soil_Type14                           0.000655\n",
       "Soil_Type26                           0.000490\n",
       "Soil_Type37                           0.000481\n",
       "Soil_Type19                           0.000420\n",
       "Soil_Type34                           0.000298\n",
       "Soil_Type27                           0.000219\n",
       "Soil_Type28                           0.000169\n",
       "Soil_Type21                           0.000135\n",
       "Soil_Type9                            0.000114\n",
       "Soil_Type36                           0.000087\n",
       "Soil_Type25                           0.000008\n",
       "Soil_Type8                            0.000006\n",
       "Soil_Type15                           0.000000\n",
       "Soil_Type7                            0.000000\n",
       "dtype: float64"
      ]
     },
     "execution_count": 49,
     "metadata": {},
     "output_type": "execute_result"
    }
   ],
   "source": [
    "# listing important features\n",
    "rfc.fit(train_data, train_labels)\n",
    "feature_imp = pd.Series(rfc.feature_importances_, index=train_data.columns).sort_values(ascending=False)\n",
    "feature_imp"
   ]
  },
  {
   "cell_type": "code",
   "execution_count": 50,
   "metadata": {
    "scrolled": false
   },
   "outputs": [
    {
     "data": {
      "image/png": "[encoded data removed]",
      "text/plain": [
       "<matplotlib.figure.Figure at 0x116c5ab00>"
      ]
     },
     "metadata": {},
     "output_type": "display_data"
    }
   ],
   "source": [
    "# plot important features\n",
    "fig, ax = plt.subplots(figsize=(10,10))\n",
    "ax = sns.barplot(x=feature_imp, y=feature_imp.index, ax=ax)\n",
    "plt.xlabel('Feature Importance Score')\n",
    "plt.ylabel('Features')\n",
    "plt.title('Visualizing Important Features')\n",
    "plt.show()"
   ]
  },
  {
   "cell_type": "code",
   "execution_count": 54,
   "metadata": {},
   "outputs": [
    {
     "data": {
      "text/plain": [
       "0.8548280423280425"
      ]
     },
     "execution_count": 54,
     "metadata": {},
     "output_type": "execute_result"
    }
   ],
   "source": [
    "accuracies = []\n",
    "for i in range(1, 10):\n",
    "    pred_dev_labels = rfc.predict(dev_data)\n",
    "    accuracies.append(accuracy_score(dev_labels, pred_dev_labels))\n",
    "sum(accuracies)/len(accuracies)"
   ]
  }
 ],
 "metadata": {
  "kernelspec": {
   "display_name": "Python 3",
   "language": "python",
   "name": "python3"
  },
  "language_info": {
   "codemirror_mode": {
    "name": "ipython",
    "version": 3
   },
   "file_extension": ".py",
   "mimetype": "text/x-python",
   "name": "python",
   "nbconvert_exporter": "python",
   "pygments_lexer": "ipython3",
   "version": "3.6.3"
  }
 },
 "nbformat": 4,
 "nbformat_minor": 2
}
