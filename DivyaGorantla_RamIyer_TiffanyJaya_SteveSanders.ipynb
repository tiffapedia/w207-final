{
 "cells": [
  {
   "cell_type": "markdown",
   "metadata": {},
   "source": [
    "# Forest Cover Type Prediction\n",
    "\n",
    "https://www.kaggle.com/c/forest-cover-type-prediction\n",
    "\n",
    "## Author\n",
    "\n",
    "* Divya Gorantla\n",
    "* Ram Iyer\n",
    "* Tiffany Jaya\n",
    "* Steve Sanders\n",
    "\n",
    "## Problem\n",
    "\n",
    "Predict the forest cover type (the predominant kind of tree cover) from stricly cartographic varaibles (as opposed to remotely sensed data). \n",
    "\n",
    "## Data Description\n",
    "\n",
    "The study area includes four wilderness areas located in the Roosevelt National Forest of northern Colorado. Each observation is a 30m x 30m patch. You are asked to predict an integer classification for the forest cover type. The seven types are:\n",
    "\n",
    "```\n",
    "1 - Spruce/Fir \n",
    "2 - Lodgepole Pine \n",
    "3 - Ponderosa Pine \n",
    "4 - Cottonwood/Willow \n",
    "5 - Aspen\n",
    "6 - Douglas-fir\n",
    "7 - Krummholz\n",
    "```\n",
    "\n",
    "The training set (15120 observations) contains both features and the Cover_Type. The test set contains only the features. You must predict the Cover_Type for every row in the test set (565892 observations).\n",
    "\n",
    "```\n",
    "Data Fields\n",
    "Elevation - Elevation in meters\n",
    "Aspect - Aspect in degrees azimuth\n",
    "Slope - Slope in degrees\n",
    "Horizontal_Distance_To_Hydrology - Horz Dist to nearest surface water features\n",
    "Vertical_Distance_To_Hydrology - Vert Dist to nearest surface water features\n",
    "Horizontal_Distance_To_Roadways - Horz Dist to nearest roadway\n",
    "Hillshade_9am (0 to 255 index) - Hillshade index at 9am, summer solstice\n",
    "Hillshade_Noon (0 to 255 index) - Hillshade index at noon, summer solstice\n",
    "Hillshade_3pm (0 to 255 index) - Hillshade index at 3pm, summer solstice\n",
    "Horizontal_Distance_To_Fire_Points - Horz Dist to nearest wildfire ignition points\n",
    "Wilderness_Area (4 binary columns, 0 = absence or 1 = presence) - Wilderness area designation\n",
    "Soil_Type (40 binary columns, 0 = absence or 1 = presence) - Soil Type designation\n",
    "Cover_Type (7 types, integers 1 to 7) - Forest Cover Type designation\n",
    "```\n",
    "\n",
    "The wilderness areas are:\n",
    "\n",
    "```\n",
    "1 - Rawah Wilderness Area\n",
    "2 - Neota Wilderness Area\n",
    "3 - Comanche Peak Wilderness Area\n",
    "4 - Cache la Poudre Wilderness Area\n",
    "```\n",
    "\n",
    "The soil types are:\n",
    "\n",
    "```\n",
    "1 Cathedral family - Rock outcrop complex, extremely stony.\n",
    "2 Vanet - Ratake families complex, very stony.\n",
    "3 Haploborolis - Rock outcrop complex, rubbly.\n",
    "4 Ratake family - Rock outcrop complex, rubbly.\n",
    "5 Vanet family - Rock outcrop complex complex, rubbly.\n",
    "6 Vanet - Wetmore families - Rock outcrop complex, stony.\n",
    "7 Gothic family.\n",
    "8 Supervisor - Limber families complex.\n",
    "9 Troutville family, very stony.\n",
    "10 Bullwark - Catamount families - Rock outcrop complex, rubbly.\n",
    "11 Bullwark - Catamount families - Rock land complex, rubbly.\n",
    "12 Legault family - Rock land complex, stony.\n",
    "13 Catamount family - Rock land - Bullwark family complex, rubbly.\n",
    "14 Pachic Argiborolis - Aquolis complex.\n",
    "15 unspecified in the USFS Soil and ELU Survey.\n",
    "16 Cryaquolis - Cryoborolis complex.\n",
    "17 Gateview family - Cryaquolis complex.\n",
    "18 Rogert family, very stony.\n",
    "19 Typic Cryaquolis - Borohemists complex.\n",
    "20 Typic Cryaquepts - Typic Cryaquolls complex.\n",
    "21 Typic Cryaquolls - Leighcan family, till substratum complex.\n",
    "22 Leighcan family, till substratum, extremely bouldery.\n",
    "23 Leighcan family, till substratum - Typic Cryaquolls complex.\n",
    "24 Leighcan family, extremely stony.\n",
    "25 Leighcan family, warm, extremely stony.\n",
    "26 Granile - Catamount families complex, very stony.\n",
    "27 Leighcan family, warm - Rock outcrop complex, extremely stony.\n",
    "28 Leighcan family - Rock outcrop complex, extremely stony.\n",
    "29 Como - Legault families complex, extremely stony.\n",
    "30 Como family - Rock land - Legault family complex, extremely stony.\n",
    "31 Leighcan - Catamount families complex, extremely stony.\n",
    "32 Catamount family - Rock outcrop - Leighcan family complex, extremely stony.\n",
    "33 Leighcan - Catamount families - Rock outcrop complex, extremely stony.\n",
    "34 Cryorthents - Rock land complex, extremely stony.\n",
    "35 Cryumbrepts - Rock outcrop - Cryaquepts complex.\n",
    "36 Bross family - Rock land - Cryumbrepts complex, extremely stony.\n",
    "37 Rock outcrop - Cryumbrepts - Cryorthents complex, extremely stony.\n",
    "38 Leighcan - Moran families - Cryaquolls complex, extremely stony.\n",
    "39 Moran family - Cryorthents - Leighcan family complex, extremely stony.\n",
    "40 Moran family - Cryorthents - Rock land complex, extremely stony.\n",
    "```"
   ]
  },
  {
   "cell_type": "markdown",
   "metadata": {},
   "source": [
    "## Libraries"
   ]
  },
  {
   "cell_type": "code",
   "execution_count": 2,
   "metadata": {
    "scrolled": true
   },
   "outputs": [
    {
     "name": "stdout",
     "output_type": "stream",
     "text": [
      "Requirement already satisfied: kaggle in /Users/tiffapedia/anaconda3/lib/python3.6/site-packages\n",
      "Requirement already satisfied: six>=1.10 in /Users/tiffapedia/anaconda3/lib/python3.6/site-packages (from kaggle)\n",
      "Requirement already satisfied: urllib3<1.23.0,>=1.15 in /Users/tiffapedia/anaconda3/lib/python3.6/site-packages (from kaggle)\n",
      "Requirement already satisfied: python-dateutil in /Users/tiffapedia/anaconda3/lib/python3.6/site-packages (from kaggle)\n",
      "Requirement already satisfied: requests in /Users/tiffapedia/anaconda3/lib/python3.6/site-packages (from kaggle)\n",
      "Requirement already satisfied: certifi in /Users/tiffapedia/anaconda3/lib/python3.6/site-packages (from kaggle)\n",
      "Requirement already satisfied: tqdm in /Users/tiffapedia/anaconda3/lib/python3.6/site-packages (from kaggle)\n",
      "\u001b[33mYou are using pip version 9.0.1, however version 10.0.1 is available.\n",
      "You should consider upgrading via the 'pip install --upgrade pip' command.\u001b[0m\n"
     ]
    },
    {
     "name": "stderr",
     "output_type": "stream",
     "text": [
      "/Users/tiffapedia/anaconda3/lib/python3.6/site-packages/h5py/__init__.py:34: FutureWarning: Conversion of the second argument of issubdtype from `float` to `np.floating` is deprecated. In future, it will be treated as `np.float64 == np.dtype(float).type`.\n",
      "  from ._conv import register_converters as _register_converters\n"
     ]
    }
   ],
   "source": [
    "# output plots within notebook\n",
    "%matplotlib inline\n",
    "\n",
    "# install the kaggle library\n",
    "!pip install kaggle\n",
    "\n",
    "# install libraries\n",
    "import matplotlib.pyplot as plt\n",
    "import numpy as np\n",
    "import pandas as pd\n",
    "import tensorflow as tf\n",
    "\n",
    "# set seed for reproducibility\n",
    "tf.set_random_seed(6)"
   ]
  },
  {
   "cell_type": "markdown",
   "metadata": {},
   "source": [
    "## Load Data"
   ]
  },
  {
   "cell_type": "markdown",
   "metadata": {},
   "source": [
    "In order to use Kaggle API:\n",
    "1. Login to your Kaggle account\n",
    "2. Select 'My account'\n",
    "3. Select 'Create New API Token'\n",
    "4. Place the token 'kaggle.json' into ~/.kaggle"
   ]
  },
  {
   "cell_type": "code",
   "execution_count": 3,
   "metadata": {},
   "outputs": [
    {
     "name": "stdout",
     "output_type": "stream",
     "text": [
      "train.csv.zip: Skipping, found more recently modified local copy (use --force to force download)\n",
      "sampleSubmission.csv.zip: Skipping, found more recently modified local copy (use --force to force download)\n",
      "test.csv.zip: Skipping, found more recently modified local copy (use --force to force download)\n"
     ]
    }
   ],
   "source": [
    "# download each ZIP file from Kaggle\n",
    "!kaggle competitions download -c forest-cover-type-prediction -p ./data "
   ]
  },
  {
   "cell_type": "code",
   "execution_count": 4,
   "metadata": {},
   "outputs": [],
   "source": [
    "TRAIN_FILENAME = 'train.csv'\n",
    "TEST_FILENAME = 'test.csv'\n",
    "SAMPLE_SUBMISSION_FILENAME = 'sampleSubmission.csv'\n",
    "DATAPATH = './data/'\n",
    "\n",
    "def get_data(filename, unzip=False):\n",
    "    '''Read CSV file (unzip or not) into a dataframe'''\n",
    "    if unzip:\n",
    "        zippath = DATAPATH + filename + '.zip'\n",
    "        return pd.read_csv(zippath, compression='zip', header=0, sep=',', quotechar='\"')\n",
    "    \n",
    "    filepath = DATAPATH + filename\n",
    "    return pd.read_csv(filepath, header=0, sep=',', quotechar='\"')\n",
    "    \n",
    "train = get_data(TRAIN_FILENAME, unzip=True)\n",
    "test = get_data(TEST_FILENAME, unzip=True)\n",
    "sample = get_data(SAMPLE_SUBMISSION_FILENAME, unzip=True)"
   ]
  },
  {
   "cell_type": "code",
   "execution_count": 5,
   "metadata": {
    "collapsed": true
   },
   "outputs": [],
   "source": [
    "train_label = train['Cover_Type']"
   ]
  },
  {
   "cell_type": "markdown",
   "metadata": {},
   "source": [
    "## EDA"
   ]
  },
  {
   "cell_type": "code",
   "execution_count": 6,
   "metadata": {
    "scrolled": false
   },
   "outputs": [
    {
     "name": "stdout",
     "output_type": "stream",
     "text": [
      "--------------------------------------------------------------------------------\n",
      "                                     EDA\n",
      "--------------------------------------------------------------------------------\n",
      "               shape    types\n",
      "train    (15120, 56)  [int64]\n",
      "test    (565892, 55)  [int64]\n",
      "sample   (565892, 2)  [int64]\n",
      "--------------------------------------------------------------------------------\n",
      "                           Describe Dataset: train\n",
      "--------------------------------------------------------------------------------\n",
      "                Id     Elevation        Aspect         Slope  \\\n",
      "count  15120.00000  15120.000000  15120.000000  15120.000000   \n",
      "mean    7560.50000   2749.322553    156.676653     16.501587   \n",
      "std     4364.91237    417.678187    110.085801      8.453927   \n",
      "min        1.00000   1863.000000      0.000000      0.000000   \n",
      "25%     3780.75000   2376.000000     65.000000     10.000000   \n",
      "50%     7560.50000   2752.000000    126.000000     15.000000   \n",
      "75%    11340.25000   3104.000000    261.000000     22.000000   \n",
      "max    15120.00000   3849.000000    360.000000     52.000000   \n",
      "\n",
      "       Horizontal_Distance_To_Hydrology  Vertical_Distance_To_Hydrology  \\\n",
      "count                      15120.000000                    15120.000000   \n",
      "mean                         227.195701                       51.076521   \n",
      "std                          210.075296                       61.239406   \n",
      "min                            0.000000                     -146.000000   \n",
      "25%                           67.000000                        5.000000   \n",
      "50%                          180.000000                       32.000000   \n",
      "75%                          330.000000                       79.000000   \n",
      "max                         1343.000000                      554.000000   \n",
      "\n",
      "       Horizontal_Distance_To_Roadways  Hillshade_9am  Hillshade_Noon  \\\n",
      "count                     15120.000000   15120.000000    15120.000000   \n",
      "mean                       1714.023214     212.704299      218.965608   \n",
      "std                        1325.066358      30.561287       22.801966   \n",
      "min                           0.000000       0.000000       99.000000   \n",
      "25%                         764.000000     196.000000      207.000000   \n",
      "50%                        1316.000000     220.000000      223.000000   \n",
      "75%                        2270.000000     235.000000      235.000000   \n",
      "max                        6890.000000     254.000000      254.000000   \n",
      "\n",
      "       Hillshade_3pm      ...        Soil_Type32   Soil_Type33   Soil_Type34  \\\n",
      "count   15120.000000      ...       15120.000000  15120.000000  15120.000000   \n",
      "mean      135.091997      ...           0.045635      0.040741      0.001455   \n",
      "std        45.895189      ...           0.208699      0.197696      0.038118   \n",
      "min         0.000000      ...           0.000000      0.000000      0.000000   \n",
      "25%       106.000000      ...           0.000000      0.000000      0.000000   \n",
      "50%       138.000000      ...           0.000000      0.000000      0.000000   \n",
      "75%       167.000000      ...           0.000000      0.000000      0.000000   \n",
      "max       248.000000      ...           1.000000      1.000000      1.000000   \n",
      "\n",
      "        Soil_Type35   Soil_Type36   Soil_Type37   Soil_Type38   Soil_Type39  \\\n",
      "count  15120.000000  15120.000000  15120.000000  15120.000000  15120.000000   \n",
      "mean       0.006746      0.000661      0.002249      0.048148      0.043452   \n",
      "std        0.081859      0.025710      0.047368      0.214086      0.203880   \n",
      "min        0.000000      0.000000      0.000000      0.000000      0.000000   \n",
      "25%        0.000000      0.000000      0.000000      0.000000      0.000000   \n",
      "50%        0.000000      0.000000      0.000000      0.000000      0.000000   \n",
      "75%        0.000000      0.000000      0.000000      0.000000      0.000000   \n",
      "max        1.000000      1.000000      1.000000      1.000000      1.000000   \n",
      "\n",
      "        Soil_Type40    Cover_Type  \n",
      "count  15120.000000  15120.000000  \n",
      "mean       0.030357      4.000000  \n",
      "std        0.171574      2.000066  \n",
      "min        0.000000      1.000000  \n",
      "25%        0.000000      2.000000  \n",
      "50%        0.000000      4.000000  \n",
      "75%        0.000000      6.000000  \n",
      "max        1.000000      7.000000  \n",
      "\n",
      "[8 rows x 56 columns]\n"
     ]
    }
   ],
   "source": [
    "print('-' * 80)\n",
    "print('{:>40}'.format('EDA'))\n",
    "print('-' * 80)\n",
    "columns = ['shape', 'types']\n",
    "rows = ['train', 'test', 'sample']\n",
    "print(pd.DataFrame({columns[0]: [train.shape, test.shape, sample.shape],\n",
    "                    columns[1]: [pd.unique(train.dtypes), pd.unique(test.dtypes), pd.unique(sample.dtypes)]},\n",
    "                   columns=columns,\n",
    "                   index=rows))\n",
    "print('-' * 80)\n",
    "print('{:>50}'.format('Describe Dataset: train'))\n",
    "print('-' * 80)\n",
    "print(train.describe())\n"
   ]
  },
  {
   "cell_type": "code",
   "execution_count": 7,
   "metadata": {
    "scrolled": false
   },
   "outputs": [
    {
     "data": {
      "image/png": "[encoded data removed]",
      "text/plain": [
       "<matplotlib.figure.Figure at 0x11c587438>"
      ]
     },
     "metadata": {},
     "output_type": "display_data"
    }
   ],
   "source": [
    "# visualize elevation by cover types\n",
    "# 1. count the number of cover types per elevation\n",
    "plt_ct_per_el = pd.DataFrame(pd.crosstab(train['Elevation'], train['Cover_Type']).values.tolist(),\n",
    "                             columns=sorted(pd.unique(train['Cover_Type'])))\n",
    "# 2. plot the associating horizontal, stacked graph\n",
    "plt_ct_per_el.plot.barh(stacked=True);"
   ]
  },
  {
   "cell_type": "markdown",
   "metadata": {},
   "source": [
    "From the graph shown above, it appears that the cover types most commonly found at the high altitude is Krummholz followed by the following cover types found in descending order of altitudes: \n",
    "\n",
    "```\n",
    "7 - Krummholz\n",
    "1 - Spruce/Fir \n",
    "2 - Lodgepole Pine\n",
    "5 - Aspen\n",
    "3 - Ponderosa Pine \n",
    "6 - Douglas-fir\n",
    "4 - Cottonwood/Willow \n",
    "```"
   ]
  },
  {
   "cell_type": "code",
   "execution_count": 22,
   "metadata": {
    "scrolled": false
   },
   "outputs": [
    {
     "name": "stderr",
     "output_type": "stream",
     "text": [
      "/Users/tiffapedia/anaconda3/lib/python3.6/site-packages/matplotlib/axes/_axes.py:545: UserWarning: No labelled objects found. Use label='...' kwarg on individual plots.\n",
      "  warnings.warn(\"No labelled objects found. \"\n"
     ]
    },
    {
     "data": {
      "image/png": "[encoded data removed]",
      "text/plain": [
       "<matplotlib.figure.Figure at 0x11e1c1470>"
      ]
     },
     "metadata": {},
     "output_type": "display_data"
    }
   ],
   "source": [
    "# plot histogram of each column (aka feature)\n",
    "\n",
    "# 1. plot without overlay\n",
    "#for column in train.columns[1:11]: \n",
    "#    train.groupby('Cover_Type').hist(column=column, alpha=0.3)\n",
    "\n",
    "# 2. plot with overlay\n",
    "nrows = 3\n",
    "ncols = 2\n",
    "fig, axes = plt.subplots(nrows=nrows, ncols=ncols, figsize=(20,20))\n",
    "ax_elevation, ax_aspect, ax_slope, ax_hdh20, ax_vdh20, ax_6 = axes.flatten() \n",
    "\n",
    "for label, data in train.groupby('Cover_Type')['Elevation']:\n",
    "    data.hist(alpha=0.3, ax=ax_elevation)\n",
    "ax_elevation.set_title('Elevation (in meters)')\n",
    "ax_elevation.legend()\n",
    "\n",
    "for label, data in train.groupby('Cover_Type')['Aspect']:\n",
    "    data.hist(alpha=0.3, ax=ax_aspect)\n",
    "ax_aspect.set_title('Aspect (in degrees)')\n",
    "ax_aspect.legend()\n",
    "\n",
    "for label, data in train.groupby('Cover_Type')['Slope']:\n",
    "    data.hist(alpha=0.3, ax=ax_slope)\n",
    "ax_slope.set_title('Slope (in degrees)')\n",
    "ax_slope.legend()\n",
    "\n",
    "for label, data in train.groupby('Cover_Type')['Horizontal_Distance_To_Hydrology']:\n",
    "    data.hist(alpha=0.3, ax=ax_hdh20)\n",
    "ax_hdh20.set_title('Horizontal Distance To Hydrology')\n",
    "ax_hdh20.legend()\n",
    "\n",
    "for label, data in train.groupby('Cover_Type')['Vertical_Distance_To_Hydrology']:\n",
    "    data.hist(alpha=0.3, ax=ax_vdh20)\n",
    "ax_vdh20.set_title('Vertical Distance To Hydrology')\n",
    "ax_vdh20.legend()\n",
    "\n",
    "fig.tight_layout()\n",
    "plt.show()"
   ]
  },
  {
   "cell_type": "markdown",
   "metadata": {},
   "source": [
    "From the plot above, \"Evaluation\" makes a good feature because there is not much overlap between the different tree types. "
   ]
  },
  {
   "cell_type": "markdown",
   "metadata": {},
   "source": [
    "## Model "
   ]
  },
  {
   "cell_type": "markdown",
   "metadata": {},
   "source": [
    "### Logistic Regression"
   ]
  },
  {
   "cell_type": "markdown",
   "metadata": {
    "collapsed": true
   },
   "source": [
    "Elevation - Elevation in meters\n",
    "Aspect - Aspect in degrees azimuth\n",
    "Slope - Slope in degrees\n",
    "Horizontal_Distance_To_Hydrology - Horz Dist to nearest surface water features\n",
    "Vertical_Distance_To_Hydrology - Vert Dist to nearest surface water features\n",
    "Horizontal_Distance_To_Roadways - Horz Dist to nearest roadway\n",
    "Hillshade_9am (0 to 255 index) - Hillshade index at 9am, summer solstice\n",
    "Hillshade_Noon (0 to 255 index) - Hillshade index at noon, summer solstice\n",
    "Hillshade_3pm (0 to 255 index) - Hillshade index at 3pm, summer solstice\n",
    "Horizontal_Distance_To_Fire_Points - Horz Dist to nearest wildfire ignition points\n",
    "Wilderness_Area (4 binary columns, 0 = absence or 1 = presence) - Wilderness area designation\n",
    "Soil_Type (40 binary columns, 0 = absence or 1 = presence) - Soil Type designation\n",
    "Cover_Type (7 types, integers 1 to 7) - Forest Cover Type designation\n"
   ]
  }
 ],
 "metadata": {
  "kernelspec": {
   "display_name": "Python 3",
   "language": "python",
   "name": "python3"
  },
  "language_info": {
   "codemirror_mode": {
    "name": "ipython",
    "version": 3
   },
   "file_extension": ".py",
   "mimetype": "text/x-python",
   "name": "python",
   "nbconvert_exporter": "python",
   "pygments_lexer": "ipython3",
   "version": "3.6.3"
  }
 },
 "nbformat": 4,
 "nbformat_minor": 2
}
