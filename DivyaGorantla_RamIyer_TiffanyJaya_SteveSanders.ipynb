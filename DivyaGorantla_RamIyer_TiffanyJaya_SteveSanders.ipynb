{
 "cells": [
  {
   "cell_type": "markdown",
   "metadata": {},
   "source": [
    "# W207 Summer 2018 Final Project \n",
    "---\n",
    "\n",
    "**Authors:** Divya Gorantla, Ram Iyer, Tiffany Jaya, Steve Sanders <br/>\n",
    "**Date:** 5 August 2018\n",
    "\n",
    "---\n",
    "\n",
    "## Table of Contents\n",
    "\n",
    "1. [Introduction](#introduction)\n",
    "2. [Exploratory Data Analysis](#eda)\n",
    "  1. [Load libraries](#load-libraries)\n",
    "  2. [Load data](#load-data)\n",
    "  3. [Identify the train labels](#identify-the-train-labels)\n",
    "  4. [Identify the train features](#identify-the-train-features)\n",
    "  5. [Address concerns about the datasets](#address-concerns-about-the-datasets)\n",
    "  6. [Univariate analysis](#univariate-analysis)\n",
    "  7. [Bivariate analysis](#bivariate-analysis)\n",
    "3. [Feature Engineering](#feature-engineering)\n",
    "4. [Models](#models)\n",
    "  1. [Model Results](#model-results)\n",
    "5. [Ensemble Models](#ensemble-models)\n",
    "  1. [Ensemble Results](#ensemble-results)\n",
    "6. [Stack Models](#stack-models)\n",
    "  1. [Stack Results](#stack-results)\n",
    "7. [Conclusion](#conclusion)\n",
    "8. [References](#references)\n",
    "9. [Appendix](#appendix)\n",
    "  1. [Cross Validation](#appendix-cv)\n",
    "---"
   ]
  },
  {
   "cell_type": "markdown",
   "metadata": {},
   "source": [
    "<a id='introduction'/>"
   ]
  },
  {
   "cell_type": "markdown",
   "metadata": {},
   "source": [
    "## Introduction\n",
    "\n",
    "Our goal in this project is to classify an observed 30 x 30 meter land into one of the seven forest cover types found in the Roosevelt National Forest of Northern Colarado: \n",
    "\n",
    "| Forest Cover Type  | Tree   | Leaf  | \n",
    "| ------------------ |:------:| -----:| \n",
    "| Spruce/Fir         | <img src='./img/spruce-tree.jpg' alt='Spruce tree' height='65px' width='65px'/><br /><img src='./img/fir-tree.jpg' alt='Fir tree' height='65px' width='65px'/> | <img src='./img/spruce.jpg' alt='Spruce leaf' height='65px' width='65px'/><br /><img src='./img/fir.jpg' alt='Fir leaf' height='65px' width='65px'/> | \n",
    "| Lodgepole Pine     | <img src='./img/lodgepole-pine-tree.jpg' alt='Lodgepole Pine tree' height='65px' width='65px'/> | <img src='./img/lodgepole-pine.jpg' alt='Lodgepole Pine leaf' height='65px' width='65px'/> | \n",
    "| Ponderosa Pine     | <img src='./img/ponderosa-pine-tree.jpg' alt='Ponderosa Pine tree' height='65px' width='65px'/> | <img src='./img/ponderosa-pine.jpg' alt='Ponderosa Pine leaf' height='65px' width='65px'/> |\n",
    "| Cottonwood/Willow  | <img src='./img/cottonwood-tree.jpg' alt='Cottonwood tree' height='65px' width='65px'/><br /><img src='./img/willow-tree.jpg' alt='Willow tree' height='65px' width='65px'/> | <img src='./img/cottonwood.jpg' alt='Cottonwood leaf' height='65px' width='65px'/><br /><img src='./img/willow.jpg' alt='Willow leaf' height='65px' width='65px'/> |\n",
    "| Aspen              | <img src='./img/aspen-tree.jpg' alt='Aspen tree' height='65px' width='65px'/> | <img src='./img/aspen.jpg' alt='Aspen leaf' height='65px' width='65px'/> | \n",
    "| Douglas-Fir        | <img src='./img/douglas-fir-tree.jpg' alt='Douglas-Fir tree' height='65px' width='65px'/> | <img src='./img/douglas-fir.jpg' alt='Douglas-Fir leaf' height='65px' width='65px'/> | \n",
    "| Krummholz <br />(stunted trees) | <img src='./img/krummholz-tree.jpg' alt='Krummholz tree' height='65px' width='65px'/> | |\n",
    "\n",
    "Fortunately for us, 15,120 of these observations have been labeled to their respective forest cover types. We can then use this labeled dataset to train several different models and compare which model can best accurately classify the forest cover type based on just the cartographic information. \n",
    "\n",
    "What we have found is that random forest classifier perform best among the three models we have tested with an accuracy score of 77.2%.  \n"
   ]
  },
  {
   "cell_type": "markdown",
   "metadata": {},
   "source": [
    "<a id='eda'/>"
   ]
  },
  {
   "cell_type": "markdown",
   "metadata": {},
   "source": [
    "## Exploratory Data Analysis\n",
    "\n",
    "All cartographic information that we use as features to determine the forest cover type has been collected by the US Geological Survey (USGS) and US Forest Service (USFS). The associating labels were derived separately by the USFS Region 2 Resource Information System. We download them from the Kaggle website via the Kaggle API. "
   ]
  },
  {
   "cell_type": "markdown",
   "metadata": {},
   "source": [
    "<a id='load-libraries'/>"
   ]
  },
  {
   "cell_type": "markdown",
   "metadata": {},
   "source": [
    "### Load libraries"
   ]
  },
  {
   "cell_type": "code",
   "execution_count": 2,
   "metadata": {},
   "outputs": [],
   "source": [
    "# general libraries\n",
    "import itertools\n",
    "import pandas as pd\n",
    "import numpy as np\n",
    "\n",
    "# plot libraries\n",
    "%matplotlib inline\n",
    "import matplotlib.pyplot as plt\n",
    "import seaborn as sns\n",
    "from pandas.plotting import scatter_matrix\n",
    "\n",
    "# preprocessing (aka feature engineering)\n",
    "from sklearn.preprocessing import normalize\n",
    "from sklearn.preprocessing import StandardScaler\n",
    "\n",
    "# model selection\n",
    "from sklearn.model_selection import cross_val_score\n",
    "from sklearn.model_selection import GridSearchCV\n",
    "from sklearn.model_selection import RandomizedSearchCV\n",
    "from sklearn.model_selection import train_test_split\n",
    "\n",
    "# model definition\n",
    "from sklearn import svm as SVM\n",
    "from sklearn.linear_model import LogisticRegression\n",
    "from sklearn.naive_bayes import GaussianNB\n",
    "from sklearn.neighbors import KNeighborsClassifier\n",
    "from sklearn.neural_network import MLPClassifier\n",
    "from sklearn.tree import DecisionTreeClassifier\n",
    "\n",
    "# ensemble\n",
    "from sklearn.ensemble import BaggingClassifier\n",
    "from sklearn.ensemble import RandomForestClassifier\n",
    "from sklearn.ensemble import ExtraTreesClassifier\n",
    "\n",
    "# ensemble: boosting algorithms\n",
    "from sklearn.ensemble import AdaBoostClassifier\n",
    "from sklearn.ensemble import GradientBoostingClassifier\n",
    "from sklearn.ensemble import VotingClassifier\n",
    "\n",
    "# model metrics\n",
    "from sklearn.metrics import accuracy_score\n",
    "\n",
    "# define the random_state\n",
    "random_state = 7"
   ]
  },
  {
   "cell_type": "markdown",
   "metadata": {},
   "source": [
    "<a id='load-data'/>"
   ]
  },
  {
   "cell_type": "markdown",
   "metadata": {},
   "source": [
    "### Load data\n",
    "\n",
    "We used the Kaggle API to download the data directly from the Kaggle website. \n",
    "\n",
    "To use the Kaggle API, please follow these instructions:\n",
    "\n",
    "1. Login to your Kaggle account\n",
    "2. Select 'My account'\n",
    "3. Select 'Create New API Token'\n",
    "4. Place the token 'kaggle.json' into ~/.kaggle\n",
    "\n",
    "We decided to comment out the code relating to the use of Kaggle API since it was tested in a MAC OS and cannot guarantee reliability in other OS."
   ]
  },
  {
   "cell_type": "code",
   "execution_count": 3,
   "metadata": {
    "collapsed": true
   },
   "outputs": [],
   "source": [
    "# install the Kaggle API library\n",
    "#!pip install kaggle\n",
    "\n",
    "# download each ZIP file from the Kaggle website via the Kaggle API\n",
    "#!kaggle competitions download -c forest-cover-type-prediction -p ./data \n",
    "\n",
    "# define each downloaded file\n",
    "TRAIN_FILENAME = 'train.csv'\n",
    "TEST_FILENAME = 'test.csv'\n",
    "SAMPLE_SUBMISSION_FILENAME = 'sampleSubmission.csv'\n",
    "\n",
    "# define where the downloaded file will be stored\n",
    "DATAPATH = './data/'\n",
    "\n",
    "# unzip the files and load them as a panda DataFrame\n",
    "def get_data(filename, unzip=False):\n",
    "    '''Read CSV file (unzip or not) into a dataframe'''\n",
    "    if unzip:\n",
    "        zippath = DATAPATH + filename + '.zip'\n",
    "        return pd.read_csv(zippath, compression='zip', header=0, sep=',', quotechar='\"', index_col='Id')\n",
    "    \n",
    "    filepath = DATAPATH + filename\n",
    "    return pd.read_csv(filepath, header=0, sep=',', quotechar='\"', index_col='Id')\n",
    "\n",
    "train = get_data(TRAIN_FILENAME, unzip=False)\n",
    "test = get_data(TEST_FILENAME, unzip=False)\n",
    "sample = get_data(SAMPLE_SUBMISSION_FILENAME, unzip=False)"
   ]
  },
  {
   "cell_type": "code",
   "execution_count": 4,
   "metadata": {
    "collapsed": true
   },
   "outputs": [],
   "source": [
    "# define the data\n",
    "train_data = train.drop('Cover_Type', axis=1)\n",
    "test_data = test\n",
    "\n",
    "# define the labels\n",
    "train_labels = train['Cover_Type']"
   ]
  },
  {
   "cell_type": "code",
   "execution_count": 5,
   "metadata": {
    "collapsed": true
   },
   "outputs": [],
   "source": [
    "# define additional labels, not defined in the dataset\n",
    "cover_types = sorted(pd.unique(train['Cover_Type'])) # 1-7\n",
    "cover_labels = ['Spruce/Fir', 'Lodgepole Pine', 'Ponderosa Pine', 'Cottonwood/Willow', 'Aspen', 'Douglas-fir', 'Krummholz']\n",
    "wilderness_types = list(range(1,5)) # 1-4\n",
    "wilderness_labels = ['Rawah', 'Neota', 'Comanche', 'Cache la Poudre']\n",
    "soil_types = list(range(1,41)) # 1-40\n",
    "soil_labels = ['Cathedral family', \n",
    "               'Vanet', \n",
    "               'Haploborolis', \n",
    "               'Ratake family',\n",
    "               'Vanet family',\n",
    "               'Vanet - Wetmore families',\n",
    "               'Gothic family',\n",
    "               'Supervisor',\n",
    "               'Troutville family',\n",
    "               'Bullwark - Catamount families',\n",
    "               'Bullwark - Catamount families',\n",
    "               'Legault family',\n",
    "               'Catamount family',\n",
    "               'Pachic Argiborolis',\n",
    "               '',\n",
    "               'Cryaquolis',\n",
    "               'Gateview family',\n",
    "               'Rogert family',\n",
    "               'Typic Cryaquolis',\n",
    "               'Typic Cryaquepts',\n",
    "               'Typic Cryaquolls',\n",
    "               'Leighcan family',\n",
    "               'Leighcan family',\n",
    "               'Leighcan family',\n",
    "               'Leighcan family',\n",
    "               'Granile',\n",
    "               'Leighcan family',\n",
    "               'Leighcan family',\n",
    "               'Como - Legault families',\n",
    "               'Como family',\n",
    "               'Leighcan - Catamount families',\n",
    "               'Catamount family',\n",
    "               'Leighcan - Catamount families',\n",
    "               'Cryorthents',\n",
    "               'Cryumbrepts',\n",
    "               'Bross family',\n",
    "               'Cryumbrepts',\n",
    "               'Leighcan - Moran families',\n",
    "               'Moran family - Cryorthents',\n",
    "               'Moran family - Cryorthents'\n",
    "              ]\n",
    "soil_descriptions = ['Rock outcrop complex, extremely stony',\n",
    "                     'Ratake families complex, very stony',\n",
    "                     'Rock outcrop complex, rubbly',\n",
    "                     'Rock outcrop complex, rubbly',\n",
    "                     'Rock outcrop complex, rubbly',\n",
    "                     'Rock outcrop complex, stony',\n",
    "                     '',\n",
    "                     'Limber families complex',\n",
    "                     'very stony',\n",
    "                     'Rock outcrop complex, rubbly',\n",
    "                     'Rock land complex, rubbly',\n",
    "                     ' Rock land complex, stony',\n",
    "                     'Rock land - Bullwark family complex, rubbly',\n",
    "                     'Aquolis complex',\n",
    "                     '',\n",
    "                     'Cryoborolis complex',\n",
    "                     'Cryaquolis complex',\n",
    "                     'very stony',\n",
    "                     'Borohemists complex',\n",
    "                     'Typic Cryaquolls complex',\n",
    "                     'Leighcan family, till substratum complex',\n",
    "                     'till substratum, extremely bouldery',\n",
    "                     'till substratum, extremely bouldery',\n",
    "                     'extremely stony',\n",
    "                     'warm, extremely stony',\n",
    "                     'Catamount families complex, very stony',\n",
    "                     'Rock outcrop complex, extremely stony',\n",
    "                     'Rock outcrop complex, extremely stony',\n",
    "                     'complex, extremely stony',\n",
    "                     'Rock land - Legault family complex, extremely stony',\n",
    "                     'complex, extremely stony',\n",
    "                     'Rock outcrop - Leighcan family complex, extremely stony',\n",
    "                     'Rock outcrop complex, extremely stony',\n",
    "                     'Rock land complex, extremely stony',\n",
    "                     'Rock outcrop - Cryaquepts complex',\n",
    "                     'Rock land - Cryumbrepts complex, extremely stony',\n",
    "                     'Cryumbrepts - Cryorthents complex, extremely stony',\n",
    "                     'Cryaquolls complex, extremely stony',\n",
    "                     'Cryorthents - Leighcan family complex, extremely stony',\n",
    "                     'Cryorthents - Rock land complex, extremely stony'\n",
    "                    ]\n",
    "\n",
    "numerical_feature_labels = [ 'Elevation (in meters)',\n",
    "                             'Aspect (in degrees)',\n",
    "                             'Slope (in degrees)',\n",
    "                             'Horizontal Distance To Hydrology',\n",
    "                             'Vertical Distance To Hydrology',\n",
    "                             'Horizontal Distance To Roadways',\n",
    "                             'Hillshade 9am (0 to 255 index)',\n",
    "                             'Hillshade 12pm (0 to 255 index)',\n",
    "                             'Hillshade 3pm  (0 to 255 index)',\n",
    "                             'Horizontal Distance To Fire Points',\n",
    "                    ]"
   ]
  },
  {
   "cell_type": "code",
   "execution_count": 6,
   "metadata": {
    "collapsed": true
   },
   "outputs": [],
   "source": [
    "#Create different categories of vars so we can do appropriate transformations\n",
    "\n",
    "soil_vars        = [\"Soil_Type\" + str(i) for i in range(1,41)]\n",
    "wilderness_vars  = [\"Wilderness_Area\" + str(i) for i in range(1,5)]\n",
    "categorical_vars = soil_vars + wilderness_vars\n",
    "numerical_vars   = train_data.columns[:10]"
   ]
  },
  {
   "cell_type": "code",
   "execution_count": 7,
   "metadata": {
    "collapsed": true
   },
   "outputs": [],
   "source": [
    "# Create a lookup table to easily map features to descriptions\n",
    "\n",
    "lookup_cover_labels      = dict(zip(cover_types,cover_labels))\n",
    "lookup_soil_labels       = dict(zip(soil_vars,soil_labels))\n",
    "lookup_wilderness_labels = dict(zip(wilderness_vars,wilderness_labels))\n",
    "lookup_numerical_labels  = dict(zip(numerical_vars,numerical_feature_labels))"
   ]
  },
  {
   "cell_type": "code",
   "execution_count": 11,
   "metadata": {
    "collapsed": true
   },
   "outputs": [],
   "source": [
    "# Specify the color to use for the train labels\n",
    "\n",
    "rgb_values = sns.hls_palette(8).as_hex()"
   ]
  },
  {
   "cell_type": "markdown",
   "metadata": {},
   "source": [
    "<a id='identify-the-train-labels'/>"
   ]
  },
  {
   "cell_type": "markdown",
   "metadata": {},
   "source": [
    "### Identify the train labels\n",
    "\n",
    "There are 2,160 observations for each of the seven forest cover types. The classes are represented equally, which is great news, because we do not have to concern ourselves with misleading classification accuracy, a common problem that plagues an imbalanced dataset."
   ]
  },
  {
   "cell_type": "code",
   "execution_count": 12,
   "metadata": {
    "scrolled": false
   },
   "outputs": [
    {
     "data": {
      "text/plain": [
       "7    2160\n",
       "6    2160\n",
       "5    2160\n",
       "4    2160\n",
       "3    2160\n",
       "2    2160\n",
       "1    2160\n",
       "Name: Cover_Type, dtype: int64"
      ]
     },
     "execution_count": 12,
     "metadata": {},
     "output_type": "execute_result"
    },
    {
     "data": {
      "image/png": "[encoded data removed]",
      "text/plain": [
       "<matplotlib.figure.Figure at 0x118757a20>"
      ]
     },
     "metadata": {},
     "output_type": "display_data"
    }
   ],
   "source": [
    "train_labels.value_counts().plot(kind='barh', color=rgb_values)\n",
    "train_labels.value_counts()"
   ]
  },
  {
   "cell_type": "markdown",
   "metadata": {},
   "source": [
    "<a id='identify-the-train-features'/>"
   ]
  },
  {
   "cell_type": "markdown",
   "metadata": {},
   "source": [
    "### Identify the train features\n",
    "\n",
    "In the train dataset, there are 15,120 observations with 54 features. "
   ]
  },
  {
   "cell_type": "code",
   "execution_count": 13,
   "metadata": {},
   "outputs": [
    {
     "name": "stdout",
     "output_type": "stream",
     "text": [
      "(15120, 54)\n"
     ]
    },
    {
     "data": {
      "text/plain": [
       "Index(['Elevation', 'Aspect', 'Slope', 'Horizontal_Distance_To_Hydrology',\n",
       "       'Vertical_Distance_To_Hydrology', 'Horizontal_Distance_To_Roadways',\n",
       "       'Hillshade_9am', 'Hillshade_Noon', 'Hillshade_3pm',\n",
       "       'Horizontal_Distance_To_Fire_Points', 'Wilderness_Area1',\n",
       "       'Wilderness_Area2', 'Wilderness_Area3', 'Wilderness_Area4',\n",
       "       'Soil_Type1', 'Soil_Type2', 'Soil_Type3', 'Soil_Type4', 'Soil_Type5',\n",
       "       'Soil_Type6', 'Soil_Type7', 'Soil_Type8', 'Soil_Type9', 'Soil_Type10',\n",
       "       'Soil_Type11', 'Soil_Type12', 'Soil_Type13', 'Soil_Type14',\n",
       "       'Soil_Type15', 'Soil_Type16', 'Soil_Type17', 'Soil_Type18',\n",
       "       'Soil_Type19', 'Soil_Type20', 'Soil_Type21', 'Soil_Type22',\n",
       "       'Soil_Type23', 'Soil_Type24', 'Soil_Type25', 'Soil_Type26',\n",
       "       'Soil_Type27', 'Soil_Type28', 'Soil_Type29', 'Soil_Type30',\n",
       "       'Soil_Type31', 'Soil_Type32', 'Soil_Type33', 'Soil_Type34',\n",
       "       'Soil_Type35', 'Soil_Type36', 'Soil_Type37', 'Soil_Type38',\n",
       "       'Soil_Type39', 'Soil_Type40'],\n",
       "      dtype='object')"
      ]
     },
     "execution_count": 13,
     "metadata": {},
     "output_type": "execute_result"
    }
   ],
   "source": [
    "print(train_data.shape)\n",
    "train_data.columns"
   ]
  },
  {
   "cell_type": "markdown",
   "metadata": {},
   "source": [
    "In the test dataset, there are 565,892 observations which includes the 54 features found in the train dataset. In other words, we have validated that the train dataset is a good dataset to use as it shares the same cartographic information as the test dataset."
   ]
  },
  {
   "cell_type": "code",
   "execution_count": 14,
   "metadata": {},
   "outputs": [
    {
     "name": "stdout",
     "output_type": "stream",
     "text": [
      "(565892, 54)\n"
     ]
    },
    {
     "data": {
      "text/plain": [
       "Index(['Elevation', 'Aspect', 'Slope', 'Horizontal_Distance_To_Hydrology',\n",
       "       'Vertical_Distance_To_Hydrology', 'Horizontal_Distance_To_Roadways',\n",
       "       'Hillshade_9am', 'Hillshade_Noon', 'Hillshade_3pm',\n",
       "       'Horizontal_Distance_To_Fire_Points', 'Wilderness_Area1',\n",
       "       'Wilderness_Area2', 'Wilderness_Area3', 'Wilderness_Area4',\n",
       "       'Soil_Type1', 'Soil_Type2', 'Soil_Type3', 'Soil_Type4', 'Soil_Type5',\n",
       "       'Soil_Type6', 'Soil_Type7', 'Soil_Type8', 'Soil_Type9', 'Soil_Type10',\n",
       "       'Soil_Type11', 'Soil_Type12', 'Soil_Type13', 'Soil_Type14',\n",
       "       'Soil_Type15', 'Soil_Type16', 'Soil_Type17', 'Soil_Type18',\n",
       "       'Soil_Type19', 'Soil_Type20', 'Soil_Type21', 'Soil_Type22',\n",
       "       'Soil_Type23', 'Soil_Type24', 'Soil_Type25', 'Soil_Type26',\n",
       "       'Soil_Type27', 'Soil_Type28', 'Soil_Type29', 'Soil_Type30',\n",
       "       'Soil_Type31', 'Soil_Type32', 'Soil_Type33', 'Soil_Type34',\n",
       "       'Soil_Type35', 'Soil_Type36', 'Soil_Type37', 'Soil_Type38',\n",
       "       'Soil_Type39', 'Soil_Type40'],\n",
       "      dtype='object')"
      ]
     },
     "execution_count": 14,
     "metadata": {},
     "output_type": "execute_result"
    }
   ],
   "source": [
    "print(test.shape)\n",
    "test.columns"
   ]
  },
  {
   "cell_type": "markdown",
   "metadata": {},
   "source": [
    "Looking at the features, it is interesting to note that we do not see longitude and latitude values, which means we cannot validate the cartographic information to the actual geographic location. The 54 features are summarized in the following table below:\n",
    "\n",
    "| Name                               | Measurement     | Description                                               |\n",
    "| ----------------------------------:| ---------------:| ---------------------------------------------------------:|\n",
    "| Elevation                          | meters          | Height above sea level                                    |\n",
    "| Aspect                             | degrees azimuth | Compass direction that a slope faces<br/>0: North, 90: East, 180: South, 270: West<br/>Potential influence on temperature and soil | \n",
    "| Slope                              | degrees         | Degree of incline of a surface<br/>In other words, maximum rate of change of elevation<br/>Has gradient and aspect as components                                                     | \n",
    "| Horizontal_Distance_To_Hydrology   | meters          | Horizontal Distance to the nearest surface water features | \n",
    "| Vertical_Distance_To_Hydrology     | meters          | Vertical Distance to the nearest surface water features   | \n",
    "| Horizontal_Distance_To_Roadways    | meters          | Horizontal distance to the nearest roadway                | \n",
    "| Horizontal_Distance_To_Fire_Points | meters          | Horizontal distance to the nearest wildfire ignition points | \n",
    "| Hillshade_9am                      | 0 (dark) to 255 (light) | Hillshade index at 9 AM, summer solstice | \n",
    "| Hillshade_Noon                     | 0 (dark) to 255 (light) | Hillshade index at 12 PM, summer solstice | \n",
    "| Hillshade_3pm                      | 0 (dark) to 255 (light) | Hillshade index at 3 PM, summer solstice | \n",
    "| Wilderness_Area (4 binary columns) | 0 (absent) or 1 (present) | Wilderness area designation<br/>1: Rawah, 2: Neota, 3: Comanche, 4: Cache la Poudre | \n",
    "| Soil_Type (40 binary columns)      | 0 (absent) or 1 (present) | Soil type designation |\n",
    "\n"
   ]
  },
  {
   "cell_type": "markdown",
   "metadata": {},
   "source": [
    "<a id='address-concerns-about-the-datasets' />"
   ]
  },
  {
   "cell_type": "markdown",
   "metadata": {},
   "source": [
    "### Address concerns about the datasets\n",
    "\n",
    "In order for us to confidently apply the datasets onto the models, we first take a look at the size of the training set and compare it to the test set. Unfortunately, the number of observations in the training set is substantially fewer than the number of observations in the test set. With less training data, the parameter estimates that we determined from our models can have greater variance in the accuracy prediction. On a positive note, if we are more concerned about estimating the actual error of our model, having a bigger test set can help in achieving this. For this reason, we consider it to be not a substantial issue to use the training dataset despite the size difference."
   ]
  },
  {
   "cell_type": "code",
   "execution_count": 15,
   "metadata": {},
   "outputs": [
    {
     "name": "stdout",
     "output_type": "stream",
     "text": [
      "train size 15120\n",
      "test size 581012\n",
      "percentage of train dataset: 2.60%\n",
      "percentage of test dataset: 97.40%\n"
     ]
    }
   ],
   "source": [
    "# compare the relative sizes of the train and test dataset\n",
    "train_size = train_data.shape[0]\n",
    "test_size = test_data.shape[0]\n",
    "total_size = train_size + test_size\n",
    "print('train size', train_size)\n",
    "print('test size', total_size)\n",
    "print('percentage of train dataset: {:.2f}%'.format(train_size/total_size*100))\n",
    "print('percentage of test dataset: {:.2f}%'.format(test_size/total_size*100))"
   ]
  },
  {
   "cell_type": "code",
   "execution_count": 23,
   "metadata": {
    "scrolled": true
   },
   "outputs": [
    {
     "data": {
      "text/html": [
       "<div>\n",
       "<style>\n",
       "    .dataframe thead tr:only-child th {\n",
       "        text-align: right;\n",
       "    }\n",
       "\n",
       "    .dataframe thead th {\n",
       "        text-align: left;\n",
       "    }\n",
       "\n",
       "    .dataframe tbody tr th {\n",
       "        vertical-align: top;\n",
       "    }\n",
       "</style>\n",
       "<table border=\"1\" class=\"dataframe\">\n",
       "  <thead>\n",
       "    <tr style=\"text-align: right;\">\n",
       "      <th></th>\n",
       "      <th>Elevation</th>\n",
       "      <th>Aspect</th>\n",
       "      <th>Slope</th>\n",
       "      <th>Horizontal_Distance_To_Hydrology</th>\n",
       "      <th>Vertical_Distance_To_Hydrology</th>\n",
       "      <th>Horizontal_Distance_To_Roadways</th>\n",
       "      <th>Hillshade_9am</th>\n",
       "      <th>Hillshade_Noon</th>\n",
       "      <th>Hillshade_3pm</th>\n",
       "      <th>Horizontal_Distance_To_Fire_Points</th>\n",
       "      <th>...</th>\n",
       "      <th>Soil_Type31</th>\n",
       "      <th>Soil_Type32</th>\n",
       "      <th>Soil_Type33</th>\n",
       "      <th>Soil_Type34</th>\n",
       "      <th>Soil_Type35</th>\n",
       "      <th>Soil_Type36</th>\n",
       "      <th>Soil_Type37</th>\n",
       "      <th>Soil_Type38</th>\n",
       "      <th>Soil_Type39</th>\n",
       "      <th>Soil_Type40</th>\n",
       "    </tr>\n",
       "  </thead>\n",
       "  <tbody>\n",
       "    <tr>\n",
       "      <th>count</th>\n",
       "      <td>15120.000000</td>\n",
       "      <td>15120.000000</td>\n",
       "      <td>15120.000000</td>\n",
       "      <td>15120.000000</td>\n",
       "      <td>15120.000000</td>\n",
       "      <td>15120.000000</td>\n",
       "      <td>15120.000000</td>\n",
       "      <td>15120.000000</td>\n",
       "      <td>15120.000000</td>\n",
       "      <td>15120.000000</td>\n",
       "      <td>...</td>\n",
       "      <td>15120.000000</td>\n",
       "      <td>15120.000000</td>\n",
       "      <td>15120.000000</td>\n",
       "      <td>15120.000000</td>\n",
       "      <td>15120.000000</td>\n",
       "      <td>15120.000000</td>\n",
       "      <td>15120.000000</td>\n",
       "      <td>15120.000000</td>\n",
       "      <td>15120.000000</td>\n",
       "      <td>15120.000000</td>\n",
       "    </tr>\n",
       "    <tr>\n",
       "      <th>mean</th>\n",
       "      <td>2749.322553</td>\n",
       "      <td>156.676653</td>\n",
       "      <td>16.501587</td>\n",
       "      <td>227.195701</td>\n",
       "      <td>51.076521</td>\n",
       "      <td>1714.023214</td>\n",
       "      <td>212.704299</td>\n",
       "      <td>218.965608</td>\n",
       "      <td>135.091997</td>\n",
       "      <td>1511.147288</td>\n",
       "      <td>...</td>\n",
       "      <td>0.021958</td>\n",
       "      <td>0.045635</td>\n",
       "      <td>0.040741</td>\n",
       "      <td>0.001455</td>\n",
       "      <td>0.006746</td>\n",
       "      <td>0.000661</td>\n",
       "      <td>0.002249</td>\n",
       "      <td>0.048148</td>\n",
       "      <td>0.043452</td>\n",
       "      <td>0.030357</td>\n",
       "    </tr>\n",
       "    <tr>\n",
       "      <th>std</th>\n",
       "      <td>417.678187</td>\n",
       "      <td>110.085801</td>\n",
       "      <td>8.453927</td>\n",
       "      <td>210.075296</td>\n",
       "      <td>61.239406</td>\n",
       "      <td>1325.066358</td>\n",
       "      <td>30.561287</td>\n",
       "      <td>22.801966</td>\n",
       "      <td>45.895189</td>\n",
       "      <td>1099.936493</td>\n",
       "      <td>...</td>\n",
       "      <td>0.146550</td>\n",
       "      <td>0.208699</td>\n",
       "      <td>0.197696</td>\n",
       "      <td>0.038118</td>\n",
       "      <td>0.081859</td>\n",
       "      <td>0.025710</td>\n",
       "      <td>0.047368</td>\n",
       "      <td>0.214086</td>\n",
       "      <td>0.203880</td>\n",
       "      <td>0.171574</td>\n",
       "    </tr>\n",
       "    <tr>\n",
       "      <th>min</th>\n",
       "      <td>1863.000000</td>\n",
       "      <td>0.000000</td>\n",
       "      <td>0.000000</td>\n",
       "      <td>0.000000</td>\n",
       "      <td>-146.000000</td>\n",
       "      <td>0.000000</td>\n",
       "      <td>0.000000</td>\n",
       "      <td>99.000000</td>\n",
       "      <td>0.000000</td>\n",
       "      <td>0.000000</td>\n",
       "      <td>...</td>\n",
       "      <td>0.000000</td>\n",
       "      <td>0.000000</td>\n",
       "      <td>0.000000</td>\n",
       "      <td>0.000000</td>\n",
       "      <td>0.000000</td>\n",
       "      <td>0.000000</td>\n",
       "      <td>0.000000</td>\n",
       "      <td>0.000000</td>\n",
       "      <td>0.000000</td>\n",
       "      <td>0.000000</td>\n",
       "    </tr>\n",
       "    <tr>\n",
       "      <th>25%</th>\n",
       "      <td>2376.000000</td>\n",
       "      <td>65.000000</td>\n",
       "      <td>10.000000</td>\n",
       "      <td>67.000000</td>\n",
       "      <td>5.000000</td>\n",
       "      <td>764.000000</td>\n",
       "      <td>196.000000</td>\n",
       "      <td>207.000000</td>\n",
       "      <td>106.000000</td>\n",
       "      <td>730.000000</td>\n",
       "      <td>...</td>\n",
       "      <td>0.000000</td>\n",
       "      <td>0.000000</td>\n",
       "      <td>0.000000</td>\n",
       "      <td>0.000000</td>\n",
       "      <td>0.000000</td>\n",
       "      <td>0.000000</td>\n",
       "      <td>0.000000</td>\n",
       "      <td>0.000000</td>\n",
       "      <td>0.000000</td>\n",
       "      <td>0.000000</td>\n",
       "    </tr>\n",
       "    <tr>\n",
       "      <th>50%</th>\n",
       "      <td>2752.000000</td>\n",
       "      <td>126.000000</td>\n",
       "      <td>15.000000</td>\n",
       "      <td>180.000000</td>\n",
       "      <td>32.000000</td>\n",
       "      <td>1316.000000</td>\n",
       "      <td>220.000000</td>\n",
       "      <td>223.000000</td>\n",
       "      <td>138.000000</td>\n",
       "      <td>1256.000000</td>\n",
       "      <td>...</td>\n",
       "      <td>0.000000</td>\n",
       "      <td>0.000000</td>\n",
       "      <td>0.000000</td>\n",
       "      <td>0.000000</td>\n",
       "      <td>0.000000</td>\n",
       "      <td>0.000000</td>\n",
       "      <td>0.000000</td>\n",
       "      <td>0.000000</td>\n",
       "      <td>0.000000</td>\n",
       "      <td>0.000000</td>\n",
       "    </tr>\n",
       "    <tr>\n",
       "      <th>75%</th>\n",
       "      <td>3104.000000</td>\n",
       "      <td>261.000000</td>\n",
       "      <td>22.000000</td>\n",
       "      <td>330.000000</td>\n",
       "      <td>79.000000</td>\n",
       "      <td>2270.000000</td>\n",
       "      <td>235.000000</td>\n",
       "      <td>235.000000</td>\n",
       "      <td>167.000000</td>\n",
       "      <td>1988.250000</td>\n",
       "      <td>...</td>\n",
       "      <td>0.000000</td>\n",
       "      <td>0.000000</td>\n",
       "      <td>0.000000</td>\n",
       "      <td>0.000000</td>\n",
       "      <td>0.000000</td>\n",
       "      <td>0.000000</td>\n",
       "      <td>0.000000</td>\n",
       "      <td>0.000000</td>\n",
       "      <td>0.000000</td>\n",
       "      <td>0.000000</td>\n",
       "    </tr>\n",
       "    <tr>\n",
       "      <th>max</th>\n",
       "      <td>3849.000000</td>\n",
       "      <td>360.000000</td>\n",
       "      <td>52.000000</td>\n",
       "      <td>1343.000000</td>\n",
       "      <td>554.000000</td>\n",
       "      <td>6890.000000</td>\n",
       "      <td>254.000000</td>\n",
       "      <td>254.000000</td>\n",
       "      <td>248.000000</td>\n",
       "      <td>6993.000000</td>\n",
       "      <td>...</td>\n",
       "      <td>1.000000</td>\n",
       "      <td>1.000000</td>\n",
       "      <td>1.000000</td>\n",
       "      <td>1.000000</td>\n",
       "      <td>1.000000</td>\n",
       "      <td>1.000000</td>\n",
       "      <td>1.000000</td>\n",
       "      <td>1.000000</td>\n",
       "      <td>1.000000</td>\n",
       "      <td>1.000000</td>\n",
       "    </tr>\n",
       "  </tbody>\n",
       "</table>\n",
       "<p>8 rows × 54 columns</p>\n",
       "</div>"
      ],
      "text/plain": [
       "          Elevation        Aspect         Slope  \\\n",
       "count  15120.000000  15120.000000  15120.000000   \n",
       "mean    2749.322553    156.676653     16.501587   \n",
       "std      417.678187    110.085801      8.453927   \n",
       "min     1863.000000      0.000000      0.000000   \n",
       "25%     2376.000000     65.000000     10.000000   \n",
       "50%     2752.000000    126.000000     15.000000   \n",
       "75%     3104.000000    261.000000     22.000000   \n",
       "max     3849.000000    360.000000     52.000000   \n",
       "\n",
       "       Horizontal_Distance_To_Hydrology  Vertical_Distance_To_Hydrology  \\\n",
       "count                      15120.000000                    15120.000000   \n",
       "mean                         227.195701                       51.076521   \n",
       "std                          210.075296                       61.239406   \n",
       "min                            0.000000                     -146.000000   \n",
       "25%                           67.000000                        5.000000   \n",
       "50%                          180.000000                       32.000000   \n",
       "75%                          330.000000                       79.000000   \n",
       "max                         1343.000000                      554.000000   \n",
       "\n",
       "       Horizontal_Distance_To_Roadways  Hillshade_9am  Hillshade_Noon  \\\n",
       "count                     15120.000000   15120.000000    15120.000000   \n",
       "mean                       1714.023214     212.704299      218.965608   \n",
       "std                        1325.066358      30.561287       22.801966   \n",
       "min                           0.000000       0.000000       99.000000   \n",
       "25%                         764.000000     196.000000      207.000000   \n",
       "50%                        1316.000000     220.000000      223.000000   \n",
       "75%                        2270.000000     235.000000      235.000000   \n",
       "max                        6890.000000     254.000000      254.000000   \n",
       "\n",
       "       Hillshade_3pm  Horizontal_Distance_To_Fire_Points      ...       \\\n",
       "count   15120.000000                        15120.000000      ...        \n",
       "mean      135.091997                         1511.147288      ...        \n",
       "std        45.895189                         1099.936493      ...        \n",
       "min         0.000000                            0.000000      ...        \n",
       "25%       106.000000                          730.000000      ...        \n",
       "50%       138.000000                         1256.000000      ...        \n",
       "75%       167.000000                         1988.250000      ...        \n",
       "max       248.000000                         6993.000000      ...        \n",
       "\n",
       "        Soil_Type31   Soil_Type32   Soil_Type33   Soil_Type34   Soil_Type35  \\\n",
       "count  15120.000000  15120.000000  15120.000000  15120.000000  15120.000000   \n",
       "mean       0.021958      0.045635      0.040741      0.001455      0.006746   \n",
       "std        0.146550      0.208699      0.197696      0.038118      0.081859   \n",
       "min        0.000000      0.000000      0.000000      0.000000      0.000000   \n",
       "25%        0.000000      0.000000      0.000000      0.000000      0.000000   \n",
       "50%        0.000000      0.000000      0.000000      0.000000      0.000000   \n",
       "75%        0.000000      0.000000      0.000000      0.000000      0.000000   \n",
       "max        1.000000      1.000000      1.000000      1.000000      1.000000   \n",
       "\n",
       "        Soil_Type36   Soil_Type37   Soil_Type38   Soil_Type39   Soil_Type40  \n",
       "count  15120.000000  15120.000000  15120.000000  15120.000000  15120.000000  \n",
       "mean       0.000661      0.002249      0.048148      0.043452      0.030357  \n",
       "std        0.025710      0.047368      0.214086      0.203880      0.171574  \n",
       "min        0.000000      0.000000      0.000000      0.000000      0.000000  \n",
       "25%        0.000000      0.000000      0.000000      0.000000      0.000000  \n",
       "50%        0.000000      0.000000      0.000000      0.000000      0.000000  \n",
       "75%        0.000000      0.000000      0.000000      0.000000      0.000000  \n",
       "max        1.000000      1.000000      1.000000      1.000000      1.000000  \n",
       "\n",
       "[8 rows x 54 columns]"
      ]
     },
     "execution_count": 23,
     "metadata": {},
     "output_type": "execute_result"
    }
   ],
   "source": [
    "train_data.describe()"
   ]
  },
  {
   "cell_type": "code",
   "execution_count": 25,
   "metadata": {},
   "outputs": [
    {
     "name": "stderr",
     "output_type": "stream",
     "text": [
      "/Users/tiffapedia/anaconda3/lib/python3.6/site-packages/IPython/core/interactiveshell.py:2881: FutureWarning: \n",
      "mpl_style had been deprecated and will be removed in a future version.\n",
      "Use `matplotlib.pyplot.style.use` instead.\n",
      "\n",
      "  exec(code_obj, self.user_global_ns, self.user_ns)\n"
     ]
    },
    {
     "data": {
      "text/plain": [
       "1          Axes(0.1,0.7125;0.235294x0.1875)\n",
       "2     Axes(0.382353,0.7125;0.235294x0.1875)\n",
       "3     Axes(0.664706,0.7125;0.235294x0.1875)\n",
       "4         Axes(0.1,0.43125;0.235294x0.1875)\n",
       "5    Axes(0.382353,0.43125;0.235294x0.1875)\n",
       "6    Axes(0.664706,0.43125;0.235294x0.1875)\n",
       "7            Axes(0.1,0.15;0.235294x0.1875)\n",
       "dtype: object"
      ]
     },
     "execution_count": 25,
     "metadata": {},
     "output_type": "execute_result"
    },
    {
     "data": {
      "image/png": "[encoded data removed]",
      "text/plain": [
       "<matplotlib.figure.Figure at 0x11251d470>"
      ]
     },
     "metadata": {},
     "output_type": "display_data"
    }
   ],
   "source": [
    "pd.options.display.mpl_style='default'\n",
    "train_data.groupby(train_labels).boxplot()"
   ]
  },
  {
   "cell_type": "markdown",
   "metadata": {},
   "source": [
    "TODO: figure out a better boxplot for outliers"
   ]
  },
  {
   "cell_type": "code",
   "execution_count": 18,
   "metadata": {},
   "outputs": [
    {
     "ename": "TypeError",
     "evalue": "unhashable type: 'slice'",
     "output_type": "error",
     "traceback": [
      "\u001b[0;31m---------------------------------------------------------------------------\u001b[0m",
      "\u001b[0;31mTypeError\u001b[0m                                 Traceback (most recent call last)",
      "\u001b[0;32m<ipython-input-18-1f32335f864f>\u001b[0m in \u001b[0;36m<module>\u001b[0;34m()\u001b[0m\n\u001b[0;32m----> 1\u001b[0;31m \u001b[0mplt\u001b[0m\u001b[0;34m.\u001b[0m\u001b[0mboxplot\u001b[0m\u001b[0;34m(\u001b[0m\u001b[0mtrain_data\u001b[0m\u001b[0;34m)\u001b[0m\u001b[0;34m\u001b[0m\u001b[0m\n\u001b[0m",
      "\u001b[0;32m/Users/tiffapedia/anaconda3/lib/python3.6/site-packages/matplotlib/pyplot.py\u001b[0m in \u001b[0;36mboxplot\u001b[0;34m(x, notch, sym, vert, whis, positions, widths, patch_artist, bootstrap, usermedians, conf_intervals, meanline, showmeans, showcaps, showbox, showfliers, boxprops, labels, flierprops, medianprops, meanprops, capprops, whiskerprops, manage_xticks, autorange, zorder, hold, data)\u001b[0m\n\u001b[1;32m   2783\u001b[0m                          \u001b[0mwhiskerprops\u001b[0m\u001b[0;34m=\u001b[0m\u001b[0mwhiskerprops\u001b[0m\u001b[0;34m,\u001b[0m\u001b[0;34m\u001b[0m\u001b[0m\n\u001b[1;32m   2784\u001b[0m                          \u001b[0mmanage_xticks\u001b[0m\u001b[0;34m=\u001b[0m\u001b[0mmanage_xticks\u001b[0m\u001b[0;34m,\u001b[0m \u001b[0mautorange\u001b[0m\u001b[0;34m=\u001b[0m\u001b[0mautorange\u001b[0m\u001b[0;34m,\u001b[0m\u001b[0;34m\u001b[0m\u001b[0m\n\u001b[0;32m-> 2785\u001b[0;31m                          zorder=zorder, data=data)\n\u001b[0m\u001b[1;32m   2786\u001b[0m     \u001b[0;32mfinally\u001b[0m\u001b[0;34m:\u001b[0m\u001b[0;34m\u001b[0m\u001b[0m\n\u001b[1;32m   2787\u001b[0m         \u001b[0max\u001b[0m\u001b[0;34m.\u001b[0m\u001b[0m_hold\u001b[0m \u001b[0;34m=\u001b[0m \u001b[0mwashold\u001b[0m\u001b[0;34m\u001b[0m\u001b[0m\n",
      "\u001b[0;32m/Users/tiffapedia/anaconda3/lib/python3.6/site-packages/matplotlib/__init__.py\u001b[0m in \u001b[0;36minner\u001b[0;34m(ax, *args, **kwargs)\u001b[0m\n\u001b[1;32m   1896\u001b[0m                     warnings.warn(msg % (label_namer, func.__name__),\n\u001b[1;32m   1897\u001b[0m                                   RuntimeWarning, stacklevel=2)\n\u001b[0;32m-> 1898\u001b[0;31m             \u001b[0;32mreturn\u001b[0m \u001b[0mfunc\u001b[0m\u001b[0;34m(\u001b[0m\u001b[0max\u001b[0m\u001b[0;34m,\u001b[0m \u001b[0;34m*\u001b[0m\u001b[0margs\u001b[0m\u001b[0;34m,\u001b[0m \u001b[0;34m**\u001b[0m\u001b[0mkwargs\u001b[0m\u001b[0;34m)\u001b[0m\u001b[0;34m\u001b[0m\u001b[0m\n\u001b[0m\u001b[1;32m   1899\u001b[0m         \u001b[0mpre_doc\u001b[0m \u001b[0;34m=\u001b[0m \u001b[0minner\u001b[0m\u001b[0;34m.\u001b[0m\u001b[0m__doc__\u001b[0m\u001b[0;34m\u001b[0m\u001b[0m\n\u001b[1;32m   1900\u001b[0m         \u001b[0;32mif\u001b[0m \u001b[0mpre_doc\u001b[0m \u001b[0;32mis\u001b[0m \u001b[0;32mNone\u001b[0m\u001b[0;34m:\u001b[0m\u001b[0;34m\u001b[0m\u001b[0m\n",
      "\u001b[0;32m/Users/tiffapedia/anaconda3/lib/python3.6/site-packages/matplotlib/axes/_axes.py\u001b[0m in \u001b[0;36mboxplot\u001b[0;34m(self, x, notch, sym, vert, whis, positions, widths, patch_artist, bootstrap, usermedians, conf_intervals, meanline, showmeans, showcaps, showbox, showfliers, boxprops, labels, flierprops, medianprops, meanprops, capprops, whiskerprops, manage_xticks, autorange, zorder)\u001b[0m\n\u001b[1;32m   3272\u001b[0m             \u001b[0mbootstrap\u001b[0m \u001b[0;34m=\u001b[0m \u001b[0mrcParams\u001b[0m\u001b[0;34m[\u001b[0m\u001b[0;34m'boxplot.bootstrap'\u001b[0m\u001b[0;34m]\u001b[0m\u001b[0;34m\u001b[0m\u001b[0m\n\u001b[1;32m   3273\u001b[0m         bxpstats = cbook.boxplot_stats(x, whis=whis, bootstrap=bootstrap,\n\u001b[0;32m-> 3274\u001b[0;31m                                        labels=labels, autorange=autorange)\n\u001b[0m\u001b[1;32m   3275\u001b[0m         \u001b[0;32mif\u001b[0m \u001b[0mnotch\u001b[0m \u001b[0;32mis\u001b[0m \u001b[0;32mNone\u001b[0m\u001b[0;34m:\u001b[0m\u001b[0;34m\u001b[0m\u001b[0m\n\u001b[1;32m   3276\u001b[0m             \u001b[0mnotch\u001b[0m \u001b[0;34m=\u001b[0m \u001b[0mrcParams\u001b[0m\u001b[0;34m[\u001b[0m\u001b[0;34m'boxplot.notch'\u001b[0m\u001b[0;34m]\u001b[0m\u001b[0;34m\u001b[0m\u001b[0m\n",
      "\u001b[0;32m/Users/tiffapedia/anaconda3/lib/python3.6/site-packages/matplotlib/cbook.py\u001b[0m in \u001b[0;36mboxplot_stats\u001b[0;34m(X, whis, bootstrap, labels, autorange)\u001b[0m\n\u001b[1;32m   1992\u001b[0m \u001b[0;34m\u001b[0m\u001b[0m\n\u001b[1;32m   1993\u001b[0m     \u001b[0;31m# convert X to a list of lists\u001b[0m\u001b[0;34m\u001b[0m\u001b[0;34m\u001b[0m\u001b[0m\n\u001b[0;32m-> 1994\u001b[0;31m     \u001b[0mX\u001b[0m \u001b[0;34m=\u001b[0m \u001b[0m_reshape_2D\u001b[0m\u001b[0;34m(\u001b[0m\u001b[0mX\u001b[0m\u001b[0;34m)\u001b[0m\u001b[0;34m\u001b[0m\u001b[0m\n\u001b[0m\u001b[1;32m   1995\u001b[0m \u001b[0;34m\u001b[0m\u001b[0m\n\u001b[1;32m   1996\u001b[0m     \u001b[0mncols\u001b[0m \u001b[0;34m=\u001b[0m \u001b[0mlen\u001b[0m\u001b[0;34m(\u001b[0m\u001b[0mX\u001b[0m\u001b[0;34m)\u001b[0m\u001b[0;34m\u001b[0m\u001b[0m\n",
      "\u001b[0;32m/Users/tiffapedia/anaconda3/lib/python3.6/site-packages/matplotlib/cbook.py\u001b[0m in \u001b[0;36m_reshape_2D\u001b[0;34m(X)\u001b[0m\n\u001b[1;32m   2253\u001b[0m                 \u001b[0mX\u001b[0m \u001b[0;34m=\u001b[0m \u001b[0;34m[\u001b[0m\u001b[0mX\u001b[0m\u001b[0;34m.\u001b[0m\u001b[0mravel\u001b[0m\u001b[0;34m(\u001b[0m\u001b[0;34m)\u001b[0m\u001b[0;34m]\u001b[0m\u001b[0;34m\u001b[0m\u001b[0m\n\u001b[1;32m   2254\u001b[0m             \u001b[0;32melse\u001b[0m\u001b[0;34m:\u001b[0m\u001b[0;34m\u001b[0m\u001b[0m\n\u001b[0;32m-> 2255\u001b[0;31m                 \u001b[0mX\u001b[0m \u001b[0;34m=\u001b[0m \u001b[0;34m[\u001b[0m\u001b[0mX\u001b[0m\u001b[0;34m[\u001b[0m\u001b[0;34m:\u001b[0m\u001b[0;34m,\u001b[0m \u001b[0mi\u001b[0m\u001b[0;34m]\u001b[0m \u001b[0;32mfor\u001b[0m \u001b[0mi\u001b[0m \u001b[0;32min\u001b[0m \u001b[0mxrange\u001b[0m\u001b[0;34m(\u001b[0m\u001b[0mncols\u001b[0m\u001b[0;34m)\u001b[0m\u001b[0;34m]\u001b[0m\u001b[0;34m\u001b[0m\u001b[0m\n\u001b[0m\u001b[1;32m   2256\u001b[0m         \u001b[0;32melse\u001b[0m\u001b[0;34m:\u001b[0m\u001b[0;34m\u001b[0m\u001b[0m\n\u001b[1;32m   2257\u001b[0m             \u001b[0;32mraise\u001b[0m \u001b[0mValueError\u001b[0m\u001b[0;34m(\u001b[0m\u001b[0;34m\"input `X` must have 2 or fewer dimensions\"\u001b[0m\u001b[0;34m)\u001b[0m\u001b[0;34m\u001b[0m\u001b[0m\n",
      "\u001b[0;32m/Users/tiffapedia/anaconda3/lib/python3.6/site-packages/matplotlib/cbook.py\u001b[0m in \u001b[0;36m<listcomp>\u001b[0;34m(.0)\u001b[0m\n\u001b[1;32m   2253\u001b[0m                 \u001b[0mX\u001b[0m \u001b[0;34m=\u001b[0m \u001b[0;34m[\u001b[0m\u001b[0mX\u001b[0m\u001b[0;34m.\u001b[0m\u001b[0mravel\u001b[0m\u001b[0;34m(\u001b[0m\u001b[0;34m)\u001b[0m\u001b[0;34m]\u001b[0m\u001b[0;34m\u001b[0m\u001b[0m\n\u001b[1;32m   2254\u001b[0m             \u001b[0;32melse\u001b[0m\u001b[0;34m:\u001b[0m\u001b[0;34m\u001b[0m\u001b[0m\n\u001b[0;32m-> 2255\u001b[0;31m                 \u001b[0mX\u001b[0m \u001b[0;34m=\u001b[0m \u001b[0;34m[\u001b[0m\u001b[0mX\u001b[0m\u001b[0;34m[\u001b[0m\u001b[0;34m:\u001b[0m\u001b[0;34m,\u001b[0m \u001b[0mi\u001b[0m\u001b[0;34m]\u001b[0m \u001b[0;32mfor\u001b[0m \u001b[0mi\u001b[0m \u001b[0;32min\u001b[0m \u001b[0mxrange\u001b[0m\u001b[0;34m(\u001b[0m\u001b[0mncols\u001b[0m\u001b[0;34m)\u001b[0m\u001b[0;34m]\u001b[0m\u001b[0;34m\u001b[0m\u001b[0m\n\u001b[0m\u001b[1;32m   2256\u001b[0m         \u001b[0;32melse\u001b[0m\u001b[0;34m:\u001b[0m\u001b[0;34m\u001b[0m\u001b[0m\n\u001b[1;32m   2257\u001b[0m             \u001b[0;32mraise\u001b[0m \u001b[0mValueError\u001b[0m\u001b[0;34m(\u001b[0m\u001b[0;34m\"input `X` must have 2 or fewer dimensions\"\u001b[0m\u001b[0;34m)\u001b[0m\u001b[0;34m\u001b[0m\u001b[0m\n",
      "\u001b[0;32m/Users/tiffapedia/anaconda3/lib/python3.6/site-packages/pandas/core/frame.py\u001b[0m in \u001b[0;36m__getitem__\u001b[0;34m(self, key)\u001b[0m\n\u001b[1;32m   2060\u001b[0m             \u001b[0;32mreturn\u001b[0m \u001b[0mself\u001b[0m\u001b[0;34m.\u001b[0m\u001b[0m_getitem_multilevel\u001b[0m\u001b[0;34m(\u001b[0m\u001b[0mkey\u001b[0m\u001b[0;34m)\u001b[0m\u001b[0;34m\u001b[0m\u001b[0m\n\u001b[1;32m   2061\u001b[0m         \u001b[0;32melse\u001b[0m\u001b[0;34m:\u001b[0m\u001b[0;34m\u001b[0m\u001b[0m\n\u001b[0;32m-> 2062\u001b[0;31m             \u001b[0;32mreturn\u001b[0m \u001b[0mself\u001b[0m\u001b[0;34m.\u001b[0m\u001b[0m_getitem_column\u001b[0m\u001b[0;34m(\u001b[0m\u001b[0mkey\u001b[0m\u001b[0;34m)\u001b[0m\u001b[0;34m\u001b[0m\u001b[0m\n\u001b[0m\u001b[1;32m   2063\u001b[0m \u001b[0;34m\u001b[0m\u001b[0m\n\u001b[1;32m   2064\u001b[0m     \u001b[0;32mdef\u001b[0m \u001b[0m_getitem_column\u001b[0m\u001b[0;34m(\u001b[0m\u001b[0mself\u001b[0m\u001b[0;34m,\u001b[0m \u001b[0mkey\u001b[0m\u001b[0;34m)\u001b[0m\u001b[0;34m:\u001b[0m\u001b[0;34m\u001b[0m\u001b[0m\n",
      "\u001b[0;32m/Users/tiffapedia/anaconda3/lib/python3.6/site-packages/pandas/core/frame.py\u001b[0m in \u001b[0;36m_getitem_column\u001b[0;34m(self, key)\u001b[0m\n\u001b[1;32m   2067\u001b[0m         \u001b[0;31m# get column\u001b[0m\u001b[0;34m\u001b[0m\u001b[0;34m\u001b[0m\u001b[0m\n\u001b[1;32m   2068\u001b[0m         \u001b[0;32mif\u001b[0m \u001b[0mself\u001b[0m\u001b[0;34m.\u001b[0m\u001b[0mcolumns\u001b[0m\u001b[0;34m.\u001b[0m\u001b[0mis_unique\u001b[0m\u001b[0;34m:\u001b[0m\u001b[0;34m\u001b[0m\u001b[0m\n\u001b[0;32m-> 2069\u001b[0;31m             \u001b[0;32mreturn\u001b[0m \u001b[0mself\u001b[0m\u001b[0;34m.\u001b[0m\u001b[0m_get_item_cache\u001b[0m\u001b[0;34m(\u001b[0m\u001b[0mkey\u001b[0m\u001b[0;34m)\u001b[0m\u001b[0;34m\u001b[0m\u001b[0m\n\u001b[0m\u001b[1;32m   2070\u001b[0m \u001b[0;34m\u001b[0m\u001b[0m\n\u001b[1;32m   2071\u001b[0m         \u001b[0;31m# duplicate columns & possible reduce dimensionality\u001b[0m\u001b[0;34m\u001b[0m\u001b[0;34m\u001b[0m\u001b[0m\n",
      "\u001b[0;32m/Users/tiffapedia/anaconda3/lib/python3.6/site-packages/pandas/core/generic.py\u001b[0m in \u001b[0;36m_get_item_cache\u001b[0;34m(self, item)\u001b[0m\n\u001b[1;32m   1530\u001b[0m         \u001b[0;34m\"\"\"Return the cached item, item represents a label indexer.\"\"\"\u001b[0m\u001b[0;34m\u001b[0m\u001b[0m\n\u001b[1;32m   1531\u001b[0m         \u001b[0mcache\u001b[0m \u001b[0;34m=\u001b[0m \u001b[0mself\u001b[0m\u001b[0;34m.\u001b[0m\u001b[0m_item_cache\u001b[0m\u001b[0;34m\u001b[0m\u001b[0m\n\u001b[0;32m-> 1532\u001b[0;31m         \u001b[0mres\u001b[0m \u001b[0;34m=\u001b[0m \u001b[0mcache\u001b[0m\u001b[0;34m.\u001b[0m\u001b[0mget\u001b[0m\u001b[0;34m(\u001b[0m\u001b[0mitem\u001b[0m\u001b[0;34m)\u001b[0m\u001b[0;34m\u001b[0m\u001b[0m\n\u001b[0m\u001b[1;32m   1533\u001b[0m         \u001b[0;32mif\u001b[0m \u001b[0mres\u001b[0m \u001b[0;32mis\u001b[0m \u001b[0;32mNone\u001b[0m\u001b[0;34m:\u001b[0m\u001b[0;34m\u001b[0m\u001b[0m\n\u001b[1;32m   1534\u001b[0m             \u001b[0mvalues\u001b[0m \u001b[0;34m=\u001b[0m \u001b[0mself\u001b[0m\u001b[0;34m.\u001b[0m\u001b[0m_data\u001b[0m\u001b[0;34m.\u001b[0m\u001b[0mget\u001b[0m\u001b[0;34m(\u001b[0m\u001b[0mitem\u001b[0m\u001b[0;34m)\u001b[0m\u001b[0;34m\u001b[0m\u001b[0m\n",
      "\u001b[0;31mTypeError\u001b[0m: unhashable type: 'slice'"
     ]
    },
    {
     "data": {
      "image/png": "[encoded data removed]",
      "text/plain": [
       "<matplotlib.figure.Figure at 0x11253d160>"
      ]
     },
     "metadata": {},
     "output_type": "display_data"
    }
   ],
   "source": [
    "plt.boxplot(train_data)"
   ]
  },
  {
   "cell_type": "code",
   "execution_count": null,
   "metadata": {},
   "outputs": [],
   "source": [
    "print('any missing values? {}'.format(train.isnull().sum().sum() > 0))\n"
   ]
  },
  {
   "cell_type": "markdown",
   "metadata": {},
   "source": [
    "<a id='univariate-analysis' />"
   ]
  },
  {
   "cell_type": "markdown",
   "metadata": {},
   "source": [
    "### Univariate Analysis\n",
    "\n",
    "By overlaying the histogram for each forest cover type, we can immediately see that elevation will play a great role in identifying the cover types because the cover types rarely overlaps each other compared to the other features."
   ]
  },
  {
   "cell_type": "markdown",
   "metadata": {},
   "source": [
    "TODO\n",
    "- label all plot axes and provide titles\n",
    "- for the plots having relatively small text, we can improve the resolution by using a version of the following, for example: plt.figure(figsize=(9,6), dpi=1200)\n",
    "  - Unfortunately, 1200 is too high of a dpi. 1000 is also too high of a dpi."
   ]
  },
  {
   "cell_type": "code",
   "execution_count": 30,
   "metadata": {
    "scrolled": false
   },
   "outputs": [
    {
     "data": {
      "image/png": "[encoded data removed]",
      "text/plain": [
       "<matplotlib.figure.Figure at 0x118632358>"
      ]
     },
     "metadata": {},
     "output_type": "display_data"
    }
   ],
   "source": [
    "\n",
    "\n",
    "def plot_histogram (feature_name, description, axis):\n",
    "    for label, data in train.groupby('Cover_Type')[feature_name]:\n",
    "        data.hist(alpha=0.3, ax=axis)\n",
    "        axis.set_title(description, fontsize='xx-large')\n",
    "        axis.legend(labels=cover_labels, fontsize='xx-large')\n",
    "\n",
    "#Plot histogram of continuous variables\n",
    "\n",
    "ncols = 2\n",
    "nrows = len(numerical_vars)//2\n",
    "\n",
    "fig, axes = plt.subplots(nrows=nrows,ncols=ncols, figsize = (25,40))\n",
    "\n",
    "for plot_indx, feature_name in enumerate(numerical_vars):\n",
    "    i = plot_indx//2\n",
    "    j = plot_indx - (2*i)\n",
    "    plot_histogram(feature_name,lookup_numerical_labels[feature_name],axes[i,j])\n",
    "\n",
    "fig.tight_layout()\n",
    "plt.show()"
   ]
  },
  {
   "cell_type": "markdown",
   "metadata": {},
   "source": [
    "#### Elevation\n",
    "\n",
    "From the graph shown above, it appears that the cover types most commonly found at the high altitude is Krummholz (which is not surprising because Krummholz are stunted windblown trees situated typically on the top of the mountain) followed by the following cover types found in descending order of altitudes:\n",
    "\n",
    "* Krummholz\n",
    "* Spruce/Fir\n",
    "* Lodgepole Pine\n",
    "* Aspen\n",
    "* Ponderosa Pine\n",
    "* Douglas-fir\n",
    "* Cottonwood/Willow"
   ]
  },
  {
   "cell_type": "code",
   "execution_count": null,
   "metadata": {},
   "outputs": [],
   "source": [
    "\n",
    "# TODO: add 3D drawing of elevation vs aspect vs slope\n",
    "# TODO: also add range\n",
    "\n",
    "from mpl_toolkits.mplot3d import Axes3D\n",
    "fig,ax = plt.subplots(figsize=(10,10))\n",
    "ax = fig.add_subplot(111, projection='3d')\n",
    "ax.scatter(train_data['Aspect'], train_data['Slope'], train_data['Elevation'], c=train['Cover_Type'], s=60)\n",
    "ax.set_xlabel('Aspect')\n",
    "ax.set_ylabel('Slope')\n",
    "ax.set_zlabel('Elevation')\n",
    "\n",
    "ax.view_init(30, 185)\n",
    "ax.legend(labels=cover_labels)\n",
    "plt.show()\n"
   ]
  },
  {
   "cell_type": "markdown",
   "metadata": {},
   "source": [
    "#### Aspect\n",
    "\n",
    "From the polar plot, it reconfirms that elevation plays a greater role in identifying the cover type. There's a cover type in almost every aspect (360 degree)."
   ]
  },
  {
   "cell_type": "code",
   "execution_count": null,
   "metadata": {},
   "outputs": [],
   "source": [
    "fig, ax = plt.subplots(nrows=1, ncols=1, figsize=(10,10))\n",
    "ax = plt.subplot(111, projection='polar')\n",
    "ax.scatter(train['Aspect'],train['Elevation'], c=train['Cover_Type'], cmap='hsv', alpha=0.3);\n",
    "ax.legend(labels=cover_labels)"
   ]
  },
  {
   "cell_type": "code",
   "execution_count": null,
   "metadata": {
    "collapsed": true
   },
   "outputs": [],
   "source": [
    "# TODO: add 3D drawing of elevation vs aspect vs slope"
   ]
  },
  {
   "cell_type": "markdown",
   "metadata": {},
   "source": [
    "#### Slope\n",
    "\n",
    "TODO: describe slope"
   ]
  },
  {
   "cell_type": "code",
   "execution_count": null,
   "metadata": {
    "collapsed": true
   },
   "outputs": [],
   "source": [
    "# TODO: add 3D drawing of elevation vs aspect vs slope"
   ]
  },
  {
   "cell_type": "markdown",
   "metadata": {},
   "source": [
    "#### Horizontal and Vertical Distance to Hydrology\n",
    "\n",
    "TODO: add description\n",
    "\n",
    "The distance-based features have substantial right-hand skew.   \n",
    "\n",
    "Vertical_Distance_to_Hydrology has several negative values.  \n",
    "\n"
   ]
  },
  {
   "cell_type": "code",
   "execution_count": null,
   "metadata": {
    "collapsed": true
   },
   "outputs": [],
   "source": [
    "# TODO: add drawing of distance"
   ]
  },
  {
   "cell_type": "markdown",
   "metadata": {},
   "source": [
    "#### Horizontal Distance to Roadways\n",
    "\n",
    "TODO: add description"
   ]
  },
  {
   "cell_type": "code",
   "execution_count": null,
   "metadata": {
    "collapsed": true
   },
   "outputs": [],
   "source": [
    "# TODO: add drawing of distance"
   ]
  },
  {
   "cell_type": "markdown",
   "metadata": {},
   "source": [
    "#### Horizontal Distance to Firepoints\n",
    "\n",
    "TODO: add description"
   ]
  },
  {
   "cell_type": "code",
   "execution_count": null,
   "metadata": {
    "collapsed": true
   },
   "outputs": [],
   "source": [
    "# TODO: add drawing of distance"
   ]
  },
  {
   "cell_type": "markdown",
   "metadata": {},
   "source": [
    "#### Hillshade\n",
    "\n",
    "TODO: add description reword\n",
    "\n",
    "Hillshade_3pm has several zero values that appear to be out of place (i.e., \"missing values\"). Hillshade_9am and Hillshade_Noon are truncated at 255, which is the maximum value of the index.\n",
    "\n"
   ]
  },
  {
   "cell_type": "code",
   "execution_count": null,
   "metadata": {
    "collapsed": true
   },
   "outputs": [],
   "source": [
    "# TODO: add different color shade "
   ]
  },
  {
   "cell_type": "code",
   "execution_count": null,
   "metadata": {
    "collapsed": true
   },
   "outputs": [],
   "source": []
  },
  {
   "cell_type": "markdown",
   "metadata": {},
   "source": [
    "Looking at the relationship between hillshade 3 PM and 9 AM, they've clear negative correlation while 3 PM and noon have positive correlation."
   ]
  },
  {
   "cell_type": "code",
   "execution_count": null,
   "metadata": {
    "scrolled": false
   },
   "outputs": [],
   "source": [
    "with sns.axes_style('white'): \n",
    "    smaller_frame = train_data[['Hillshade_9am', 'Hillshade_Noon','Hillshade_3pm']] \n",
    "    scatter_matrix(smaller_frame, alpha=0.8, figsize=(10, 10), diagonal=\"kde\", c=train_labels, s=50, cmap='rainbow') # can also use cmap=plt.cm.BrBG\n",
    "plt.show();"
   ]
  },
  {
   "cell_type": "markdown",
   "metadata": {},
   "source": [
    "There are clearly hillshade values at 3 PM that are zeroes. "
   ]
  },
  {
   "cell_type": "code",
   "execution_count": null,
   "metadata": {},
   "outputs": [],
   "source": [
    "plt.figure(figsize=(12,8)) \n",
    "plt.scatter(train_data['Hillshade_3pm'], train_data['Hillshade_Noon'], c=train_labels, s=50, cmap='rainbow') # can also use cmap=plt.cm.BrBG\n",
    "plt.xlabel('Hillshade @ 3 PM') \n",
    "plt.ylabel('Hillshade @ Noon') \n",
    "plt.show();"
   ]
  },
  {
   "cell_type": "code",
   "execution_count": null,
   "metadata": {},
   "outputs": [],
   "source": [
    "plt.figure(figsize=(12,8)) \n",
    "plt.scatter(train_data['Hillshade_3pm'], train_data['Hillshade_9am'], c=train_labels, s=50, cmap='rainbow') \n",
    "plt.xlabel('Hillshade @ 3 PM') \n",
    "plt.ylabel('Hillshade @ 9 AM')\n",
    "plt.show();"
   ]
  },
  {
   "cell_type": "markdown",
   "metadata": {},
   "source": [
    "Look at Hillshade as a function of slope and aspect"
   ]
  },
  {
   "cell_type": "code",
   "execution_count": null,
   "metadata": {},
   "outputs": [],
   "source": [
    "with sns.axes_style('white'): \n",
    "    smaller_frame = train_data[['Slope','Aspect','Hillshade_9am', 'Hillshade_Noon','Hillshade_3pm']] \n",
    "    scatter_matrix(smaller_frame, alpha=0.8, figsize=(10, 10), diagonal=\"kde\") \n",
    "plt.show();"
   ]
  },
  {
   "cell_type": "code",
   "execution_count": null,
   "metadata": {},
   "outputs": [],
   "source": [
    "# Inserting this for reference (can be removed later based on redundancy.)\n",
    "\n",
    "# See how the other continuous features are related.\n",
    "with sns.axes_style('white'): \n",
    "    other_cont = train[['Elevation', 'Aspect', 'Slope', 'Horizontal_Distance_To_Hydrology', 'Vertical_Distance_To_Hydrology', 'Horizontal_Distance_To_Roadways', 'Horizontal_Distance_To_Fire_Points']] \n",
    "    scatter_matrix(other_cont, alpha=0.8, figsize=(16, 16), diagonal=\"kde\", c=train['Cover_Type'], cmap='rainbow')   # can also use cmap=plt.cm.BrBG\n",
    "    plt.show()\n",
    "    "
   ]
  },
  {
   "cell_type": "markdown",
   "metadata": {},
   "source": [
    "#### Wilderness Areas\n",
    "\n",
    "Based on wilderness area, we noted that:\n",
    "\n",
    "* Spruce/Fir (1) is located in Rawah (1), Neota (2), Comanche (3)\n",
    "* Lodgepole Pine (2) is located in all wilderness area, with the most notable in Rawah (1) and Comanche (2)\n",
    "* Ponderosa Pine (3) is located in Comanche (3) and Cache la Poudre(4)\n",
    "* Cottonwood/Willow (4) is located only in Cache la Poudre (4)\n",
    "* Aspen (5) is located in Rawah (1) and Comanche (3)\n",
    "* Douglas-fir (6) is located in Comanche (3) and Cache la Poudre (4)\n",
    "* Krummholz (7) is located in Cover (1), Neota (2), Comanche (3)\n",
    "\n",
    "For this reason, wilderness area is a substantial feature to use to determine a cover type."
   ]
  },
  {
   "cell_type": "code",
   "execution_count": null,
   "metadata": {},
   "outputs": [],
   "source": [
    "freq_ct_wilderness_1 = pd.crosstab(train_data['Wilderness_Area1'], train_labels).iloc[1].tolist()\n",
    "freq_ct_wilderness_2 = pd.crosstab(train_data['Wilderness_Area2'], train_labels).iloc[1].tolist()\n",
    "freq_ct_wilderness_3 = pd.crosstab(train_data['Wilderness_Area3'], train_labels).iloc[1].tolist()\n",
    "freq_ct_wilderness_4 = pd.crosstab(train_data['Wilderness_Area4'], train_labels).iloc[1].tolist()\n",
    "freq_ct_wilderness = pd.DataFrame([freq_ct_wilderness_1, freq_ct_wilderness_2, freq_ct_wilderness_3, freq_ct_wilderness_4], \n",
    "                                  columns=cover_labels, \n",
    "                                  index=wilderness_labels)\n",
    "freq_ct_wilderness.T.plot(kind='barh', stacked=False,figsize=(10,8));"
   ]
  },
  {
   "cell_type": "code",
   "execution_count": null,
   "metadata": {
    "collapsed": true
   },
   "outputs": [],
   "source": [
    "# TODO: add title, axis"
   ]
  },
  {
   "cell_type": "markdown",
   "metadata": {},
   "source": [
    "#### Soil\n",
    "\n",
    "As you can see below, each cover type sits on a broad range of soils. In addition, there seems to be repeated types of soil separated into multiple categories. For this reason, soil is not a good feature to determine cover types.\n",
    "\n",
    "During our analysis, we ignore soil type 7 and 15 because these soil types are absent in our sample."
   ]
  },
  {
   "cell_type": "code",
   "execution_count": null,
   "metadata": {},
   "outputs": [],
   "source": [
    "print(pd.unique(train['Soil_Type7']))\n",
    "print(pd.unique(train['Soil_Type15']))"
   ]
  },
  {
   "cell_type": "code",
   "execution_count": null,
   "metadata": {
    "scrolled": false
   },
   "outputs": [],
   "source": [
    "list_freq_ct_wilderness = []\n",
    "for i in soil_types:\n",
    "    # ignore soil type: 7, 15\n",
    "    if i not in (7, 15):\n",
    "        soil_type = 'Soil_Type{}'.format(i)\n",
    "        pd.crosstab(train[soil_type], train['Cover_Type']).iloc[1].tolist()\n",
    "        list_freq_ct_wilderness.append(pd.crosstab(train[soil_type], train['Cover_Type']).iloc[1].tolist())\n",
    "\n",
    "soil_labels_wo_7_15 = [soil_label for ignore_label, soil_label in enumerate(soil_labels) if ignore_label not in [7,15]]\n",
    "freq_ct_soil = pd.DataFrame(list_freq_ct_wilderness, \n",
    "                            columns=cover_labels, \n",
    "                            index=soil_labels_wo_7_15)\n",
    "freq_ct_soil"
   ]
  },
  {
   "cell_type": "code",
   "execution_count": null,
   "metadata": {
    "collapsed": true
   },
   "outputs": [],
   "source": [
    "# TODO: look at soil by wilderness area"
   ]
  },
  {
   "cell_type": "markdown",
   "metadata": {},
   "source": [
    "<a id='bivariate-analysis' />"
   ]
  },
  {
   "cell_type": "markdown",
   "metadata": {},
   "source": [
    "### Bivariate Analysis"
   ]
  },
  {
   "cell_type": "markdown",
   "metadata": {},
   "source": [
    "TODO: explain correlation matrix"
   ]
  },
  {
   "cell_type": "code",
   "execution_count": null,
   "metadata": {
    "collapsed": true
   },
   "outputs": [],
   "source": [
    "#sns.pairplot(train_data)\n",
    "#sns.plt.show();"
   ]
  },
  {
   "cell_type": "code",
   "execution_count": null,
   "metadata": {},
   "outputs": [],
   "source": [
    "continuous_vars = ['Elevation', 'Aspect', 'Slope', 'Horizontal_Distance_To_Hydrology', 'Vertical_Distance_To_Hydrology', 'Horizontal_Distance_To_Roadways', 'Horizontal_Distance_To_Fire_Points', 'Hillshade_9am', 'Hillshade_Noon', 'Hillshade_3pm']\n",
    "\n",
    "plt.figure(figsize=(14, 10))\n",
    "cmap = sns.diverging_palette(10, 220, as_cmap=True)\n",
    "correlations = train_data[continuous_vars].corr()\n",
    "# print correlations\n",
    "print(sns.heatmap(correlations, cmap=cmap))"
   ]
  },
  {
   "cell_type": "markdown",
   "metadata": {},
   "source": [
    "This correlation plot shows strong positive correlations between: horizontal and vertical distances to hydrology; between horizontal distances to roadways and horizontal distance to fire points; between Hillshade_Noon and Hillshade_3pm.  \n",
    "\n",
    "Strong negative correlations are observed between Hillshade_9am and Hillshade_3pm; between Hillshade_9am and Aspect; betwen Hillshade_Noon and Slope.   "
   ]
  },
  {
   "cell_type": "markdown",
   "metadata": {},
   "source": [
    "http://www.sthda.com/english/wiki/correlation-matrix-a-quick-start-guide-to-analyze-format-and-visualize-a-correlation-matrix-using-r-software"
   ]
  },
  {
   "cell_type": "markdown",
   "metadata": {},
   "source": [
    "<a id='feature-engineering' />"
   ]
  },
  {
   "cell_type": "markdown",
   "metadata": {},
   "source": [
    "## Feature Engineering\n"
   ]
  },
  {
   "cell_type": "code",
   "execution_count": null,
   "metadata": {
    "collapsed": true
   },
   "outputs": [],
   "source": [
    "# make a copy of the train data to be modified\n",
    "fe_train_data = train_data.copy()\n",
    "fe_train_labels = train_labels.copy()"
   ]
  },
  {
   "cell_type": "code",
   "execution_count": null,
   "metadata": {
    "collapsed": true
   },
   "outputs": [],
   "source": [
    "# employ a baseline model for comparison\n",
    "def compare_baseline(data, labels,clf=None):\n",
    "    BASELINE_MEAN = 0.7762\n",
    "    BASELINE_SD = 0.0412\n",
    "    if clf == None:\n",
    "        clf = RandomForestClassifier(n_estimators=50, max_depth=76,random_state=random_state)\n",
    "        #clf.fit(data, labels)\n",
    "    scores = cross_val_score(clf, data, labels, cv=10)\n",
    "    if np.mean(scores) > BASELINE_MEAN:\n",
    "        print('Improve')\n",
    "    else:\n",
    "        print('Worsen')\n",
    "    print('mean = {} ({})'.format(round(np.mean(scores), 4), BASELINE_MEAN))\n",
    "    print('sd = {} ({})'.format(round(np.std(scores), 4), BASELINE_SD))"
   ]
  },
  {
   "cell_type": "markdown",
   "metadata": {},
   "source": [
    "### 0. Replace Zeros in Hillshade_3pm"
   ]
  },
  {
   "cell_type": "code",
   "execution_count": null,
   "metadata": {
    "collapsed": true
   },
   "outputs": [],
   "source": [
    "# Replace the zeros in Hillshade_3pm\n",
    "\n",
    "# Find instances of Hillshade_3pm=0\n",
    "zero_Hillshade_3pm = fe_train_data.Hillshade_3pm[fe_train_data['Hillshade_3pm']==0]\n",
    "zero_Hillshade_9am = fe_train_data.Hillshade_9am[fe_train_data['Hillshade_3pm']==0]\n",
    "\n",
    "# Get non-zero Hillshade_3pm data to do polynomial fit, along with corresponding Hillshade_9am data\n",
    "non_zero_Hillshade_3pm = fe_train_data.Hillshade_3pm[fe_train_data['Hillshade_3pm']!=0]\n",
    "non_zero_Hillshade_9am = fe_train_data.Hillshade_9am[fe_train_data['Hillshade_3pm']!=0]"
   ]
  },
  {
   "cell_type": "code",
   "execution_count": null,
   "metadata": {
    "collapsed": true
   },
   "outputs": [],
   "source": [
    "# do polynomial fit of Hillshade_3pm ~ f(Hillshade_9am)\n",
    "\n",
    "from sklearn.preprocessing import PolynomialFeatures\n",
    "poly = PolynomialFeatures(2)\n",
    "poly_9 = poly.fit_transform(non_zero_Hillshade_9am.values.reshape(-1, 1))\n",
    "#print(poly_9.shape)\n",
    "\n",
    "from sklearn.linear_model import LinearRegression\n",
    "lr = LinearRegression()\n",
    "lr.fit(poly_9, non_zero_Hillshade_3pm.values.reshape(-1, 1))\n",
    "\n",
    "poly_9_zero = poly.transform(zero_Hillshade_9am.values.reshape(-1, 1))\n",
    "\n",
    "new_3pm = lr.predict(poly_9_zero)\n",
    "#print('new_3pm shape', new_3pm.shape)"
   ]
  },
  {
   "cell_type": "code",
   "execution_count": null,
   "metadata": {},
   "outputs": [],
   "source": [
    "indexer = fe_train_data[fe_train_data.Hillshade_3pm==0].index\n",
    "\n",
    "for i, indx in enumerate(indexer):\n",
    "    fe_train_data.Hillshade_3pm[fe_train_data.index==indexer[i]] = new_3pm[i]\n",
    "\n",
    "# view results\n",
    "#print('Hillshade_3pm=0 values replaced as shown by red data points')\n",
    "plt.scatter(fe_train_data['Hillshade_9am'], fe_train_data['Hillshade_3pm'])\n",
    "plt.scatter(zero_Hillshade_9am.values.reshape(-1, 1), new_3pm, color='red')\n",
    "plt.xlim((0,250))\n",
    "plt.ylim((0,250))\n",
    "plt.xlabel('Hillshade_9am')\n",
    "plt.ylabel('Hillshade_3pm')"
   ]
  },
  {
   "cell_type": "markdown",
   "metadata": {},
   "source": [
    "Hillshade_3pm=0 values replaced as shown by red data points."
   ]
  },
  {
   "cell_type": "code",
   "execution_count": null,
   "metadata": {},
   "outputs": [],
   "source": [
    "compare_baseline(fe_train_data, fe_train_labels)"
   ]
  },
  {
   "cell_type": "markdown",
   "metadata": {},
   "source": [
    "Replacing the zero values results in a small accuracy improvement relative to the baseline."
   ]
  },
  {
   "cell_type": "code",
   "execution_count": null,
   "metadata": {
    "collapsed": true
   },
   "outputs": [],
   "source": []
  },
  {
   "cell_type": "markdown",
   "metadata": {},
   "source": [
    "### 1. Normalize Hillshade"
   ]
  },
  {
   "cell_type": "code",
   "execution_count": null,
   "metadata": {
    "scrolled": true
   },
   "outputs": [],
   "source": [
    "normalize_hillshade = normalize(train_data[['Hillshade_9am', 'Hillshade_Noon', 'Hillshade_3pm']], axis=0)\n",
    "plt.hist(normalize_hillshade);"
   ]
  },
  {
   "cell_type": "code",
   "execution_count": null,
   "metadata": {
    "collapsed": true
   },
   "outputs": [],
   "source": [
    "fe_train_data['Hillshade_9am'] = normalize_hillshade[:, 0]\n",
    "fe_train_data['Hillshade_Noon'] = normalize_hillshade[:, 1]\n",
    "fe_train_data['Hillshade_3pm'] = normalize_hillshade[:, 2]"
   ]
  },
  {
   "cell_type": "code",
   "execution_count": null,
   "metadata": {},
   "outputs": [],
   "source": [
    "compare_baseline(fe_train_data, fe_train_labels)"
   ]
  },
  {
   "cell_type": "markdown",
   "metadata": {},
   "source": [
    "### 2. Feature Scaling\n",
    "\n",
    "To ensure that all numerical values are seen as \"equally weighted\" by the algorithm, we scale all of the features with 0 as the mean and 1 as standard deviation (standard normal distribution). We scale the test dataset using the training dataset parameters to ensure the numerical values are seen as \"equally weighted.\""
   ]
  },
  {
   "cell_type": "markdown",
   "metadata": {},
   "source": [
    "TODO: I don't know if we wanted to feature scale the entire dataset"
   ]
  },
  {
   "cell_type": "code",
   "execution_count": null,
   "metadata": {},
   "outputs": [],
   "source": [
    "sc = StandardScaler()\n",
    "sc.fit(fe_train_data)\n",
    "compare_baseline(sc.transform(fe_train_data), fe_train_labels)"
   ]
  },
  {
   "cell_type": "code",
   "execution_count": null,
   "metadata": {
    "collapsed": true
   },
   "outputs": [],
   "source": [
    "fe_train_data = sc.transform(fe_train_data)\n",
    "#test_data = sc.transform(test_data)"
   ]
  },
  {
   "cell_type": "code",
   "execution_count": null,
   "metadata": {
    "scrolled": true
   },
   "outputs": [],
   "source": [
    "train_data.columns"
   ]
  },
  {
   "cell_type": "markdown",
   "metadata": {},
   "source": [
    "<a id='models' />"
   ]
  },
  {
   "cell_type": "markdown",
   "metadata": {},
   "source": [
    "### 3. Negative_Vertical_Distance_To_Hydrology (assumes unscaled starting data...)"
   ]
  },
  {
   "cell_type": "code",
   "execution_count": null,
   "metadata": {},
   "outputs": [],
   "source": [
    "# Create new training variable based on if Vertical_Distance_To_Hydrology is negative \n",
    "# and test to see if it improves the baseline results\n",
    "\n",
    "fe_train_data['Hydrology_Distance_Is_Negative'] = fe_train_data['Vertical_Distance_To_Hydrology'] < 0\n",
    "#print('Number of samples having negative Vertical_Distance_To_Hydrology:', fe_train_data.Hydrology_Distance_Is_Negative.sum()) #1139\n",
    "\n",
    "compare_baseline(fe_train_data, fe_train_labels)"
   ]
  },
  {
   "cell_type": "markdown",
   "metadata": {},
   "source": [
    "### Additional Features to add/try after scaling??"
   ]
  },
  {
   "cell_type": "code",
   "execution_count": null,
   "metadata": {
    "collapsed": true
   },
   "outputs": [],
   "source": [
    "#Create two new columns named Slope hydrology and Slope hydrology percent and remove any infinite values that may result\n",
    "fe_train_data['slope_hyd'] = np.sqrt(fe_train_data.Vertical_Distance_To_Hydrology**2    +  \\\n",
    "                                fe_train_data.Horizontal_Distance_To_Hydrology**2)\n",
    "fe_train_data.slope_hyd=fe_train_data.slope_hyd.map(lambda x: 0 if np.isinf(x) else x) \n",
    "\n",
    "#fe_train_data['slope_hyd_pct'] = fe_train_data.Vertical_Distance_To_Hydrology / fe_train_data.Horizontal_Distance_To_Hydrology \n",
    "\n",
    "#compare_baseline(fe_train_data, fe_train_labels)\n"
   ]
  },
  {
   "cell_type": "code",
   "execution_count": null,
   "metadata": {
    "collapsed": true
   },
   "outputs": [],
   "source": []
  },
  {
   "cell_type": "code",
   "execution_count": null,
   "metadata": {
    "collapsed": true
   },
   "outputs": [],
   "source": [
    "#Elevation adjusted by Horizontal distance to Hydrology \n",
    "fe_train_data['Elev_to_HD_Hyd']=fe_train_data.Elevation - 0.2 * fe_train_data.Horizontal_Distance_To_Hydrology \n",
    "\n",
    "#compare_baseline(fe_train_data, fe_train_labels)"
   ]
  },
  {
   "cell_type": "code",
   "execution_count": null,
   "metadata": {
    "collapsed": true
   },
   "outputs": [],
   "source": []
  },
  {
   "cell_type": "code",
   "execution_count": null,
   "metadata": {
    "collapsed": true
   },
   "outputs": [],
   "source": [
    "#Elevation adjusted by Horizontal distance to Roadways \n",
    "fe_train_data['Elev_to_HD_Road']=fe_train_data.Elevation - 0.05 * fe_train_data.Horizontal_Distance_To_Roadways\n",
    "\n",
    "#compare_baseline(fe_train_data, fe_train_labels)"
   ]
  },
  {
   "cell_type": "code",
   "execution_count": null,
   "metadata": {
    "collapsed": true
   },
   "outputs": [],
   "source": []
  },
  {
   "cell_type": "code",
   "execution_count": null,
   "metadata": {
    "collapsed": true
   },
   "outputs": [],
   "source": [
    "#Elevation adjusted by Vertical distance to Roadways \n",
    "fe_train_data['Elev_to_VD_Hyd']=fe_train_data.Elevation - fe_train_data.Vertical_Distance_To_Hydrology\n",
    "\n",
    "#compare_baseline(fe_train_data, fe_train_labels)"
   ]
  },
  {
   "cell_type": "code",
   "execution_count": null,
   "metadata": {
    "collapsed": true
   },
   "outputs": [],
   "source": []
  },
  {
   "cell_type": "code",
   "execution_count": null,
   "metadata": {
    "collapsed": true
   },
   "outputs": [],
   "source": [
    "#Mean distance to Amenities \n",
    "fe_train_data['Mean_Amenities'] = (fe_train_data.Horizontal_Distance_To_Fire_Points + fe_train_data.Horizontal_Distance_To_Hydrology + fe_train_data.Horizontal_Distance_To_Roadways) / 3\n",
    "\n",
    "#compare_baseline(fe_train_data, fe_train_labels)"
   ]
  },
  {
   "cell_type": "code",
   "execution_count": null,
   "metadata": {
    "collapsed": true
   },
   "outputs": [],
   "source": []
  },
  {
   "cell_type": "code",
   "execution_count": null,
   "metadata": {
    "collapsed": true
   },
   "outputs": [],
   "source": [
    "#Mean Distance to Fire and Water \n",
    "fe_train_data['Mean_Fire_Hyd']=(fe_train_data.Horizontal_Distance_To_Fire_Points + fe_train_data.Horizontal_Distance_To_Hydrology) / 2 \n",
    "\n",
    "#compare_baseline(fe_train_data, fe_train_labels)"
   ]
  },
  {
   "cell_type": "code",
   "execution_count": null,
   "metadata": {
    "collapsed": true
   },
   "outputs": [],
   "source": []
  },
  {
   "cell_type": "code",
   "execution_count": null,
   "metadata": {
    "collapsed": true
   },
   "outputs": [],
   "source": []
  },
  {
   "cell_type": "code",
   "execution_count": null,
   "metadata": {
    "collapsed": true
   },
   "outputs": [],
   "source": []
  },
  {
   "cell_type": "code",
   "execution_count": null,
   "metadata": {
    "collapsed": true
   },
   "outputs": [],
   "source": []
  },
  {
   "cell_type": "markdown",
   "metadata": {},
   "source": [
    "### TODO: Need to add \"successful\" new features to the test data...."
   ]
  },
  {
   "cell_type": "code",
   "execution_count": null,
   "metadata": {
    "collapsed": true
   },
   "outputs": [],
   "source": []
  },
  {
   "cell_type": "code",
   "execution_count": null,
   "metadata": {
    "collapsed": true
   },
   "outputs": [],
   "source": []
  },
  {
   "cell_type": "markdown",
   "metadata": {},
   "source": [
    "### Class Definitions"
   ]
  },
  {
   "cell_type": "code",
   "execution_count": null,
   "metadata": {
    "collapsed": true
   },
   "outputs": [],
   "source": [
    "from sklearn.preprocessing import RobustScaler\n",
    "from sklearn.preprocessing import Normalizer\n",
    "from sklearn.pipeline import make_union\n",
    "from sklearn.pipeline import make_pipeline\n",
    "from sklearn.pipeline import Pipeline\n",
    "from sklearn.pipeline import FeatureUnion\n",
    "from sklearn.preprocessing import FunctionTransformer\n",
    "from sklearn.base import BaseEstimator,TransformerMixin\n",
    "from sklearn.decomposition import PCA\n",
    "from sklearn.ensemble import GradientBoostingClassifier\n",
    "import math\n",
    "\n",
    "hillshade_vars = ['Hillshade_9am','Hillshade_Noon','Hillshade_3pm']\n",
    "distance_vars  = ['Elevation','Horizontal_Distance_To_Hydrology',\n",
    "                  'Vertical_Distance_To_Hydrology', 'Horizontal_Distance_To_Roadways',\n",
    "                  'Horizontal_Distance_To_Fire_Points'\n",
    "                 ]\n",
    "degree_vars    = ['Aspect','Slope']\n",
    "\n",
    "train_data['euclidean'] = train_data['Horizontal_Distance_To_Hydrology']**2 + train_data['Vertical_Distance_To_Hydrology']**2\n",
    "\n",
    "\n",
    "class SelectFeatures(TransformerMixin):\n",
    "    \n",
    "    def __init__(self, columns):\n",
    "        self.columns = columns\n",
    "   \n",
    "    def fit(self, X, y=None, **fit_params):\n",
    "        return self\n",
    "    \n",
    "    def transform(self, X, **transform_params):\n",
    "        return X[self.columns]\n",
    "\n",
    "\n",
    "class AddEuclidean(TransformerMixin):\n",
    "    \n",
    "    def __init__(self,column1,column2):\n",
    "        self.column1 = column1\n",
    "        self.column2 = column2\n",
    "   \n",
    "    def fit(self, X, y=None, **fit_params):\n",
    "        return self\n",
    "    \n",
    "    def transform(self, X, **transform_params):\n",
    "        euclidean_feature = X[self.column1]**2 + X[self.column2]**2 \n",
    "        euclidean_feature = euclidean_feature.apply(math.sqrt)\n",
    "        return pd.DataFrame(euclidean_feature)\n",
    "\n",
    "class AddSquare(TransformerMixin):\n",
    "    \n",
    "    def __init__(self,column):\n",
    "        self.column = column\n",
    "   \n",
    "    def fit(self, X, y=None, **fit_params):\n",
    "        return self\n",
    "    \n",
    "    def transform(self, X, **transform_params):\n",
    "        square_feature = X[self.column]**2 \n",
    "        return pd.DataFrame(square_feature)\n",
    "    \n",
    "class AddLog():\n",
    "    \n",
    "    def __init__(self,column):\n",
    "        self.column = column\n",
    "   \n",
    "    def fit(self, X, y=None, **fit_params):\n",
    "        return self\n",
    "    \n",
    "    def transform(self, X, **transform_params):\n",
    "        log_feature = np.log(X[self.column] + 1)\n",
    "        return pd.DataFrame(log_feature)\n",
    "\n",
    "class CreateGroup():\n",
    "\n",
    "    def __init__(self,column1,column2):\n",
    "        self.column1 = column1\n",
    "        self.column2 = column2\n",
    "\n",
    "    def fit(self, X, y=None, **fit_params):\n",
    "        return self\n",
    "\n",
    "    def transform(self, X, **transform_params):\n",
    "        group_feature = (X[self.column1] <= self.column2)*1\n",
    "        return pd.DataFrame(group_feature)\n",
    "\n",
    "# trasformer for stacking\n",
    "class ModelTransformer(TransformerMixin):\n",
    "\n",
    "    def __init__(self, model):\n",
    "        self.model = model\n",
    "\n",
    "    def fit(self, *args, **kwargs):\n",
    "        self.model.fit(*args, **kwargs)\n",
    "        return self\n",
    "\n",
    "    def transform(self, X, **transform_params):\n",
    "        return pd.DataFrame(self.model.predict_proba(X))\n",
    "    "
   ]
  },
  {
   "cell_type": "markdown",
   "metadata": {},
   "source": [
    "### Pipeline Definitions"
   ]
  },
  {
   "cell_type": "code",
   "execution_count": null,
   "metadata": {},
   "outputs": [],
   "source": [
    "# Pipeline to Normalize hillshades, robustScale other numerical vars\n",
    "\n",
    "horiz_dist = 'Horizontal_Distance_To_Hydrology'\n",
    "vert_dist  = 'Vertical_Distance_To_Hydrology'\n",
    "rem_dist_vars = list(set(distance_vars) - set([horiz_dist,vert_dist]))\n",
    "\n",
    "union = make_union(make_pipeline(SelectFeatures(rem_dist_vars),StandardScaler()),\n",
    "                   make_pipeline(SelectFeatures(hillshade_vars),StandardScaler()),\n",
    "                   make_pipeline(AddEuclidean(horiz_dist,vert_dist),StandardScaler()),\n",
    "                   SelectFeatures(categorical_vars))\n",
    "\n",
    "RF = RandomForestClassifier(n_estimators=50, max_depth=76,random_state=random_state)\n",
    "pipe_clf = make_pipeline(union,RF)\n",
    "\n",
    "compare_baseline(train_data,train_labels,pipe_clf)\n"
   ]
  },
  {
   "cell_type": "markdown",
   "metadata": {},
   "source": [
    "### Feature union and estimator"
   ]
  },
  {
   "cell_type": "code",
   "execution_count": null,
   "metadata": {},
   "outputs": [],
   "source": [
    "pipeline = Pipeline([\n",
    "    ('features', FeatureUnion([\n",
    "        ('distance', Pipeline([\n",
    "            ('select', SelectFeatures(distance_vars)),\n",
    "            ('scale', StandardScaler())\n",
    "        ])),\n",
    "        ('hillshade', Pipeline([\n",
    "            ('select', SelectFeatures(hillshade_vars)),\n",
    "            ('scale', StandardScaler())\n",
    "        ])),\n",
    "        ('categorical', SelectFeatures(categorical_vars)),\n",
    "        ('elevation_square', AddSquare('Elevation')),\n",
    "        ('log_roadway', AddLog('Horizontal_Distance_To_Roadways')),\n",
    "        ('log_fire', AddLog('Horizontal_Distance_To_Fire_Points'))\n",
    "        #         ('group_aspect', CreateGroup('Aspect', 220))\n",
    "    ])),\n",
    "    ('estimator',RandomForestClassifier(n_estimators=50, max_depth=76,random_state=random_state))\n",
    "])\n",
    "\n",
    "compare_baseline(train_data,train_labels,pipeline)"
   ]
  },
  {
   "cell_type": "markdown",
   "metadata": {},
   "source": [
    "### Stacked models"
   ]
  },
  {
   "cell_type": "code",
   "execution_count": null,
   "metadata": {},
   "outputs": [],
   "source": [
    "from sklearn.neighbors import KNeighborsRegressor\n",
    "from sklearn.ensemble import GradientBoostingRegressor\n",
    "from sklearn.tree import DecisionTreeRegressor\n",
    "pipeline = Pipeline([\n",
    "    ('features', FeatureUnion([\n",
    "        ('distance', Pipeline([\n",
    "            ('select', SelectFeatures(distance_vars)),\n",
    "            ('scale', StandardScaler())\n",
    "        ])),\n",
    "        ('hillshade', Pipeline([\n",
    "            ('select', SelectFeatures(hillshade_vars)),\n",
    "            ('scale', StandardScaler())\n",
    "        ])),\n",
    "        ('categorical', SelectFeatures(categorical_vars)),\n",
    "        ('elevation_square', AddSquare('Elevation')),\n",
    "        ('log_roadway', AddLog('Horizontal_Distance_To_Roadways')),\n",
    "        ('log_fire', AddLog('Horizontal_Distance_To_Fire_Points')),\n",
    "    ])),\n",
    "    #stacking\n",
    "    ('estimators', FeatureUnion([\n",
    "        ('dtr', ModelTransformer(DecisionTreeClassifier(min_samples_split= 10, min_samples_leaf= 5, max_depth= 10, random_state= random_state))),\n",
    "        ('knn', ModelTransformer(KNeighborsClassifier(n_neighbors=9))),\n",
    "    ])),\n",
    "    ('estimator', RandomForestClassifier(n_estimators=50, max_depth=76,random_state=random_state))\n",
    "])\n",
    "compare_baseline(train_data,train_labels,pipeline)"
   ]
  },
  {
   "cell_type": "code",
   "execution_count": null,
   "metadata": {
    "collapsed": true
   },
   "outputs": [],
   "source": [
    "###  More models"
   ]
  },
  {
   "cell_type": "code",
   "execution_count": null,
   "metadata": {},
   "outputs": [],
   "source": [
    "from sklearn.ensemble import AdaBoostClassifier\n",
    "from sklearn.ensemble import GradientBoostingClassifier\n",
    "\n",
    "\n",
    "pipeline = Pipeline([\n",
    "    ('features', FeatureUnion([\n",
    "        ('distance', Pipeline([\n",
    "            ('select', SelectFeatures(distance_vars)),\n",
    "            ('scale', StandardScaler())\n",
    "        ])),\n",
    "        ('hillshade', Pipeline([\n",
    "            ('select', SelectFeatures(hillshade_vars)),\n",
    "            ('scale', StandardScaler())\n",
    "        ])),\n",
    "        ('categorical', SelectFeatures(categorical_vars)),\n",
    "        ('elevation_square', AddSquare('Elevation')),\n",
    "        ('log_roadway', AddLog('Horizontal_Distance_To_Roadways')),\n",
    "        ('log_fire', AddLog('Horizontal_Distance_To_Fire_Points')),\n",
    "    ])),\n",
    "    ('estimator',AdaBoostClassifier(base_estimator= RandomForestClassifier(n_estimators=50, max_depth=76,random_state=random_state), n_estimators=50, random_state=random_state))\n",
    "])\n",
    "\n",
    "compare_baseline(train_data,train_labels,pipeline)"
   ]
  },
  {
   "cell_type": "code",
   "execution_count": null,
   "metadata": {},
   "outputs": [],
   "source": [
    "from sklearn.ensemble import VotingClassifier\n",
    "\n",
    "# create the sub models\n",
    "estimators = []\n",
    "model1 = DecisionTreeClassifier(min_samples_split= 10, min_samples_leaf= 5, max_depth= 10, random_state= random_state)\n",
    "estimators.append(('decision', model1))\n",
    "model2 = KNeighborsClassifier(n_neighbors=9)\n",
    "estimators.append(('cart', model2))\n",
    "\n",
    "pipeline = Pipeline([\n",
    "    ('features', FeatureUnion([\n",
    "        ('distance', Pipeline([\n",
    "            ('select', SelectFeatures(distance_vars)),\n",
    "            ('scale', StandardScaler())\n",
    "        ])),\n",
    "        ('hillshade', Pipeline([\n",
    "            ('select', SelectFeatures(hillshade_vars)),\n",
    "            ('scale', StandardScaler())\n",
    "        ])),\n",
    "        ('categorical', SelectFeatures(categorical_vars)),\n",
    "        ('elevation_square', AddSquare('Elevation')),\n",
    "        ('log_roadway', AddLog('Horizontal_Distance_To_Roadways')),\n",
    "        ('log_fire', AddLog('Horizontal_Distance_To_Fire_Points')),\n",
    "    ])),\n",
    "    ('estimator',VotingClassifier(estimators))\n",
    "])\n",
    "\n",
    "compare_baseline(train_data,train_labels,pipeline)"
   ]
  },
  {
   "cell_type": "code",
   "execution_count": null,
   "metadata": {},
   "outputs": [],
   "source": [
    "import xgboost as xgb\n",
    "\n",
    "pipeline = Pipeline([\n",
    "    ('features', FeatureUnion([\n",
    "        ('distance', Pipeline([\n",
    "            ('select', SelectFeatures(distance_vars)),\n",
    "            ('scale', StandardScaler())\n",
    "        ])),\n",
    "        ('hillshade', Pipeline([\n",
    "            ('select', SelectFeatures(hillshade_vars)),\n",
    "            ('scale', StandardScaler())\n",
    "        ])),\n",
    "        ('categorical', SelectFeatures(categorical_vars)),\n",
    "        ('elevation_square', AddSquare('Elevation')),\n",
    "        ('log_roadway', AddLog('Horizontal_Distance_To_Roadways')),\n",
    "        ('log_fire', AddLog('Horizontal_Distance_To_Fire_Points')),\n",
    "    ])),\n",
    "    ('estimator', xgb.XGBClassifier(objective= 'multi:softmax'))\n",
    "])\n",
    "compare_baseline(train_data,train_labels,pipeline)"
   ]
  },
  {
   "cell_type": "code",
   "execution_count": null,
   "metadata": {},
   "outputs": [],
   "source": [
    "from sklearn.neural_network import MLPClassifier\n",
    "pipeline = Pipeline([\n",
    "    ('features', FeatureUnion([\n",
    "        ('distance', Pipeline([\n",
    "            ('select', SelectFeatures(distance_vars)),\n",
    "            ('scale', StandardScaler())\n",
    "        ])),\n",
    "        ('hillshade', Pipeline([\n",
    "            ('select', SelectFeatures(hillshade_vars)),\n",
    "            ('scale', StandardScaler())\n",
    "        ])),\n",
    "        ('categorical', SelectFeatures(categorical_vars)),\n",
    "        ('elevation_square', AddSquare('Elevation')),\n",
    "        ('log_roadway', AddLog('Horizontal_Distance_To_Roadways')),\n",
    "        ('log_fire', AddLog('Horizontal_Distance_To_Fire_Points')),\n",
    "    ])),\n",
    "    ('estimator',MLPClassifier(activation = 'tanh', alpha = 1, hidden_layer_sizes=(50,75), random_state=random_state))\n",
    "])\n",
    "\n",
    "compare_baseline(train_data,train_labels,pipeline)"
   ]
  },
  {
   "cell_type": "code",
   "execution_count": null,
   "metadata": {},
   "outputs": [],
   "source": [
    "train_data.head()"
   ]
  },
  {
   "cell_type": "markdown",
   "metadata": {},
   "source": [
    "## Models\n",
    "\n",
    "Based on our intuition of the use case, the problem that we are trying to solve is a multi-class classification problem. We come to this conclusion because we are trying to fit 54 features (of cartographic information) into 7 classes (of forest cover types). For this reason, we will look into multi-class classification methods to see which model performs the best classification of the problem at hand. \n",
    "\n",
    "The multi-class classification methods that we will compare are:\n",
    "\n",
    "1. Logistic Regression (LR): skip because of failure to converge on multiple occassion\n",
    "2. Naive Bayes (NB)\n",
    "3. K-Nearest Neighbors (KNN)\n",
    "4. Support Vector Machine (SVM)\n",
    "5. Decision Tree (DT)\n",
    "6. Neural Network (NN)\n",
    "\n",
    "To determine which model predicts with the highest accuracy, we will perform a cross-validation check using randomized search (RandomizedSearchCV). The reason why we chose cross-validation over train/test split is because cross-validation will create multiple train/test splits. The average accuracy resulted from each split provides a lower variance estimate compare to that of train/test split because accuracy changes drastically based on what is in the test set.\n",
    "\n",
    "We also chose randomized search (RandomizedSearchCV) over grid search (GridSearchCV) to reduce the computational time. Unlike grid search, randomized search does not iterate over each parameter simulatenously, allowing us to have computational control at the cost of a slightly worse performance. \n",
    "\n",
    "***Note: train/test split model selection and simple cross validation (using cross_val_score) can be found in the <a id='appendix-cv'>appendix</a> section.***"
   ]
  },
  {
   "cell_type": "code",
   "execution_count": null,
   "metadata": {
    "collapsed": true
   },
   "outputs": [],
   "source": [
    "# define the score to beat\n",
    "# which is currently the probability of randomly guessing the forest cover type correctly\n",
    "best_accuracy = np.round(1/7, 4)"
   ]
  },
  {
   "cell_type": "code",
   "execution_count": null,
   "metadata": {
    "collapsed": true,
    "scrolled": false
   },
   "outputs": [],
   "source": [
    "# --------------------------------------------------------------------------------\n",
    "# Randomized Search Cross Validation \n",
    "# --------------------------------------------------------------------------------\n",
    "\n",
    "# define variable to store output\n",
    "output_rscv = [None] * 6\n",
    "\n",
    "# 1. Logistic Regression\n",
    "'''\n",
    "lr = LogisticRegression(multi_class='multinomial', penalty='l2', max_iter=100, random_state=random_state)\n",
    "param_grid = dict(solver=['newton-cg', 'lbfgs', 'sag'], \n",
    "                  C=[0.001, 0.01, 0.1, 1, 10, 100, 1000])\n",
    "rscv = RandomizedSearchCV(lr, param_grid, cv=10, scoring='accuracy')\n",
    "rscv.fit(train_data, train_labels)                                                                          \n",
    "output_rscv[0] = rscv.best_score_\n",
    "# print out params for the best model\n",
    "print('LR best params: {}'.format(rscv.best_params_))\n",
    "'''\n",
    "\n",
    "# 2. Naive Bayes\n",
    "nb = GaussianNB()\n",
    "param_grid = {}\n",
    "rscv = GridSearchCV(nb, param_grid, cv=10, scoring='accuracy')\n",
    "rscv.fit(train_data, train_labels)                                                                          \n",
    "output_rscv[1] = rscv.best_score_\n",
    "# print out params for the best model\n",
    "print('NB best params: {}'.format(rscv.best_params_))\n",
    "                                                                          \n",
    "# 3. K-Nearest Neighbors\n",
    "knn = KNeighborsClassifier()\n",
    "param_grid = dict(n_neighbors=range(1, 30), \n",
    "                  weights=['uniform', 'distance'])\n",
    "rscv = RandomizedSearchCV(knn, param_grid, cv=10, scoring='accuracy')\n",
    "rscv.fit(train_data, train_labels)                                                                          \n",
    "output_rscv[2] = rscv.best_score_\n",
    "# print out params for the best model\n",
    "print('KNN best params: {}'.format(rscv.best_params_))\n",
    "\n",
    "# 4. Support Vector Machine\n",
    "svm = SVM.SVC(random_state=random_state) \n",
    "param_grid = dict(C=[0.001, 0.01, 0.1, 1, 10], \n",
    "                  gamma=[0.001, 0.01, 0.1, 1])\n",
    "rscv = RandomizedSearchCV(svm, param_grid, cv=10, scoring='accuracy')\n",
    "rscv.fit(train_data, train_labels)                                                                          \n",
    "output_rscv[3] = rscv.best_score_\n",
    "# print out params for the best model\n",
    "print('SVM best params: {}'.format(rscv.best_params_))\n",
    "                                                                          \n",
    "# 5. Decision Trees\n",
    "dt = DecisionTreeClassifier(random_state=random_state)\n",
    "param_grid = dict(criterion=['gini', 'entropy'], \n",
    "                  max_depth=[None, 2, 5, 10],\n",
    "                  min_samples_split=[2, 10, 20],\n",
    "                  min_samples_leaf=[1, 5, 10],\n",
    "                  max_leaf_nodes=[None, 5, 10, 20])\n",
    "rscv = RandomizedSearchCV(dt, param_grid, cv=10, scoring='accuracy')\n",
    "rscv.fit(train_data, train_labels)                                                                          \n",
    "output_rscv[4] = rscv.best_score_\n",
    "# print out params for the best model\n",
    "print('DT best params: {}'.format(rscv.best_params_))                                                  \n",
    "\n",
    "# 6. Neural Networks\n",
    "nn = MLPClassifier(random_state=random_state)\n",
    "param_grid = dict(learning_rate=['constant', 'invscaling', 'adaptive'],\n",
    "                  hidden_layer_sizes=[x for x in itertools.product((10,25,50,75,100),repeat=3)],\n",
    "                  alpha=[0.0001, 0.001, 0.01, 0.1, 1],\n",
    "                  activation=['logistic', 'relu', 'tanh', 'identity'])\n",
    "rscv = RandomizedSearchCV(nn, param_grid, cv=10, scoring='accuracy')\n",
    "rscv.fit(train_data, train_labels)                                                                          \n",
    "output_rscv[5] = rscv.best_score_\n",
    "# print out params for the best model\n",
    "print('NN best params: {}'.format(rscv.best_params_))  "
   ]
  },
  {
   "cell_type": "markdown",
   "metadata": {},
   "source": [
    "Output:\n",
    "* NB best params: {}\n",
    "* KNN best params: {'weights': 'distance', 'n_neighbors': 9}\n",
    "* SVM best params: {'gamma': 0.001, 'C': 10}\n",
    "* DT best params: {'min_samples_split': 10, 'min_samples_leaf': 5, 'max_leaf_nodes': None, 'max_depth': 10, 'criterion': 'entropy'}\n",
    "* NN best params: {'learning_rate': 'adaptive', 'hidden_layer_sizes': (50, 75, 75), 'alpha': 1, 'activation': 'tanh'}"
   ]
  },
  {
   "cell_type": "code",
   "execution_count": null,
   "metadata": {},
   "outputs": [],
   "source": [
    "# --------------------------------------------------------------------------------\n",
    "# Randomized Search Cross Validation w/ F.E. data\n",
    "# --------------------------------------------------------------------------------\n",
    "\n",
    "# define variable to store output\n",
    "output_rscv_fe = [None] * 6\n",
    "\n",
    "# 1. Logistic Regression\n",
    "'''\n",
    "lr = LogisticRegression(multi_class='multinomial', penalty='l2', max_iter=100, random_state=random_state)\n",
    "param_grid = dict(solver=['newton-cg', 'lbfgs', 'sag'], \n",
    "                  C=[0.001, 0.01, 0.1, 1, 10, 100, 1000])\n",
    "rscv = RandomizedSearchCV(lr, param_grid, cv=10, scoring='accuracy')\n",
    "rscv.fit(fe_train_data, fe_train_labels)                                                                          \n",
    "output_rscv_fe[0] = rscv.best_score_\n",
    "# print out params for the best model\n",
    "print('LR best params: {}'.format(rscv.best_params_))\n",
    "'''\n",
    "\n",
    "# 2. Naive Bayes\n",
    "nb = GaussianNB()\n",
    "param_grid = {}\n",
    "rscv = GridSearchCV(nb, param_grid, cv=10, scoring='accuracy')\n",
    "rscv.fit(fe_train_data, fe_train_labels)                                                                          \n",
    "output_rscv_fe[1] = rscv.best_score_\n",
    "# print out params for the best model\n",
    "print('NB best params: {}'.format(rscv.best_params_))\n",
    "                                                                          \n",
    "# 3. K-Nearest Neighbors\n",
    "knn = KNeighborsClassifier()\n",
    "param_grid = dict(n_neighbors=range(1, 30), \n",
    "                  weights=['uniform', 'distance'])\n",
    "rscv = RandomizedSearchCV(knn, param_grid, cv=10, scoring='accuracy')\n",
    "rscv.fit(fe_train_data, fe_train_labels)                                                                          \n",
    "output_rscv_fe[2] = rscv.best_score_\n",
    "# print out params for the best model\n",
    "print('KNN best params: {}'.format(rscv.best_params_))\n",
    "\n",
    "# 4. Support Vector Machine\n",
    "svm = SVM.SVC(random_state=random_state) \n",
    "param_grid = dict(C=[0.001, 0.01, 0.1, 1, 10], \n",
    "                  gamma=[0.001, 0.01, 0.1, 1])\n",
    "rscv = RandomizedSearchCV(svm, param_grid, cv=10, scoring='accuracy')                                       \n",
    "output_rscv_fe[3] = rscv.best_score_\n",
    "# print out params for the best model\n",
    "print('SVM best params: {}'.format(rscv.best_params_))\n",
    "                                                                          \n",
    "# 5. Decision Trees\n",
    "dt = DecisionTreeClassifier(random_state=random_state)\n",
    "param_grid = dict(criterion=['gini', 'entropy'], \n",
    "                  max_depth=[None, 2, 5, 10],\n",
    "                  min_samples_split=[2, 10, 20],\n",
    "                  min_samples_leaf=[1, 5, 10],\n",
    "                  max_leaf_nodes=[None, 5, 10, 20])\n",
    "rscv = RandomizedSearchCV(dt, param_grid, cv=10, scoring='accuracy')\n",
    "rscv.fit(fe_train_data, fe_train_labels)                                                                          \n",
    "output_rscv_fe[4] = rscv.best_score_\n",
    "# print out params for the best model\n",
    "print('DT best params: {}'.format(rscv.best_params_))                                                  \n",
    "\n",
    "# 6. Neural Networks\n",
    "nn = MLPClassifier(random_state=random_state)\n",
    "param_grid = dict(learning_rate=['constant', 'invscaling', 'adaptive'],\n",
    "                  hidden_layer_sizes=[x for x in itertools.product((10,25,50,75,100),repeat=3)],\n",
    "                  alpha=[0.0001, 0.001, 0.01, 0.1, 1],\n",
    "                  activation=['logistic', 'relu', 'tanh', 'identity'])\n",
    "rscv = RandomizedSearchCV(nn, param_grid, cv=10, scoring='accuracy')\n",
    "rscv.fit(fe_train_data, fe_train_labels)                                                                          \n",
    "output_rscv[5] = rscv.best_score_\n",
    "# print out params for the best model\n",
    "print('NN best params: {}'.format(rscv.best_params_))  "
   ]
  },
  {
   "cell_type": "markdown",
   "metadata": {},
   "source": [
    "Output:\n",
    "\n",
    "TODO: Run after completion of feature engineering"
   ]
  },
  {
   "cell_type": "markdown",
   "metadata": {},
   "source": [
    "<a id='model-results'/>"
   ]
  },
  {
   "cell_type": "markdown",
   "metadata": {},
   "source": [
    "### Model Results\n",
    "\n",
    "As shown from the table below, K-Nearest Neighbors and Decision Trees perform better than the other classification models. This result is further supported by the train/test split test in the <a id='appendix-cv'>appendix</a> section."
   ]
  },
  {
   "cell_type": "code",
   "execution_count": null,
   "metadata": {
    "collapsed": true
   },
   "outputs": [],
   "source": [
    "print('goal better than {}'.format())\n",
    "pd.DataFrame({'Randomized Search CV': output_rscv}, \n",
    "             columns=['Randomized Search CV'],\n",
    "             index=['Logistic Regression', 'Naive Bayes', 'KNN', 'SVM', 'Decision Trees', 'Neural Networks'])"
   ]
  },
  {
   "cell_type": "markdown",
   "metadata": {},
   "source": [
    "Output:\n",
    "![Model Results](./img/cv-results.png)\n"
   ]
  },
  {
   "cell_type": "code",
   "execution_count": null,
   "metadata": {
    "scrolled": true
   },
   "outputs": [],
   "source": [
    "# re-define the best scores\n",
    "output_rscv = [n for n in output_rscv if n != None]\n",
    "best_accuracy = max(output_rscv) if max(output_rscv) > best_accuracy else best_accuracy\n",
    "best_accuracy"
   ]
  },
  {
   "cell_type": "markdown",
   "metadata": {},
   "source": [
    "<a id='ensemble-models'/>"
   ]
  },
  {
   "cell_type": "markdown",
   "metadata": {},
   "source": [
    "## Ensemble Models\n",
    "\n",
    "To improve the accuracy of the models, we decided to combine several models and average their predictions. There are three ways to ensemble the models. One way, called the average methods, will build the models independently which will help in reducing the variance and therefore fine tuning the prediction to the expected outcome. In contrast, the second way, called the boosting methods, will build the models sequentially in order to reduce the bias of the combined estimators, improving the performance score. Lastly, the third way, called the voting methods, will act as a wrapper to the independently build models and average the predictions of the sub-models when making predictions. Voting is similar to stacking (discussed in the next section) minus the adding of the weights to the predictions of the sub-models.   \n",
    "\n",
    "In summary, ensembling build multiple models typically of the same type in order to reduce variance (average methods) and to reduce bias (boosting methods). It can also be used with models of different types (like in the case of the voting methods) in order to balance out their individual weaknesses.\n",
    "\n",
    "The ensemble methods that we will try out are as follow:\n",
    " \n",
    "1. (average methods) Bagged Decision Trees \n",
    "2. (average methods) Random Forest\n",
    "3. (average methods) Extra Trees\n",
    "4. (boosting methods) Ada Boost\n",
    "5. (boosting methods) Stochastic Gradient Boosting\n",
    "6. (voting methods) Voting"
   ]
  },
  {
   "cell_type": "code",
   "execution_count": null,
   "metadata": {},
   "outputs": [],
   "source": [
    "# --------------------------------------------------------------------------------\n",
    "# Ensemble Models \n",
    "# --------------------------------------------------------------------------------\n",
    "\n",
    "# define variable to store output\n",
    "output_ensemble = [None] * 6\n",
    "\n",
    "# 1. Bagged Decision Trees\n",
    "                                                                          \n",
    "# 2. Random Forest\n",
    "rfc = RandomForestClassifier(n_estimators=100, bootstrap=True, oob_score=True)\n",
    "rfc.fit(fe_train_data, fe_train_labels)\n",
    "\n",
    "# 3. Extra Trees\n",
    "                                                                          \n",
    "# 4. Ada Boost                                                \n",
    "\n",
    "# 5. Stochastic Gradient Boosting\n",
    "\n",
    "# 6. Voting  "
   ]
  },
  {
   "cell_type": "markdown",
   "metadata": {},
   "source": [
    "### List Important Features"
   ]
  },
  {
   "cell_type": "code",
   "execution_count": null,
   "metadata": {},
   "outputs": [],
   "source": [
    "# 2. Random Forest\n",
    "# - list important features\n",
    "print(pd.Series(rfc.feature_importances_, index=fe_train_data.columns).sort_values(ascending=False))\n",
    "# - plot important features\n",
    "fig, ax = plt.subplots(figsize=(10,10))\n",
    "ax = sns.barplot(x=feature_imp, y=feature_imp.index, ax=ax)\n",
    "plt.xlabel('Feature Importance Score')\n",
    "plt.ylabel('Features')\n",
    "plt.title('Visualizing Important Features')\n",
    "plt.show()"
   ]
  },
  {
   "cell_type": "markdown",
   "metadata": {},
   "source": [
    "<a id='ensemble-results'/>"
   ]
  },
  {
   "cell_type": "markdown",
   "metadata": {},
   "source": [
    "### Ensemble Results\n",
    "\n",
    "TODO: Explain the ensemble results"
   ]
  },
  {
   "cell_type": "code",
   "execution_count": null,
   "metadata": {
    "collapsed": true
   },
   "outputs": [],
   "source": [
    "print('goal better than {}'.format(1/7))\n",
    "pd.DataFrame({'Ensemble': output_ensemble}, \n",
    "             columns=['Ensemble'],\n",
    "             index=['Bagged Decision Trees', 'Random Forest', 'Extra Trees', 'Ada Boost', 'Stochastic Gradient Descent', 'Voting'])"
   ]
  },
  {
   "cell_type": "code",
   "execution_count": null,
   "metadata": {
    "collapsed": true
   },
   "outputs": [],
   "source": [
    "# re-define the best scores\n",
    "output_ensemble = [n for n in output_ensemble if n != None]\n",
    "best_accuracy = max(output_rscv) if max(output_rscv) > best_accuracy else best_accuracy\n",
    "best_accuracy"
   ]
  },
  {
   "cell_type": "markdown",
   "metadata": {},
   "source": [
    "<a id='stack-models'/>"
   ]
  },
  {
   "cell_type": "markdown",
   "metadata": {},
   "source": [
    "## Stack Models\n",
    "\n",
    "With 54 features, it does not seem realistic that we fit the entire feature set into one model type. For this reason, we take a look at stack modeling which generates a new model from multiple predictive models. \n",
    "\n",
    "* https://machinelearningmastery.com/implementing-stacking-scratch-python/\n",
    "* http://blog.kaggle.com/2016/12/27/a-kagglers-guide-to-model-stacking-in-practice/"
   ]
  },
  {
   "cell_type": "code",
   "execution_count": null,
   "metadata": {
    "collapsed": true
   },
   "outputs": [],
   "source": []
  },
  {
   "cell_type": "markdown",
   "metadata": {},
   "source": [
    "<a id='stack-results'/>"
   ]
  },
  {
   "cell_type": "markdown",
   "metadata": {},
   "source": [
    "### Stack Results\n",
    "\n",
    "TODO: Explain the stack results"
   ]
  },
  {
   "cell_type": "code",
   "execution_count": null,
   "metadata": {
    "collapsed": true
   },
   "outputs": [],
   "source": []
  },
  {
   "cell_type": "markdown",
   "metadata": {},
   "source": [
    "<a id='conclusion'/>"
   ]
  },
  {
   "cell_type": "markdown",
   "metadata": {},
   "source": [
    "## Conclusion\n",
    "\n",
    "TODO: Add conclusion"
   ]
  },
  {
   "cell_type": "code",
   "execution_count": null,
   "metadata": {
    "collapsed": true
   },
   "outputs": [],
   "source": [
    "# TODO: not yet working, draw the plot that classify each cover type\n",
    "\n",
    "from matplotlib.colors import ListedColormap\n",
    "\n",
    "def plot_decision_regions(X,y,classifier,test_idx=None,resolution=0.02):\n",
    "    \n",
    "    # Initialise the marker types and colors\n",
    "    markers = ('s','x','o','^','v')\n",
    "    colors = ('red','blue','lightgreen','gray','cyan')\n",
    "    color_Map = ListedColormap(colors[:len(np.unique(y))]) #we take the color mapping correspoding to the \n",
    "                                                            #amount of classes in the target data\n",
    "    \n",
    "    # Parameters for the graph and decision surface\n",
    "    x1_min = X[:,0].min() - 1\n",
    "    x1_max = X[:,0].max() + 1\n",
    "    x2_min = X[:,1].min() - 1\n",
    "    x2_max = X[:,1].max() + 1\n",
    "    xx1, xx2 = np.meshgrid(np.arange(x1_min,x1_max,resolution),\n",
    "                           np.arange(x2_min,x2_max,resolution))\n",
    "    \n",
    "    Z = classifier.predict(np.array([xx1.ravel(),xx2.ravel()]).T)\n",
    "    Z = Z.reshape(xx1.shape)\n",
    "    \n",
    "    plt.contour(xx1,xx2,Z,alpha=0.4,cmap = color_Map)\n",
    "    plt.xlim(xx1.min(),xx1.max())\n",
    "    plt.ylim(xx2.min(),xx2.max())\n",
    "    \n",
    "    # Plot samples\n",
    "    X_test, Y_test = X[test_idx,:], y[test_idx]\n",
    "    \n",
    "    for idx, cl in enumerate(np.unique(y)):\n",
    "        plt.scatter(x = X[y == cl, 0], y = X[y == cl, 1],\n",
    "                    alpha = 0.8, c = color_Map(idx),\n",
    "                    marker = markers[idx], label = cl\n",
    "                   )\n",
    "\n",
    "\n",
    "x = np.vstack((s_fe_train_data, s_fe_dev_data))\n",
    "y = np.hstack((s_fe_train_labels, s_fe_dev_labels))\n",
    "plot_decision_regions(X=x, y=y, classifier=lr)"
   ]
  },
  {
   "cell_type": "markdown",
   "metadata": {},
   "source": [
    "<a id='references'/>"
   ]
  },
  {
   "cell_type": "markdown",
   "metadata": {},
   "source": [
    "## References\n",
    "1. Bache, K. & Lichman, M. (2013). UCI Machine Learning Repository. Irvine, CA: University of California, School of Information and Computer Science\n",
    "2. “Colorado's Major Tree Species.” Colorado State Forest Service, csfs.colostate.edu/colorado-trees/colorados-major-tree-species/#1466527937174-cd5c5e60-5efc.\n",
    "3. Slope, Aspect, and Hillshade.” GEOG 571: Intelligence Analysis, Cultural Geography, and Homeland Security, www.e-education.psu.edu/geog480/node/490.\n",
    "\n",
    "TODO: MLA these references?\n",
    "\n",
    "* https://www.kaggle.com/c/forest-cover-type-kernels-only\n",
    "* http://nbviewer.jupyter.org/github/aguschin/kaggle/blob/master/forestCoverType_featuresEngineering.ipynb\n",
    "* https://cseweb.ucsd.edu/~jmcauley/cse255/reports/wi15/Yerlan_Idelbayev.pdf\n",
    "* https://shankarmsy.github.io/posts/forest-cover-types.html\n",
    "* https://www.fs.fed.us/rm/pubs_other/rmrs_2007_stage_a002.pdf\n",
    "\n"
   ]
  },
  {
   "cell_type": "markdown",
   "metadata": {},
   "source": [
    "<a id='appendix'/>"
   ]
  },
  {
   "cell_type": "markdown",
   "metadata": {},
   "source": [
    "## Appendix"
   ]
  },
  {
   "cell_type": "markdown",
   "metadata": {},
   "source": [
    "<a id='appendix-cv'/>"
   ]
  },
  {
   "cell_type": "markdown",
   "metadata": {},
   "source": [
    "### Appendix: Cross Validation"
   ]
  },
  {
   "cell_type": "markdown",
   "metadata": {},
   "source": [
    "#### Train/Test Split"
   ]
  },
  {
   "cell_type": "markdown",
   "metadata": {},
   "source": [
    "Default params for base case:\n",
    "\n",
    "```\n",
    "1. LogisticRegression(C=1.0, class_weight=None, dual=False, fit_intercept=True,\n",
    "          intercept_scaling=1, max_iter=100, multi_class='multinomial',\n",
    "          n_jobs=1, penalty='l2', random_state=7, solver='newton-cg',\n",
    "          tol=0.0001, verbose=0, warm_start=False)\n",
    "2. GaussianNB(priors=None)\n",
    "3. KNeighborsClassifier(algorithm='auto', leaf_size=30, metric='minkowski',\n",
    "           metric_params=None, n_jobs=1, n_neighbors=5, p=2,\n",
    "           weights='uniform')\n",
    "4. SVC(C=1.0, cache_size=200, class_weight=None, coef0=0.0,\n",
    "       decision_function_shape=None, degree=3, gamma='auto', kernel='rbf',\n",
    "       max_iter=-1, probability=False, random_state=7, shrinking=True,\n",
    "       tol=0.001, verbose=False)\n",
    "5. DecisionTreeClassifier(class_weight=None, criterion='gini', max_depth=None,\n",
    "            max_features=None, max_leaf_nodes=None,\n",
    "            min_impurity_split=1e-07, min_samples_leaf=1,\n",
    "            min_samples_split=2, min_weight_fraction_leaf=0.0,\n",
    "            presort=False, random_state=7, splitter='best')\n",
    "6. MLPClassifier(activation='relu', alpha=0.0001, batch_size='auto', beta_1=0.9,\n",
    "       beta_2=0.999, early_stopping=False, epsilon=1e-08,\n",
    "       hidden_layer_sizes=(100,), learning_rate='constant',\n",
    "       learning_rate_init=0.001, max_iter=200, momentum=0.9,\n",
    "       nesterovs_momentum=True, power_t=0.5, random_state=7,\n",
    "       shuffle=True, solver='adam', tol=0.0001, validation_fraction=0.1,\n",
    "       verbose=False, warm_start=False)\n",
    "```"
   ]
  },
  {
   "cell_type": "code",
   "execution_count": null,
   "metadata": {
    "collapsed": true
   },
   "outputs": [],
   "source": [
    "# --------------------------------------------------------------------------------\n",
    "# Train/Test Split\n",
    "# --------------------------------------------------------------------------------\n",
    "\n",
    "# define variable to store output\n",
    "output_tts = [None] * 6\n",
    "\n",
    "# subset train data into dev data\n",
    "# train_data -> 80% s_train_data, 20% s_dev_data\n",
    "s_train_data, s_dev_data, s_train_labels, s_dev_labels = train_test_split(train_data, train_labels, stratify=train_labels, test_size=0.2, random_state=random_state)\n",
    "                                                                          \n",
    "# 1. Logistic Regression\n",
    "'''\n",
    "lr = LogisticRegression(multi_class='multinomial', penalty='l2', solver='newton-cg', random_state=random_state)\n",
    "lr.fit(s_train_data, s_train_labels)\n",
    "pred_dev_labels = lr.predict(s_dev_data)\n",
    "output_tts[0] = accuracy_score(s_dev_labels, pred_dev_labels)\n",
    "'''\n",
    "\n",
    "# 2. Naive Bayes\n",
    "nb = GaussianNB()\n",
    "nb.fit(s_train_data, s_train_labels)\n",
    "pred_dev_labels = nb.predict(s_dev_data)\n",
    "output_tts[1] = accuracy_score(s_dev_labels, pred_dev_labels)\n",
    "                                                                          \n",
    "# 3. K-Nearest Neighbors\n",
    "knn = KNeighborsClassifier()\n",
    "knn.fit(s_train_data, s_train_labels)                                                                          \n",
    "pred_dev_labels = knn.predict(s_dev_data)\n",
    "output_tts[2] = accuracy_score(s_dev_labels, pred_dev_labels)\n",
    "                                                                          \n",
    "# 4. Support Vector Machine\n",
    "svm = SVM.SVC(random_state=random_state) \n",
    "svm.fit(s_train_data, s_train_labels)                                                    \n",
    "pred_dev_labels = svm.predict(s_dev_data)\n",
    "output_tts[3] = accuracy_score(s_dev_labels, pred_dev_labels)\n",
    "                                                                          \n",
    "# 5. Decision Trees\n",
    "dt = DecisionTreeClassifier(random_state=random_state)\n",
    "dt.fit(s_train_data, s_train_labels)                                                    \n",
    "pred_dev_labels = dt.predict(s_dev_data)\n",
    "output_tts[4] = accuracy_score(s_dev_labels, pred_dev_labels)                                                                      \n",
    "\n",
    "# 6. Neural Networks\n",
    "nn = MLPClassifier(random_state=random_state)\n",
    "nn.fit(s_train_data, s_train_labels)                                                    \n",
    "pred_dev_labels = nn.predict(s_dev_data)\n",
    "output_tts[5] = accuracy_score(s_dev_labels, pred_dev_labels)  "
   ]
  },
  {
   "cell_type": "code",
   "execution_count": null,
   "metadata": {
    "collapsed": true
   },
   "outputs": [],
   "source": [
    "# --------------------------------------------------------------------------------\n",
    "# Train/Test Split w/ F.E. data\n",
    "# --------------------------------------------------------------------------------\n",
    "\n",
    "# define variable to store output\n",
    "output_tts_fe = [None] * 6\n",
    "\n",
    "# subset feature engineering's train data into dev data\n",
    "# fe_train_data -> 80% s_fe_train_data, 20% s_fe_dev_data\n",
    "s_fe_train_data, s_fe_dev_data, s_fe_train_labels, s_fe_dev_labels = train_test_split(fe_train_data, fe_train_labels, stratify=fe_train_labels, test_size=0.2, random_state=random_state)\n",
    "                                                                          \n",
    "# 1. Logistic Regression\n",
    "'''\n",
    "lr = LogisticRegression(multi_class='multinomial', penalty='l2', solver='newton-cg', random_state=random_state)\n",
    "lr.fit(s_fe_train_data, s_fe_train_labels)\n",
    "pred_dev_labels = lr.predict(s_fe_dev_data)\n",
    "output_tts_fe[0] = accuracy_score(s_fe_dev_labels, pred_dev_labels)\n",
    "'''\n",
    "\n",
    "# 2. Naive Bayes\n",
    "nb = GaussianNB()\n",
    "nb.fit(s_fe_train_data, s_fe_train_labels)\n",
    "pred_dev_labels = nb.predict(s_fe_dev_data)\n",
    "output_tts_fe[1] = accuracy_score(s_fe_dev_labels, pred_dev_labels)\n",
    "                                                                          \n",
    "# 3. K-Nearest Neighbors\n",
    "knn = KNeighborsClassifier()\n",
    "knn.fit(s_fe_train_data, s_fe_train_labels)                                                                          \n",
    "pred_dev_labels = knn.predict(s_fe_dev_data)\n",
    "output_tts_fe[2] = accuracy_score(s_fe_dev_labels, pred_dev_labels)\n",
    "                                                                          \n",
    "# 4. Support Vector Machine\n",
    "svm = SVM.SVC(random_state=random_state) \n",
    "svm.fit(s_fe_train_data, s_fe_train_labels)                                                    \n",
    "pred_dev_labels = svm.predict(s_fe_dev_data)\n",
    "output_tts_fe[3] = accuracy_score(s_fe_dev_labels, pred_dev_labels)\n",
    "                                                                          \n",
    "# 5. Decision Trees\n",
    "dt = DecisionTreeClassifier(random_state=random_state)\n",
    "dt.fit(s_fe_train_data, s_fe_train_labels)                                                    \n",
    "pred_dev_labels = dt.predict(s_fe_dev_data)\n",
    "output_tts_fe[4] = accuracy_score(s_fe_dev_labels, pred_dev_labels)                                                                      \n",
    "\n",
    "# 6. Neural Networks\n",
    "nn = MLPClassifier(random_state=random_state)\n",
    "nn.fit(s_fe_train_data, s_fe_train_labels)                                                    \n",
    "pred_dev_labels = nn.predict(s_fe_dev_data)\n",
    "output_tts_fe[5] = accuracy_score(s_fe_dev_labels, pred_dev_labels)  "
   ]
  },
  {
   "cell_type": "markdown",
   "metadata": {},
   "source": [
    "#### cross_val_score"
   ]
  },
  {
   "cell_type": "code",
   "execution_count": null,
   "metadata": {
    "collapsed": true
   },
   "outputs": [],
   "source": [
    "# --------------------------------------------------------------------------------\n",
    "# Cross Validation \n",
    "# --------------------------------------------------------------------------------\n",
    "\n",
    "# define variable to store output\n",
    "output_cv = [None] * 6\n",
    "                                                      \n",
    "# 1. Logistic Regression\n",
    "'''\n",
    "lr = LogisticRegression(multi_class='multinomial', penalty='l2', solver='newton-cg', random_state=random_state)\n",
    "lr.fit(train_data, train_labels)\n",
    "output_cv[0] = cross_val_score(lr, train_data, train_labels, cv=10, scoring='accuracy').mean()\n",
    "'''\n",
    "\n",
    "# 2. Naive Bayes\n",
    "nb = GaussianNB()\n",
    "nb.fit(train_data, train_labels)\n",
    "output_cv[1] = cross_val_score(nb, train_data, train_labels, cv=10, scoring='accuracy').mean()\n",
    "                                                                          \n",
    "# 3. K-Nearest Neighbors\n",
    "knn = KNeighborsClassifier()\n",
    "knn.fit(train_data, train_labels)                                                                          \n",
    "output_cv[2] = cross_val_score(knn, train_data, train_labels, cv=10, scoring='accuracy').mean()\n",
    "                                                                          \n",
    "# 4. Support Vector Machine\n",
    "svm = SVM.SVC(random_state=random_state) \n",
    "svm.fit(train_data, train_labels)                                                    \n",
    "output_cv[3] = cross_val_score(svm, train_data, train_labels, cv=10, scoring='accuracy').mean()\n",
    "                                                                          \n",
    "# 5. Decision Trees\n",
    "dt = DecisionTreeClassifier(random_state=random_state)\n",
    "dt.fit(train_data, train_labels)                                                    \n",
    "output_cv[4] = cross_val_score(dt, train_data, train_labels, cv=10, scoring='accuracy').mean()                                                      \n",
    "\n",
    "# 6. Neural Networks\n",
    "nn = MLPClassifier(random_state=random_state)\n",
    "nn.fit(train_data, train_labels)                                                    \n",
    "output_cv[5] = cross_val_score(nn, train_data, train_labels, cv=10, scoring='accuracy').mean()"
   ]
  },
  {
   "cell_type": "code",
   "execution_count": null,
   "metadata": {
    "collapsed": true
   },
   "outputs": [],
   "source": [
    "# --------------------------------------------------------------------------------\n",
    "# Cross Validation w/ F.E. data\n",
    "# --------------------------------------------------------------------------------\n",
    "\n",
    "# define variable to store output\n",
    "output_cv_fe = [None] * 6\n",
    "\n",
    "# 1. Logistic Regression\n",
    "'''\n",
    "lr = LogisticRegression(multi_class='multinomial', penalty='l2', solver='newton-cg', random_state=random_state)\n",
    "lr.fit(fe_train_data, fe_train_labels)\n",
    "output_cv_fe[0] = cross_val_score(lr, fe_train_data, fe_train_labels, cv=10, scoring='accuracy').mean()\n",
    "'''\n",
    "\n",
    "# 2. Naive Bayes\n",
    "nb = GaussianNB()\n",
    "nb.fit(fe_train_data, fe_train_labels)\n",
    "output_cv_fe[1] = cross_val_score(nb, fe_train_data, fe_train_labels, cv=10, scoring='accuracy').mean()\n",
    "                                                                          \n",
    "# 3. K-Nearest Neighbors\n",
    "knn = KNeighborsClassifier()\n",
    "knn.fit(fe_train_data, fe_train_labels)                                                                          \n",
    "output_cv_fe[2] = cross_val_score(knn, fe_train_data, fe_train_labels, cv=10, scoring='accuracy').mean()\n",
    "                                                                          \n",
    "# 4. Support Vector Machine\n",
    "svm = SVM.SVC(random_state=random_state) \n",
    "svm.fit(fe_train_data, fe_train_labels)                                                    \n",
    "output_cv_fe[3] = cross_val_score(svm, fe_train_data, fe_train_labels, cv=10, scoring='accuracy').mean()\n",
    "                                                                          \n",
    "# 5. Decision Trees\n",
    "dt = DecisionTreeClassifier(random_state=random_state)\n",
    "dt.fit(fe_train_data, fe_train_labels)                                                    \n",
    "output_cv_fe[4] = cross_val_score(dt, fe_train_data, fe_train_labels, cv=10, scoring='accuracy').mean()                                                      \n",
    "\n",
    "# 6. Neural Networks\n",
    "nn = MLPClassifier(random_state=random_state)\n",
    "nn.fit(fe_train_data, fe_train_labels)                                                    \n",
    "output_cv[5] = cross_val_score(nn, train_data, train_labels, cv=10, scoring='accuracy').mean()"
   ]
  },
  {
   "cell_type": "markdown",
   "metadata": {},
   "source": [
    "#### Model Results"
   ]
  },
  {
   "cell_type": "code",
   "execution_count": null,
   "metadata": {
    "collapsed": true
   },
   "outputs": [],
   "source": [
    "print('goal better than {}'.format(np.round(1/7, 4)))\n",
    "pd.DataFrame({'Train/Test Split': output_tts, 'Train/Test Split + FE': output_tts_fe,\n",
    "              'Cross Validation': output_cv, 'Cross Validation + FE': output_cv_fe}, \n",
    "             columns=['Train/Test Split', 'Train/Test Split + FE',\n",
    "                      'Cross Validation', 'Cross Validation + FE'],\n",
    "             index=['Logistic Regression', 'Naive Bayes', 'KNN', 'SVM', 'Decision Trees', 'Neural Networks'])"
   ]
  },
  {
   "cell_type": "markdown",
   "metadata": {},
   "source": [
    "Output:\n",
    "![Model Results](./img/appendix-cv-results.png)\n"
   ]
  },
  {
   "cell_type": "code",
   "execution_count": null,
   "metadata": {},
   "outputs": [],
   "source": [
    "%pwd\n"
   ]
  },
  {
   "cell_type": "code",
   "execution_count": null,
   "metadata": {
    "collapsed": true
   },
   "outputs": [],
   "source": []
  }
 ],
 "metadata": {
  "kernelspec": {
   "display_name": "Python 3",
   "language": "python",
   "name": "python3"
  },
  "language_info": {
   "codemirror_mode": {
    "name": "ipython",
    "version": 3
   },
   "file_extension": ".py",
   "mimetype": "text/x-python",
   "name": "python",
   "nbconvert_exporter": "python",
   "pygments_lexer": "ipython3",
   "version": "3.6.3"
  }
 },
 "nbformat": 4,
 "nbformat_minor": 2
}
