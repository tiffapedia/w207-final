{
 "cells": [
  {
   "cell_type": "code",
   "execution_count": null,
   "metadata": {},
   "outputs": [],
   "source": [
    "import math\n",
    "new_train = train.iloc[:,:-1]\n",
    "# Converting slope to rise/run\n",
    "new_train['percent_slope'] = new_train.apply(lambda row: (math.tan(row['Slope'])), axis=1)\n",
    "#new_train['percent_slope'].hist()\n",
    "\n",
    "# checking the correlation matrix after converting slope to rise/run\n",
    "# continuous_var = ['Elevation', 'Aspect', 'Slope', 'percent_slope', 'Horizontal_Distance_To_Hydrology', 'Vertical_Distance_To_Hydrology', 'Horizontal_Distance_To_Roadways', 'Hillshade_9am', 'Hillshade_Noon', 'Hillshade_3pm', 'Horizontal_Distance_To_Fire_Points' ]\n",
    "# cmap = sns.diverging_palette(220, 10, as_cmap=True) \n",
    "# correlations = new_train[continuous_var].corr()\n",
    "# print(sns.heatmap(correlations, cmap=cmap))\n",
    "\n",
    "\n",
    "# using the interaction term for slope and aspect (percent_slope*cos(aspect))\n",
    "#new_train['aspect_slope'] = new_train.apply(lambda row: (math.tan(row['Slope'])) * (math.sin(row['Aspect']) + math.cos(row['Aspect'])), axis=1)\n",
    "\n",
    "# using the interaction term for slope and aspect (sin(slope)*cos(aspect))\n",
    "#new_train['aspect_slope'] = new_train.apply(lambda row: (math.sin(row['Slope'])) * (math.cos(row['Aspect'])), axis=1)\n",
    "\n",
    "# squaring elevation, this increased score to 0.782\n",
    "new_train['elevation_square'] = new_train.apply(lambda row: row['Elevation']**2, axis=1)\n",
    "\n",
    "# how can we address the outlier in 9am(0)\n",
    "#new_train['log_hillshade_9am'] = new_train.apply(lambda row: math.log(row['Hillshade_9am']), axis=1)\n",
    "\n",
    "# taking log for hillshade_noon\n",
    "new_train['log_hillshade_Noon'] = new_train.apply(lambda row: math.log(row['Hillshade_Noon']), axis=1)\n",
    "#new_train.drop(['Hillshade_Noon'], axis=1)\n",
    "\n",
    "# was testing for different elevations\n",
    "# low_elevation= new_train.query('Elevation > 2000')\n",
    "# low_elevation['Hillshade_9am'].hist()\n",
    "# low_elevation['Hillshade_Noon'].hist()\n",
    "#low_elevation['Hillshade_3pm'].hist()\n",
    "\n",
    "X_train = new_train.values\n",
    "y_train = train.iloc[:,-1:].values.ravel()"
   ]
  },
  {
   "cell_type": "markdown",
   "metadata": {},
   "source": [
    "1. The one's commented out didn't result in any increase of the score\n",
    "2. The main imapct on score was from squaring the elevation increased the score to 0.782\n",
    "3. hillshade can be expressed as function of slope and aspect \n",
    " Hillshade = 255.0 * ((cos(Zenith_rad) * cos(Slope_rad)) +\n",
    "                 (sin(Zenith_rad) * sin(Slope_rad) * cos(Azimuth_rad - Aspect_rad)))\n",
    "4. Links that I looked at\n",
    "http://desktop.arcgis.com/en/arcmap/10.3/tools/spatial-analyst-toolbox/how-hillshade-works.htm\n",
    "https://www.fs.fed.us/rm/pubs_other/rmrs_2007_stage_a002.pdf - Just skimmed through it. Need to look at it in detail"
   ]
  }
 ],
 "metadata": {
  "kernelspec": {
   "display_name": "Python 3",
   "language": "python",
   "name": "python3"
  },
  "language_info": {
   "codemirror_mode": {
    "name": "ipython",
    "version": 3
   },
   "file_extension": ".py",
   "mimetype": "text/x-python",
   "name": "python",
   "nbconvert_exporter": "python",
   "pygments_lexer": "ipython3",
   "version": "3.6.5"
  }
 },
 "nbformat": 4,
 "nbformat_minor": 2
}
